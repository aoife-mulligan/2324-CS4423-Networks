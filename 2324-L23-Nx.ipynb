{
 "cells": [
  {
   "cell_type": "markdown",
   "metadata": {
    "slideshow": {
     "slide_type": "slide"
    }
   },
   "source": [
    "### CS4423 - Networks\n",
    "Angela Carnevale  \n",
    "School of Mathematical and Statistical Sciences  \n",
    "University of Galway"
   ]
  },
  {
   "cell_type": "markdown",
   "metadata": {
    "slideshow": {
     "slide_type": "subslide"
    }
   },
   "source": [
    "#### 6. Directed Networks\n",
    "\n",
    "# PageRank. "
   ]
  },
  {
   "cell_type": "markdown",
   "metadata": {
    "slideshow": {
     "slide_type": "subslide"
    }
   },
   "source": [
    "## History: chess tournaments"
   ]
  },
  {
   "cell_type": "markdown",
   "metadata": {
    "slideshow": {
     "slide_type": "subslide"
    }
   },
   "source": [
    "In his first mathematical paper in 1895, Edmund Landau suggested a new way to determine the winner in a chess tournament. Namely, one shouldn't just count wins and losses, but the quality of the player we win (or lose!) against should matter too... "
   ]
  },
  {
   "cell_type": "markdown",
   "metadata": {
    "slideshow": {
     "slide_type": "slide"
    }
   },
   "source": [
    "If this sounds familiar, it's because this is the first ever recorded use of **eigenvector** centrality. We have encountered this concept before when dealing with undirected networks. This is used, for instance, to determine the \"SJR\" index of scientific publications (based on the quality of journals)."
   ]
  },
  {
   "cell_type": "markdown",
   "metadata": {
    "slideshow": {
     "slide_type": "fragment"
    }
   },
   "source": [
    "Famously, this is also at the core of the main model of endorsement of web pages which search engines use."
   ]
  },
  {
   "cell_type": "markdown",
   "metadata": {
    "slideshow": {
     "slide_type": "slide"
    }
   },
   "source": [
    "## PageRank \n",
    "\n",
    "Based on the above discussion, a simpler model of endorsement for web pages involves only\n",
    "one numerical value $r(p)$ per page $p$, built on the principle that\n",
    "**a page is as important as the pages linking to it**.\n",
    "As before, these importance values can be obtained by\n",
    "repeatedly applying a suitable update rule to a set of current values."
   ]
  },
  {
   "cell_type": "markdown",
   "metadata": {
    "slideshow": {
     "slide_type": "subslide"
    }
   },
   "source": [
    "Specifically, PageRank is computed as follows.\n",
    "\n",
    "* If the network has $n$ nodes, each page $p$ receives an initial PageRank\n",
    "of $r(p) = 1/n$.\n",
    "\n",
    "* Choose a number of steps, $k$.\n",
    "\n",
    "* Perform the following update rule $k$ times."
   ]
  },
  {
   "cell_type": "markdown",
   "metadata": {
    "slideshow": {
     "slide_type": "subslide"
    }
   },
   "source": [
    "**Basic PageRank Update Rule:**\n",
    "Each page divides its current PageRank by the number of\n",
    "pages it links to, and passes this value on to those pages.\n",
    "In this way, each page updates its PageRank to be the sum of\n",
    "all the shares it receives from the pages linking to it.\n",
    "\n"
   ]
  },
  {
   "cell_type": "markdown",
   "metadata": {
    "slideshow": {
     "slide_type": "subslide"
    }
   },
   "source": [
    "As in each step, the total PageRank of all nodes is maintained\n",
    "(each node splits its PageRank into equal parts and passes this on,\n",
    "nothing is lost or gained overall), there is no need for normalization.\n",
    "\n",
    "After a number of steps, the PageRank values of the individual nodes \n",
    "stabilize.  These values form an equilibrium in the sense that\n",
    "another application of the update rule will produce exactly the same\n",
    "values."
   ]
  },
  {
   "cell_type": "markdown",
   "metadata": {
    "slideshow": {
     "slide_type": "subslide"
    }
   },
   "source": [
    "**Example.**  The following graph represents\n",
    "a network of $8$ web pages with hyperlinks.\n",
    "\n",
    "![pagerank](images/pagerank.png)"
   ]
  },
  {
   "cell_type": "markdown",
   "metadata": {},
   "source": [
    "The following table shows how the initial PageRank\n",
    "of $\\frac18$ of each page is updated under six iterations\n",
    "of the basic PageRank update rule\n",
    "and, in the bottom row, the limit values.\n",
    "\n",
    "![pagerank-p](images/pagerank-p.png)"
   ]
  },
  {
   "cell_type": "markdown",
   "metadata": {
    "slideshow": {
     "slide_type": "subslide"
    }
   },
   "source": [
    "For larger examples, one can implement this algorithm in `python`, as follows."
   ]
  },
  {
   "cell_type": "code",
   "execution_count": null,
   "metadata": {
    "slideshow": {
     "slide_type": "subslide"
    }
   },
   "outputs": [],
   "source": [
    "import networkx as nx\n",
    "n, m = 80, 120\n",
    "G = nx.gnm_random_graph(n, m, directed=True)"
   ]
  },
  {
   "cell_type": "code",
   "execution_count": null,
   "metadata": {
    "slideshow": {
     "slide_type": "subslide"
    }
   },
   "outputs": [],
   "source": [
    "G.out_degree()"
   ]
  },
  {
   "cell_type": "markdown",
   "metadata": {
    "slideshow": {
     "slide_type": "subslide"
    }
   },
   "source": [
    "The simple algorithm doesn't work if there is a node $x$ with no successors in $G$. (Why?)\n",
    "So for now, let's add some random edges to make sure each node $x$ has out-degree at least $1$."
   ]
  },
  {
   "cell_type": "code",
   "execution_count": null,
   "metadata": {
    "slideshow": {
     "slide_type": "subslide"
    }
   },
   "outputs": [],
   "source": [
    "import random\n",
    "\n",
    "for x in G:\n",
    "    y = x\n",
    "    while y == x:\n",
    "        y = random.randrange(n)\n",
    "    G.add_edge(x, y)"
   ]
  },
  {
   "cell_type": "code",
   "execution_count": null,
   "metadata": {
    "slideshow": {
     "slide_type": "subslide"
    }
   },
   "outputs": [],
   "source": [
    "def PageRank(G, k):\n",
    "    n = G.order()\n",
    "    r = { x: 1/n for x in G }\n",
    "    for i in range(k):\n",
    "        s = { x : 0 for x in G }\n",
    "        for x in G:\n",
    "            l = G.out_degree(x)\n",
    "            v = r[x]/l\n",
    "            for y in G.successors(x):\n",
    "                s[y] += v\n",
    "        r = s\n",
    "    return r"
   ]
  },
  {
   "cell_type": "code",
   "execution_count": null,
   "metadata": {
    "slideshow": {
     "slide_type": "subslide"
    }
   },
   "outputs": [],
   "source": [
    "k = 50\n",
    "pr = PageRank(G, k)\n",
    "[(k,pr[k]) for k in sorted(pr, key=pr.get)][:10]"
   ]
  },
  {
   "cell_type": "code",
   "execution_count": null,
   "metadata": {
    "slideshow": {
     "slide_type": "subslide"
    }
   },
   "outputs": [],
   "source": [
    "[(k,pr[k]) for k in sorted(pr, key=pr.get, reverse=True)][:10]"
   ]
  },
  {
   "cell_type": "markdown",
   "metadata": {
    "slideshow": {
     "slide_type": "subslide"
    }
   },
   "source": [
    "In terms of matrix algebra this process can be described as follows."
   ]
  },
  {
   "cell_type": "markdown",
   "metadata": {
    "slideshow": {
     "slide_type": "slide"
    }
   },
   "source": [
    "###  Spectral Analysis of PageRank"
   ]
  },
  {
   "cell_type": "markdown",
   "metadata": {
    "slideshow": {
     "slide_type": "subslide"
    }
   },
   "source": [
    "Here, we use a **variant of the adjacency matrix** $A$ of the directed graph $G = (X, E)$.\n",
    "\n",
    "Let $N$ be the $n \\times n$ matrix with entries $N_{ij} = 0$\n",
    "if node $x_j$ is not linked to node $x_i$ (as for the adjacency matrix $A$).\n",
    "And when $x_j \\to x_i$, then set $N_{ij} = 1/l_j$, \n",
    "where $l_j$ is the number of links out of $x_j$."
   ]
  },
  {
   "cell_type": "markdown",
   "metadata": {
    "slideshow": {
     "slide_type": "subslide"
    }
   },
   "source": [
    "Write $r = (r_1, \\dots, r_n)$ for the list of PageRank values of the nodes\n",
    "$X = \\{x_1, \\dots, x_n\\}$.  Then the **basic PageRank update rule**\n",
    "can be expressed as **matrix multiplication**:\n",
    "$$\n",
    "r \\gets N \\,r.\n",
    "$$"
   ]
  },
  {
   "cell_type": "markdown",
   "metadata": {
    "slideshow": {
     "slide_type": "subslide"
    }
   },
   "source": [
    "It can be shown that repeated application of the basic PageRank update rule\n",
    "lets the PageRank values converge towards a vector $r^{\\ast}$ with the property\n",
    "$$\n",
    "N\\, r^{\\ast} = r^{\\ast},\n",
    "$$\n",
    "that is, $r^{\\ast}$ is an **eigenvector** of $N$ for the eigenvalue $1$."
   ]
  },
  {
   "cell_type": "markdown",
   "metadata": {
    "slideshow": {
     "slide_type": "subslide"
    }
   },
   "source": [
    "The argument uses the [Perron-Frobenius Theorem](https://en.wikipedia.org/wiki/Perron%E2%80%93Frobenius_theorem) which we have seen before (in week 6).  Recall that, for a matrix in which all entries are non-negative (such as the matrix $N^T$) the theorem guarantees the existence of a **real eigenvalue**\n",
    "with corresponding **eigenvector having non-negative entries**.\n",
    "(Not every matrix with real entries has this property.)"
   ]
  },
  {
   "cell_type": "code",
   "execution_count": null,
   "metadata": {},
   "outputs": [],
   "source": []
  }
 ],
 "metadata": {
  "celltoolbar": "Slideshow",
  "kernelspec": {
   "display_name": "Python 3 (ipykernel)",
   "language": "python",
   "name": "python3"
  },
  "language_info": {
   "codemirror_mode": {
    "name": "ipython",
    "version": 3
   },
   "file_extension": ".py",
   "mimetype": "text/x-python",
   "name": "python",
   "nbconvert_exporter": "python",
   "pygments_lexer": "ipython3",
   "version": "3.9.7"
  }
 },
 "nbformat": 4,
 "nbformat_minor": 2
}
