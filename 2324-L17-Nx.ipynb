{
 "cells": [
  {
   "cell_type": "markdown",
   "metadata": {
    "slideshow": {
     "slide_type": "-"
    }
   },
   "source": [
    "### CS4423 - Networks\n",
    "Angela Carnevale  \n",
    "School of Mathematical and Statistical Sciences  \n",
    "University of Galway"
   ]
  },
  {
   "cell_type": "markdown",
   "metadata": {
    "slideshow": {
     "slide_type": "slide"
    }
   },
   "source": [
    "#### 5. Small Worlds\n",
    "\n",
    "# Week 9, lecture 1: Phase transitions: Giant Component.\n",
    "\n",
    "# Characteristic Path Length. Clustering."
   ]
  },
  {
   "cell_type": "code",
   "execution_count": null,
   "metadata": {
    "slideshow": {
     "slide_type": "subslide"
    }
   },
   "outputs": [],
   "source": [
    "import networkx as nx\n",
    "opts = { \"with_labels\" : True, \"node_color\": 'y' }"
   ]
  },
  {
   "cell_type": "markdown",
   "metadata": {},
   "source": [
    "We have seen that the threshold probability for the appearance of a *connected* subgraph $F$ of order $a$ and size $b$ is \n",
    "\n",
    "$$p_F(n)=n^{-\\frac{a}{b}},$$\n",
    "meaning that\n",
    "\n",
    "* If $p(n)$ decays **faster** than $p_F(n)$ (think: in our $G(n,p(n))$ the likelihood of a certain edge is lower than in the threshold case) then almost every graph sampled from  $G(n,p(n))$ does **not** have $F$ as a subgraph;\n",
    "\n",
    "* If $p(n)$ decays **slower** than $p_F(n)$ (think: in our $G(n,p(n))$ the likelihood of a certain edge is higher than in the threshold case) then almost every graph sampled from  $G(n,p(n))$ **does** have $F$ as a subgraph;\n",
    "\n",
    "* If $p(n)=c n^{-\\frac{a}{b}}$ for some constant $c$, then we can find an explicit expression for the expected number of occurrences of the subgraph $F$ in a graph sampled from $G(n,p(n))$. (This is given in terms of $a,b,p$ and also $|\\operatorname{Aut(F)}|$ &ndash; but don't worry about that formula!)"
   ]
  },
  {
   "cell_type": "markdown",
   "metadata": {
    "slideshow": {
     "slide_type": "subslide"
    }
   },
   "source": [
    "### **Connectivity** \n",
    "\n",
    "$p(n) = \\frac1n \\ln n$ is the threshold probability for $G$ to be connected. \n",
    "(This corresponds to $m = \\frac12 n \\ln n$ in model $A$.)\n",
    "\n"
   ]
  },
  {
   "cell_type": "markdown",
   "metadata": {
    "slideshow": {
     "slide_type": "slide"
    }
   },
   "source": [
    "##  The Giant Connected Component"
   ]
  },
  {
   "cell_type": "markdown",
   "metadata": {
    "slideshow": {
     "slide_type": "subslide"
    }
   },
   "source": [
    "**Definition (Giant Component).**\n",
    "A connected component of a graph $G$ is called a **giant component**\n",
    "if its number of nodes increases with the order $n$ of $G$ as\n",
    "some positive power of $n$."
   ]
  },
  {
   "cell_type": "markdown",
   "metadata": {
    "slideshow": {
     "slide_type": "subslide"
    }
   },
   "source": [
    "Suppose $p(n) = cn^{-1}$ for some positive constant $c$.  (Then the average degree $\\langle k \\rangle = pn = c$ remains fixed as $n \\to \\infty$.)"
   ]
  },
  {
   "cell_type": "markdown",
   "metadata": {
    "slideshow": {
     "slide_type": "subslide"
    }
   },
   "source": [
    "**Theorem (Erdős-Rényi)**.\n",
    "* If $c < 1$ the graph contains many small components, orders bounded by $O(\\ln n)$.\n",
    "* If $c = 1$ the graph has large components of order $O(n^{2/3})$.\n",
    "* If $c > 1$ there is a unique **giant component** of order $O(n)$."
   ]
  },
  {
   "cell_type": "markdown",
   "metadata": {
    "slideshow": {
     "slide_type": "subslide"
    }
   },
   "source": [
    "* In practice, in a given graph $G$ of order $n$, \n",
    "a giant component \n",
    "appears when the average degree is $1$, i.e., if $m = \\frac12n$, and then\n",
    "has order $n^{2/3}$\n",
    "(e.g., $100^{2/3} \\approx 21.5$.)"
   ]
  },
  {
   "cell_type": "markdown",
   "metadata": {},
   "source": [
    "We'll experiment with giant components when discussing directed networks and the structure of large networks such as the WWW."
   ]
  },
  {
   "cell_type": "markdown",
   "metadata": {
    "slideshow": {
     "slide_type": "slide"
    }
   },
   "source": [
    "#### 5. Small Worlds"
   ]
  },
  {
   "cell_type": "markdown",
   "metadata": {
    "slideshow": {
     "slide_type": "fragment"
    }
   },
   "source": [
    "Many real world networks are **small world networks**,\n",
    "where most pairs of nodes are only a few steps away from each other,\n",
    "and where nodes tend to form cliques, i.e., subgraphs having\n",
    "all nodes connected to each other."
   ]
  },
  {
   "cell_type": "markdown",
   "metadata": {
    "slideshow": {
     "slide_type": "subslide"
    }
   },
   "source": [
    "* For example, [MathSciNet](https://mathscinet-ams-org.nuigalway.idm.oclc.org/mathscinet/index.html)\n",
    "allows its users to explore distances between authors in the collaborations network. The distance of an author to Erdös is \n",
    "know as this author's [Erdös number](https://en.wikipedia.org/wiki/Erd%C5%91s_number).\n",
    "\n",
    "* Or, for a cinematographic version of this phenomenon have a look at the [six degrees of Kevin Bacon](https://en.wikipedia.org/wiki/Six_Degrees_of_Kevin_Bacon)."
   ]
  },
  {
   "cell_type": "markdown",
   "metadata": {
    "slideshow": {
     "slide_type": "subslide"
    }
   },
   "source": [
    "We introduce **three network attributes** that measure these small-world\n",
    "effects:\n",
    "\n",
    "* the **characteristic path length** $L$, defined as the\n",
    "  _average length of all shortest paths in the network_;\n",
    "  \n",
    "* the **transitivity** $T$, defined as the _proportion of\n",
    "  triads that form triangles_;\n",
    "  \n",
    "* the **clustering coefficient** $C$, defined as the\n",
    "  _average node clustering coefficient_."
   ]
  },
  {
   "cell_type": "markdown",
   "metadata": {
    "slideshow": {
     "slide_type": "subslide"
    }
   },
   "source": [
    "In terms of these attributes, a network is called a **small world network** if it has \n",
    "\n",
    "1. a small **average shortest path length** $L$\n",
    "(scaling with $\\log n$, where $n$ is the number of nodes), and\n",
    "2. a high **clustering coefficient** $C$."
   ]
  },
  {
   "cell_type": "markdown",
   "metadata": {
    "slideshow": {
     "slide_type": "subslide"
    }
   },
   "source": [
    "It turns out that ER random networks do have a small average shortest path length,\n",
    "but not a high clustering coefficient.\n",
    "This observation justifies the need for a different model of\n",
    "random networks, if they are to be used to model the \n",
    "clustering behavior of real world networks."
   ]
  },
  {
   "cell_type": "markdown",
   "metadata": {
    "slideshow": {
     "slide_type": "slide"
    }
   },
   "source": [
    "## Characteristic Path Length"
   ]
  },
  {
   "cell_type": "markdown",
   "metadata": {
    "slideshow": {
     "slide_type": "subslide"
    }
   },
   "source": [
    "* We have seen how BFS can determine the length of a shortest path from a given node $x$ to any\n",
    "node $y$ in a **connected network**.  \n",
    "\n",
    "* An application to all nodes $x$ yields the shortest distances\n",
    "between all pairs of nodes."
   ]
  },
  {
   "cell_type": "markdown",
   "metadata": {
    "slideshow": {
     "slide_type": "subslide"
    }
   },
   "source": [
    "Let $\\mathcal{D} = (d_{ij})$ be the **distance matrix** of a connected graph $G = (X, E)$,\n",
    "whose entry $d_{ij}$ is the length of the shortest path from node $i \\in X$ to node $j \\in X$.  \n",
    "\n",
    "(Hence $d_{ii} = 0$ for all $i$.)  \n",
    "\n",
    "There are a number of graph (and node) attributes that can be defined in terms of this matrix. "
   ]
  },
  {
   "cell_type": "markdown",
   "metadata": {
    "slideshow": {
     "slide_type": "subslide"
    }
   },
   "source": [
    "**Definition.**  Let $G = (X, E)$ be a connected graph.\n",
    "\n",
    "* The **eccentricity** $e_i$ of a node $i \\in X$ is the maximum distance between $i$\n",
    "and any other vertex in $G$,\n",
    "$$\n",
    "e_i = \\max_j d_{ij}.\n",
    "$$"
   ]
  },
  {
   "cell_type": "markdown",
   "metadata": {
    "slideshow": {
     "slide_type": "subslide"
    }
   },
   "source": [
    "* The **graph radius** $R$ is the minimum eccentricity,\n",
    "$$\n",
    "R = \\min_i e_i.\n",
    "$$"
   ]
  },
  {
   "cell_type": "markdown",
   "metadata": {
    "slideshow": {
     "slide_type": "subslide"
    }
   },
   "source": [
    "* The **graph diameter** $D$ is the maximum eccentricity,\n",
    "$$\n",
    "D = \\max_i e_i.\n",
    "$$"
   ]
  },
  {
   "cell_type": "markdown",
   "metadata": {
    "slideshow": {
     "slide_type": "subslide"
    }
   },
   "source": [
    "* The **characteristic path length** $L$ of $G$ is the average distance between pairs of distinct nodes,\n",
    "$$\n",
    "L = \\frac1{n(n-1)} \\sum_{i \\neq j} d_{ij}.\n",
    "$$\n"
   ]
  },
  {
   "cell_type": "markdown",
   "metadata": {
    "slideshow": {
     "slide_type": "subslide"
    }
   },
   "source": [
    "* **Fact:** The characteristic path length of a random graph $G(n, m)$, or $G(n, p)$ is\n",
    "$$\n",
    "L = \\frac{\\ln n}{\\ln \\langle k \\rangle}.\n",
    "$$\n",
    "\n",
    "\n",
    "(Recall that $\\langle k \\rangle$ is the average degree of the network.)"
   ]
  },
  {
   "cell_type": "markdown",
   "metadata": {
    "slideshow": {
     "slide_type": "subslide"
    }
   },
   "source": [
    "So if $n = 16$ and $m = 32$, then the average node degree in $G(n, m)$ is $\\langle k \\rangle = \\frac{2m}{n} = 4$,\n",
    "and, approximately, $L = \\frac{\\log_2 16}{\\log_2 4} = 2$."
   ]
  },
  {
   "cell_type": "markdown",
   "metadata": {
    "slideshow": {
     "slide_type": "subslide"
    }
   },
   "source": [
    "Let's find a small connected graph. (Loop until it's connected ...)"
   ]
  },
  {
   "cell_type": "code",
   "execution_count": null,
   "metadata": {
    "slideshow": {
     "slide_type": "fragment"
    }
   },
   "outputs": [],
   "source": [
    "n, m = 16, 32\n",
    "while True:\n",
    "    G = nx.gnm_random_graph(n, m)\n",
    "    if nx.is_connected(G):\n",
    "        break"
   ]
  },
  {
   "cell_type": "code",
   "execution_count": null,
   "metadata": {
    "slideshow": {
     "slide_type": "subslide"
    }
   },
   "outputs": [],
   "source": [
    "nx.draw(G, **opts)"
   ]
  },
  {
   "cell_type": "markdown",
   "metadata": {
    "slideshow": {
     "slide_type": "subslide"
    }
   },
   "source": [
    "Compute **all** shortest path lengths with the `shortest_path_length` function provided by `networkx`."
   ]
  },
  {
   "cell_type": "code",
   "execution_count": null,
   "metadata": {
    "scrolled": true,
    "slideshow": {
     "slide_type": "fragment"
    }
   },
   "outputs": [],
   "source": [
    "dist = dict(nx.shortest_path_length(G))\n",
    "dist = [[dist[i][j] for j in range(n)] for i in range(n)]\n",
    "dist"
   ]
  },
  {
   "cell_type": "code",
   "execution_count": null,
   "metadata": {
    "slideshow": {
     "slide_type": "subslide"
    }
   },
   "outputs": [],
   "source": [
    "eccentricity = [max(d) for d in dist]\n",
    "eccentricity"
   ]
  },
  {
   "cell_type": "markdown",
   "metadata": {
    "slideshow": {
     "slide_type": "subslide"
    }
   },
   "source": [
    "`networkx` has a function `eccentricity` which computes a dictionary of eccentricities."
   ]
  },
  {
   "cell_type": "code",
   "execution_count": null,
   "metadata": {
    "slideshow": {
     "slide_type": "fragment"
    }
   },
   "outputs": [],
   "source": [
    "print(nx.eccentricity(G))"
   ]
  },
  {
   "cell_type": "markdown",
   "metadata": {
    "slideshow": {
     "slide_type": "subslide"
    }
   },
   "source": [
    "The extreme values of the eccentricity are the **radius** (min) and the **diameter** (max) of the network."
   ]
  },
  {
   "cell_type": "code",
   "execution_count": null,
   "metadata": {
    "slideshow": {
     "slide_type": "fragment"
    }
   },
   "outputs": [],
   "source": [
    "radius = min(eccentricity)\n",
    "diameter = max(eccentricity)\n",
    "radius, diameter"
   ]
  },
  {
   "cell_type": "markdown",
   "metadata": {
    "slideshow": {
     "slide_type": "subslide"
    }
   },
   "source": [
    "The characteristic path length $L$ is therefore the sum of all entries in $\\mathcal{D}$, divided by the number of pairs of distinct nodes $n(n-1)$. "
   ]
  },
  {
   "cell_type": "code",
   "execution_count": null,
   "metadata": {
    "slideshow": {
     "slide_type": "fragment"
    }
   },
   "outputs": [],
   "source": [
    "cpl = sum([sum(d) for d in dist]) / n / (n - 1)\n",
    "cpl"
   ]
  },
  {
   "cell_type": "markdown",
   "metadata": {
    "slideshow": {
     "slide_type": "subslide"
    }
   },
   "source": [
    "`networkx` computes $L$ with a function `average_shortest_path_length`."
   ]
  },
  {
   "cell_type": "code",
   "execution_count": null,
   "metadata": {
    "slideshow": {
     "slide_type": "fragment"
    }
   },
   "outputs": [],
   "source": [
    "nx.average_shortest_path_length(G)"
   ]
  },
  {
   "cell_type": "markdown",
   "metadata": {
    "slideshow": {
     "slide_type": "subslide"
    }
   },
   "source": [
    "Let's compare this with the expected $L=\\frac{\\ln n}{\\langle k \\rangle}$. "
   ]
  },
  {
   "cell_type": "code",
   "execution_count": null,
   "metadata": {
    "slideshow": {
     "slide_type": "subslide"
    }
   },
   "outputs": [],
   "source": [
    "from math import log\n",
    "kavg = sum(dict(G.degree()).values()) / n\n",
    "log(n) / log(kavg) "
   ]
  },
  {
   "cell_type": "code",
   "execution_count": null,
   "metadata": {
    "slideshow": {
     "slide_type": "fragment"
    }
   },
   "outputs": [],
   "source": [
    "kavg ## avg degree as expected"
   ]
  },
  {
   "cell_type": "markdown",
   "metadata": {
    "slideshow": {
     "slide_type": "slide"
    }
   },
   "source": [
    "**Definition (Small-world behaviour).**\n",
    "A network $G = (X, E)$ is said to exhibit a **small world behaviour** if \n",
    "its characteristic path length $L$ grows proportionally to the\n",
    "logarithm of the number $n$ of nodes of $G$:\n",
    "$$\n",
    "L \\sim \\ln n.\n",
    "$$\n"
   ]
  },
  {
   "cell_type": "markdown",
   "metadata": {
    "slideshow": {
     "slide_type": "subslide"
    }
   },
   "source": [
    "In this sense, the ensembles $G(n, m)$ and $G(n, p)$ of random graphs do exhibit small\n",
    "world behavior (as $n \\to \\infty$)."
   ]
  },
  {
   "cell_type": "markdown",
   "metadata": {
    "slideshow": {
     "slide_type": "slide"
    }
   },
   "source": [
    "## Clustering"
   ]
  },
  {
   "cell_type": "markdown",
   "metadata": {
    "slideshow": {
     "slide_type": "fragment"
    }
   },
   "source": [
    "In contrast to random graphs, real world networks also contain **many triangles**:  \n",
    "it is not uncommon that a friend of one of my friends is my friend, too.\n",
    "\n",
    "This **degree of transitivity** can be measured in several different ways."
   ]
  },
  {
   "cell_type": "markdown",
   "metadata": {
    "slideshow": {
     "slide_type": "subslide"
    }
   },
   "source": [
    "**Definition (Graph transitivity).**\n",
    "Recall that a **triad** is a tree on $3$ nodes or, equivalently, a graph consisting of $2$\n",
    "adjacent edges (and the nodes they connect).  \n",
    "\n",
    "The **transitivity** $T$ of a graph $G = (X, E)$\n",
    "is the proportion of **transitive** triads, i.e., triads which are subgraphs of **triangles**. This proportion can be computed as follows:\n",
    "$$\n",
    "T = \\frac{3 n_{\\Delta}}{n_{\\wedge}},\n",
    "$$\n",
    "where $n_{\\Delta}$ is the number of triangles in $G$, and $n_{\\wedge}$ is the number of triads.\n"
   ]
  },
  {
   "cell_type": "markdown",
   "metadata": {
    "slideshow": {
     "slide_type": "fragment"
    }
   },
   "source": [
    "By definition, $0 \\leq T \\leq 1$."
   ]
  },
  {
   "cell_type": "markdown",
   "metadata": {
    "slideshow": {
     "slide_type": "subslide"
    }
   },
   "source": [
    "**Example.**"
   ]
  },
  {
   "cell_type": "code",
   "execution_count": null,
   "metadata": {
    "slideshow": {
     "slide_type": "fragment"
    }
   },
   "outputs": [],
   "source": [
    "G = nx.Graph(((1,2), (2,3), (3,1), (3,4), (3,5)))\n",
    "nx.draw(G, **opts)"
   ]
  },
  {
   "cell_type": "markdown",
   "metadata": {
    "slideshow": {
     "slide_type": "subslide"
    }
   },
   "source": [
    "The function `nx.triangles(G)` returns a `python` dictionary reporting for each node\n",
    "of the graph `G` the number of triangles it is contained in."
   ]
  },
  {
   "cell_type": "code",
   "execution_count": null,
   "metadata": {
    "slideshow": {
     "slide_type": "fragment"
    }
   },
   "outputs": [],
   "source": [
    "print(nx.triangles(G))"
   ]
  },
  {
   "cell_type": "markdown",
   "metadata": {
    "slideshow": {
     "slide_type": "subslide"
    }
   },
   "source": [
    "Overall, each triangle in `G` is thus accounted for $3$ times, once for each of its\n",
    "vertices.  Hence, the following sum determines this number $3 n_{\\Delta}$."
   ]
  },
  {
   "cell_type": "code",
   "execution_count": null,
   "metadata": {
    "slideshow": {
     "slide_type": "fragment"
    }
   },
   "outputs": [],
   "source": [
    "triple_nr_triangles = sum(nx.triangles(G).values())\n",
    "print(triple_nr_triangles)"
   ]
  },
  {
   "cell_type": "markdown",
   "metadata": {
    "slideshow": {
     "slide_type": "subslide"
    }
   },
   "source": [
    "As we've seen, the number $n_{\\wedge}$ of triads in `G` can be determined from the graph's degree\n",
    "sequence, as each node of degree $k$ is the central node of exactly\n",
    "$\\binom{k}{2}$ triads.  "
   ]
  },
  {
   "cell_type": "code",
   "execution_count": null,
   "metadata": {
    "slideshow": {
     "slide_type": "subslide"
    }
   },
   "outputs": [],
   "source": [
    "print(G.degree())\n",
    "print({k : v * (v-1) // 2 for k, v in dict(G.degree()).items()})\n",
    "nr_triads = sum([v * (v-1) // 2 for v in dict(G.degree()).values()])\n",
    "nr_triads"
   ]
  },
  {
   "cell_type": "markdown",
   "metadata": {
    "slideshow": {
     "slide_type": "subslide"
    }
   },
   "source": [
    "The transitivity $T$ of `G` is the quotient of these two quantities, $T = 3 n_{\\Delta}/n_{\\wedge}$,\n",
    "which `networkx` computes with a function `transitivity`."
   ]
  },
  {
   "cell_type": "code",
   "execution_count": null,
   "metadata": {
    "slideshow": {
     "slide_type": "fragment"
    }
   },
   "outputs": [],
   "source": [
    "print(triple_nr_triangles / nr_triads )\n",
    "print(nx.transitivity(G))"
   ]
  },
  {
   "cell_type": "markdown",
   "metadata": {
    "slideshow": {
     "slide_type": "subslide"
    }
   },
   "source": [
    "* The transitivity of a $G(n, p)$ **random graph** is\n",
    "$$\n",
    "T = p,\n",
    "$$\n",
    "the probability of any edge as third edge in a triangle.\n",
    "\n",
    "(Or: Compute $3 n_{\\Delta}/n_{\\wedge}$ using the explicit formulas\n",
    "from the previous lecture: $n_{\\Delta} = \\binom{n}{3}p^3$ and $n_{\\wedge} = 3 \\binom{n}{3}p^2$.)"
   ]
  },
  {
   "cell_type": "markdown",
   "metadata": {
    "slideshow": {
     "slide_type": "slide"
    }
   },
   "source": [
    "##  Code Corner"
   ]
  },
  {
   "cell_type": "markdown",
   "metadata": {
    "slideshow": {
     "slide_type": "subslide"
    }
   },
   "source": [
    "### `networkx`"
   ]
  },
  {
   "cell_type": "markdown",
   "metadata": {},
   "source": [
    "* `shortest_path_length` : [[doc]](https://networkx.org/documentation/stable/reference/algorithms/generated/networkx.algorithms.shortest_paths.generic.shortest_path_length.html)\n",
    "\n",
    "\n",
    "* `eccentricity`: [[doc]](https://networkx.org/documentation/stable/reference/algorithms/generated/networkx.algorithms.distance_measures.eccentricity.html)\n",
    "\n",
    "\n",
    "* `triangles`: [[doc]](https://networkx.org/documentation/stable/reference/algorithms/generated/networkx.algorithms.cluster.triangles.html)\n",
    "\n",
    "\n",
    "* `transitivity`: [[doc]](https://networkx.org/documentation/stable/reference/algorithms/generated/networkx.algorithms.cluster.transitivity.html)\n",
    "\n",
    "\n",
    "* `clustering`: [[doc]](https://networkx.org/documentation/stable/reference/algorithms/generated/networkx.algorithms.cluster.clustering.html)\n",
    "\n",
    "\n",
    "* `average_clustering`: [[doc]](https://networkx.org/documentation/stable/reference/algorithms/generated/networkx.algorithms.cluster.average_clustering.html)"
   ]
  },
  {
   "cell_type": "markdown",
   "metadata": {
    "slideshow": {
     "slide_type": "slide"
    }
   },
   "source": [
    "##  Exercises"
   ]
  },
  {
   "cell_type": "markdown",
   "metadata": {
    "slideshow": {
     "slide_type": "subslide"
    }
   },
   "source": [
    "1. What are the characteristic path length $L$, the transitivity $T$, and the clustering coefficient $C$\n",
    "of the Peterson graph?\n",
    "\n",
    "1. What are the characteristic path length $L$, the transitivity $T$, and the clustering coefficient $C$\n",
    "of the Florentine families marital graph?\n",
    "\n",
    "2. What is the transitivity and what is the clustering coefficient\n",
    "of a complete graph on $n$ nodes?\n",
    "\n",
    "3. What is the transitivity and what is the clustering coefficient\n",
    "of a tree on $n$ nodes?\n",
    "\n"
   ]
  },
  {
   "cell_type": "code",
   "execution_count": null,
   "metadata": {},
   "outputs": [],
   "source": []
  }
 ],
 "metadata": {
  "celltoolbar": "Slideshow",
  "kernelspec": {
   "display_name": "Python 3 (ipykernel)",
   "language": "python",
   "name": "python3"
  },
  "language_info": {
   "codemirror_mode": {
    "name": "ipython",
    "version": 3
   },
   "file_extension": ".py",
   "mimetype": "text/x-python",
   "name": "python",
   "nbconvert_exporter": "python",
   "pygments_lexer": "ipython3",
   "version": "3.9.7"
  }
 },
 "nbformat": 4,
 "nbformat_minor": 2
}
