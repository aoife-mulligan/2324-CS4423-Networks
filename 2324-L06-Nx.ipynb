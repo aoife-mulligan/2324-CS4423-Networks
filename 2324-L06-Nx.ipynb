{
 "cells": [
  {
   "cell_type": "markdown",
   "metadata": {
    "slideshow": {
     "slide_type": "slide"
    }
   },
   "source": [
    "### CS4423 - Networks\n",
    "Angela Carnevale\n",
    "School of Mathematical and Statistical Sciences\n",
    "University of Galway\n",
    "\n"
   ]
  },
  {
   "cell_type": "markdown",
   "metadata": {
    "slideshow": {
     "slide_type": "-"
    }
   },
   "source": [
    "#### 2. Tree and Graph Traversal\n",
    "\n",
    "# Week 3, lecture 2: Paths, Trees and Algorithms"
   ]
  },
  {
   "cell_type": "code",
   "execution_count": null,
   "metadata": {
    "slideshow": {
     "slide_type": "skip"
    }
   },
   "outputs": [],
   "source": [
    "import networkx as nx\n",
    "import numpy as np"
   ]
  },
  {
   "cell_type": "code",
   "execution_count": null,
   "metadata": {
    "slideshow": {
     "slide_type": "skip"
    }
   },
   "outputs": [],
   "source": [
    "nodes = 'ABCDEFGHIJKLM'\n",
    "edges = [\n",
    "    'AB', 'CE', 'FG', 'FH', 'GI', 'GJ', 'HJ', 'HL', 'HM', \n",
    "    'IK', 'JK', 'KL', 'LM'\n",
    "]\n",
    "G = nx.Graph()\n",
    "G.add_nodes_from(nodes)\n",
    "G.add_edges_from(edges)"
   ]
  },
  {
   "cell_type": "code",
   "execution_count": null,
   "metadata": {
    "slideshow": {
     "slide_type": "skip"
    }
   },
   "outputs": [],
   "source": [
    "opts = { \"with_labels\": True, \"node_color\": 'y'}\n",
    "nx.draw(G, **opts)"
   ]
  },
  {
   "cell_type": "markdown",
   "metadata": {
    "slideshow": {
     "slide_type": "skip"
    }
   },
   "source": [
    "* $(F, G, I)$ is a path in the graph above, and $(H, J, K, L, H)$ is a cycle."
   ]
  },
  {
   "cell_type": "markdown",
   "metadata": {
    "slideshow": {
     "slide_type": "skip"
    }
   },
   "source": [
    "* A cycle in a simple graph provides, for any two nodes on that\n",
    "cycle, (at least) two different paths from one to the other.\n",
    "\n",
    "* This can be very handy to provide alternative routes for connectivity in case one of the edges should fail (e.g. in transportation networks). \n"
   ]
  },
  {
   "cell_type": "markdown",
   "metadata": {
    "slideshow": {
     "slide_type": "skip"
    }
   },
   "source": [
    "## Connected Components"
   ]
  },
  {
   "cell_type": "markdown",
   "metadata": {
    "slideshow": {
     "slide_type": "skip"
    }
   },
   "source": [
    "**Definition.**\n",
    "    <ul>\n",
    "        <li>A simple graph is <b>connected</b> if, for\n",
    "every pair of nodes, there is a path between them.\n",
    "        </li>\n",
    "        <li>\n",
    "If a graph is not connected, it naturally breaks into pieces,\n",
    "its <b>connected components</b>.\n",
    "       "
   ]
  },
  {
   "cell_type": "code",
   "execution_count": null,
   "metadata": {
    "slideshow": {
     "slide_type": "skip"
    }
   },
   "outputs": [],
   "source": [
    "nx.draw(G, **opts)"
   ]
  },
  {
   "cell_type": "markdown",
   "metadata": {
    "slideshow": {
     "slide_type": "skip"
    }
   },
   "source": [
    "* The connected components of the graph above are the\n",
    "node sets $\\{A, B\\}$, $\\{C, E\\}$, $\\{D\\}$, and $\\{F,G,H,I,J,K,L,M\\}$.\n",
    "* Note that a component can consist of a single node only."
   ]
  },
  {
   "cell_type": "code",
   "execution_count": null,
   "metadata": {
    "slideshow": {
     "slide_type": "skip"
    }
   },
   "outputs": [],
   "source": [
    "list(nx.connected_components(G))"
   ]
  },
  {
   "cell_type": "markdown",
   "metadata": {
    "slideshow": {
     "slide_type": "skip"
    }
   },
   "source": [
    "**Note.** \n",
    "\n",
    "The connected components of a graph are the equivalence classes of the equivalence relation 'there is a **path** from $x$ to $y$ on the node set $X$ of the\n",
    "graph. This, in turn, is the **transitive closure** of the graph relation 'there is an\n",
    "**edge** between $x$ and $y$'. "
   ]
  },
  {
   "cell_type": "markdown",
   "metadata": {
    "slideshow": {
     "slide_type": "slide"
    }
   },
   "source": [
    "##  Trees"
   ]
  },
  {
   "cell_type": "markdown",
   "metadata": {
    "slideshow": {
     "slide_type": "subslide"
    }
   },
   "source": [
    "* A graph is called **acyclic** if it does not contain any cycles.\n",
    "\n",
    "*    A <b>tree</b> is a (simple) graph that is <b>connected</b> and <b>acyclic</b>.\n",
    "\n",
    "In other words, between any two vertices in a tree there is **exactly one simple path**."
   ]
  },
  {
   "cell_type": "markdown",
   "metadata": {
    "slideshow": {
     "slide_type": "subslide"
    }
   },
   "source": [
    "Trees can be characterized in many different ways.\n",
    "\n",
    "\n",
    "\n",
    "**Theorem.**  Let $G = (X, E)$ be a (simple) graph of order $n = |X|$\n",
    "and size $m = |E|$.\n",
    "Then the following are equivalent:"
   ]
  },
  {
   "cell_type": "markdown",
   "metadata": {
    "slideshow": {
     "slide_type": "fragment"
    }
   },
   "source": [
    "* $G$ is a tree (i.e. acyclic and connected);\n",
    "\n",
    "* $G$ is connected and $m = n-1$;\n",
    "\n",
    "* $G$ is a minimally connected graph (i.e., removing any edge will disconnect $G$);\n",
    "\n",
    "* $G$ is acyclic and $m = n-1$;\n",
    "\n",
    "* $G$ is a maximally acyclic graph (i.e., adding any edge will introduce a cycle in $G$)."
   ]
  },
  {
   "cell_type": "markdown",
   "metadata": {
    "slideshow": {
     "slide_type": "slide"
    }
   },
   "source": [
    "## Random Trees"
   ]
  },
  {
   "cell_type": "markdown",
   "metadata": {
    "slideshow": {
     "slide_type": "subslide"
    }
   },
   "source": [
    "We can ask `networkx` to produce a **random tree** with a given number of nodes:"
   ]
  },
  {
   "cell_type": "code",
   "execution_count": null,
   "metadata": {
    "scrolled": false,
    "slideshow": {
     "slide_type": "fragment"
    }
   },
   "outputs": [],
   "source": [
    "T = nx.random_tree(15)\n",
    "nx.draw(T, **opts)"
   ]
  },
  {
   "cell_type": "markdown",
   "metadata": {
    "slideshow": {
     "slide_type": "subslide"
    }
   },
   "source": [
    "**Note** how the nodes are labelled and stored for a random tree in `networkx`"
   ]
  },
  {
   "cell_type": "code",
   "execution_count": null,
   "metadata": {
    "slideshow": {
     "slide_type": "fragment"
    }
   },
   "outputs": [],
   "source": [
    "T.nodes()"
   ]
  },
  {
   "cell_type": "markdown",
   "metadata": {
    "slideshow": {
     "slide_type": "subslide"
    }
   },
   "source": [
    "<b>Theorem (Cayley's Formula).</b>\n",
    "    There are exactly $n^{n-2}$ distinct (labelled) trees on the $n$-element vertex set \n",
    "    $X = \\{0, 1, 2, \\dots, n-1\\}$, if $n > 1$."
   ]
  },
  {
   "cell_type": "markdown",
   "metadata": {
    "slideshow": {
     "slide_type": "subslide"
    }
   },
   "source": [
    "Also, there is one (trivial) tree on $1$ vertex.  Some values for $n > 1$:"
   ]
  },
  {
   "cell_type": "code",
   "execution_count": null,
   "metadata": {},
   "outputs": [],
   "source": [
    "domain = range(2, 10)\n",
    "print(np.array([domain, [n**(n-2) for n in domain]]))"
   ]
  },
  {
   "cell_type": "markdown",
   "metadata": {
    "slideshow": {
     "slide_type": "subslide"
    }
   },
   "source": [
    "**Proof.** We will prove this formula by giving a bijective correspondence between trees on $X = \\{0, 1, 2, \\dots, n-1\\}$ and sequences of\n",
    "$n-2$ elements of $X$. The (unique) sequence of $n-2$ elements of $X$ associated with a tree via this bijection is its [**Prüfer Code**](https://en.wikipedia.org/wiki/Pr%C3%BCfer_sequence)."
   ]
  },
  {
   "cell_type": "code",
   "execution_count": null,
   "metadata": {
    "slideshow": {
     "slide_type": "subslide"
    }
   },
   "outputs": [],
   "source": [
    "n = 8\n",
    "TT = nx.random_tree(n)\n",
    "nx.draw(TT, **opts)"
   ]
  },
  {
   "cell_type": "markdown",
   "metadata": {
    "slideshow": {
     "slide_type": "subslide"
    }
   },
   "source": [
    "How to determine the Prüfer code of a tree $T$ (destructively):\n",
    "\n",
    "* Find the smallest leaf $x$\n",
    "* Record the label $y$ of its unique neighbour\n",
    "* Remove $x$ (and the edge $x - y$) from $T$\n",
    "* Repeat until $T$ has only $2$ nodes left."
   ]
  },
  {
   "cell_type": "code",
   "execution_count": null,
   "metadata": {
    "slideshow": {
     "slide_type": "subslide"
    }
   },
   "outputs": [],
   "source": [
    "def pruefer_list(tree):\n",
    "    for x in tree:\n",
    "        if tree.degree(x) == 1:\n",
    "            for y in tree[x]:\n",
    "                tree.remove_node(x)\n",
    "                return [x, y] "
   ]
  },
  {
   "cell_type": "markdown",
   "metadata": {
    "slideshow": {
     "slide_type": "fragment"
    }
   },
   "source": [
    "**Note.** Here we can skip step $1$ of the algorithm since the nodes are visited from the smallest to the largest anyway."
   ]
  },
  {
   "cell_type": "code",
   "execution_count": null,
   "metadata": {
    "slideshow": {
     "slide_type": "subslide"
    }
   },
   "outputs": [],
   "source": [
    "T = TT.copy()\n",
    "code = [pruefer_list(T) for k in range(n-2)]"
   ]
  },
  {
   "cell_type": "code",
   "execution_count": null,
   "metadata": {
    "slideshow": {
     "slide_type": "fragment"
    }
   },
   "outputs": [],
   "source": [
    "print(np.array(code).transpose())"
   ]
  },
  {
   "cell_type": "markdown",
   "metadata": {
    "slideshow": {
     "slide_type": "subslide"
    }
   },
   "source": [
    "This process destroys the tree `T` almost completely."
   ]
  },
  {
   "cell_type": "code",
   "execution_count": null,
   "metadata": {
    "slideshow": {
     "slide_type": "fragment"
    }
   },
   "outputs": [],
   "source": [
    "print(T.nodes())\n",
    "print(T.edges())"
   ]
  },
  {
   "cell_type": "markdown",
   "metadata": {
    "slideshow": {
     "slide_type": "subslide"
    }
   },
   "source": [
    "Let's wrap this up as a `python` function"
   ]
  },
  {
   "cell_type": "code",
   "execution_count": null,
   "metadata": {
    "slideshow": {
     "slide_type": "fragment"
    }
   },
   "outputs": [],
   "source": [
    "def pruefer_node(tree):\n",
    "    for x in tree:\n",
    "        if tree.degree(x) == 1:\n",
    "            for y in tree[x]:\n",
    "                tree.remove_node(x)\n",
    "                return y"
   ]
  },
  {
   "cell_type": "code",
   "execution_count": null,
   "metadata": {
    "slideshow": {
     "slide_type": "fragment"
    }
   },
   "outputs": [],
   "source": [
    "def pruefer_code(tree):\n",
    "    return [pruefer_node(tree) for k in range(tree.order() - 2)]"
   ]
  },
  {
   "cell_type": "code",
   "execution_count": null,
   "metadata": {
    "slideshow": {
     "slide_type": "subslide"
    }
   },
   "outputs": [],
   "source": [
    "T = TT.copy()\n",
    "code = pruefer_code(T)\n",
    "code"
   ]
  },
  {
   "cell_type": "markdown",
   "metadata": {
    "slideshow": {
     "slide_type": "subslide"
    }
   },
   "source": [
    "Maybe surprisingly, the tree can be reconstructed from its Prüfer code.  This is based on the following fact\n",
    "and shows that the map from trees to codes is a bijection!\n",
    "\n",
    "\n",
    "<b>Fact:</b> The degree of node $x$ is $1$ plus the number of entries $x$ in the Prüfer code of $T$.\n"
   ]
  },
  {
   "cell_type": "code",
   "execution_count": null,
   "metadata": {
    "slideshow": {
     "slide_type": "subslide"
    }
   },
   "outputs": [],
   "source": [
    "degrees = [1 for k in range(n)]\n",
    "for k in code:\n",
    "    degrees[k] += 1\n",
    "degrees"
   ]
  },
  {
   "cell_type": "code",
   "execution_count": null,
   "metadata": {
    "slideshow": {
     "slide_type": "fragment"
    }
   },
   "outputs": [],
   "source": [
    "[TT.degree[x] for x in TT]"
   ]
  },
  {
   "cell_type": "markdown",
   "metadata": {
    "slideshow": {
     "slide_type": "subslide"
    }
   },
   "source": [
    "How to restore the tree from its Prüfer code:\n",
    "\n",
    "* Start with a graph with vertex set $X = \\{0, 1, 2, \\dots, n-1\\}$ (and no edges yet).\n",
    "* Compute the desired node degrees from the code.\n",
    "* For each node $y$ in the code find the smallest degree-$1$-node $x$ and\n",
    "add the edge $x - y$, then decrease the degrees of both $x$ and $y$ by $1$.\n",
    "* Finally, connect the remaining $2$ nodes of degrees $1$ by an edge."
   ]
  },
  {
   "cell_type": "code",
   "execution_count": null,
   "metadata": {
    "slideshow": {
     "slide_type": "subslide"
    }
   },
   "outputs": [],
   "source": [
    "T = nx.empty_graph(n)\n",
    "nx.draw(T, **opts)"
   ]
  },
  {
   "cell_type": "code",
   "execution_count": 1,
   "metadata": {
    "slideshow": {
     "slide_type": "subslide"
    }
   },
   "outputs": [
    {
     "ename": "NameError",
     "evalue": "name 'code' is not defined",
     "output_type": "error",
     "traceback": [
      "\u001b[1;31m---------------------------------------------------------------------------\u001b[0m",
      "\u001b[1;31mNameError\u001b[0m                                 Traceback (most recent call last)",
      "Cell \u001b[1;32mIn[1], line 1\u001b[0m\n\u001b[1;32m----> 1\u001b[0m \u001b[43mcode\u001b[49m\n",
      "\u001b[1;31mNameError\u001b[0m: name 'code' is not defined"
     ]
    }
   ],
   "source": [
    "code"
   ]
  },
  {
   "cell_type": "code",
   "execution_count": null,
   "metadata": {
    "slideshow": {
     "slide_type": "subslide"
    }
   },
   "outputs": [],
   "source": [
    "# repeat n-2 times:\n",
    "for y in code:\n",
    "    x = degrees.index(1)\n",
    "    T.add_edge(x, y)\n",
    "    degrees[x] -= 1;  degrees[y] -= 1\n",
    "    print(degrees, \": adding edge\", x, \"--\", y)\n"
   ]
  },
  {
   "cell_type": "markdown",
   "metadata": {
    "slideshow": {
     "slide_type": "fragment"
    }
   },
   "source": [
    "Add the final edge:"
   ]
  },
  {
   "cell_type": "code",
   "execution_count": null,
   "metadata": {
    "slideshow": {
     "slide_type": "fragment"
    }
   },
   "outputs": [],
   "source": [
    "e = [x for x in range(n) if degrees[x] == 1]\n",
    "T.add_edge(*e)\n",
    "print(e)"
   ]
  },
  {
   "cell_type": "code",
   "execution_count": null,
   "metadata": {
    "slideshow": {
     "slide_type": "subslide"
    }
   },
   "outputs": [],
   "source": [
    "nx.draw(T, **opts)"
   ]
  },
  {
   "cell_type": "markdown",
   "metadata": {
    "slideshow": {
     "slide_type": "subslide"
    }
   },
   "source": [
    "Turn the entire procedure into a `python` function:"
   ]
  },
  {
   "cell_type": "code",
   "execution_count": null,
   "metadata": {
    "slideshow": {
     "slide_type": "fragment"
    }
   },
   "outputs": [],
   "source": [
    "def tree_pruefer(code):\n",
    "\n",
    "    # initialize graph and defects\n",
    "    n = len(code) + 2\n",
    "    tree = nx.empty_graph(n)\n",
    "    degrees = [1 for x in tree]\n",
    "    for y in code:\n",
    "        degrees[y] += 1\n",
    "        \n",
    "    # add edges\n",
    "    for y in code:\n",
    "        for x in tree:\n",
    "            if degrees[x] == 1:\n",
    "                tree.add_edge(x, y)\n",
    "                for z in (x, y):\n",
    "                    degrees[z] -= 1\n",
    "                break\n",
    "                \n",
    "    # final edge\n",
    "    e = [x for x in tree if degrees[x] == 1]\n",
    "    tree.add_edge(*e)\n",
    "    \n",
    "    return tree"
   ]
  },
  {
   "cell_type": "markdown",
   "metadata": {
    "slideshow": {
     "slide_type": "subslide"
    }
   },
   "source": [
    "* We can now construct a random tree on $n$ nodes from a random Prüfer code of length $n-2$."
   ]
  },
  {
   "cell_type": "code",
   "execution_count": null,
   "metadata": {
    "slideshow": {
     "slide_type": "fragment"
    }
   },
   "outputs": [],
   "source": [
    "code = np.random.randint(n, size=n-2)\n",
    "code"
   ]
  },
  {
   "cell_type": "code",
   "execution_count": null,
   "metadata": {
    "slideshow": {
     "slide_type": "subslide"
    }
   },
   "outputs": [],
   "source": [
    "tree = tree_pruefer(code)\n",
    "nx.draw(tree, **opts)"
   ]
  },
  {
   "cell_type": "markdown",
   "metadata": {
    "slideshow": {
     "slide_type": "subslide"
    }
   },
   "source": [
    "Finally, we wrap this up into our own `python` function `random_tree`."
   ]
  },
  {
   "cell_type": "code",
   "execution_count": null,
   "metadata": {
    "slideshow": {
     "slide_type": "fragment"
    }
   },
   "outputs": [],
   "source": [
    "def random_tree(n):\n",
    "    code = np.random.randint(n, size=n-2)\n",
    "    return tree_pruefer(code)"
   ]
  },
  {
   "cell_type": "code",
   "execution_count": null,
   "metadata": {
    "slideshow": {
     "slide_type": "subslide"
    }
   },
   "outputs": [],
   "source": [
    "T = random_tree(20)\n"
   ]
  },
  {
   "cell_type": "code",
   "execution_count": null,
   "metadata": {
    "slideshow": {
     "slide_type": "fragment"
    }
   },
   "outputs": [],
   "source": [
    "nx.draw(T, **opts)"
   ]
  },
  {
   "cell_type": "markdown",
   "metadata": {
    "slideshow": {
     "slide_type": "slide"
    }
   },
   "source": [
    "## Next: Depth First and Breadth First Search"
   ]
  },
  {
   "cell_type": "markdown",
   "metadata": {
    "slideshow": {
     "slide_type": "fragment"
    }
   },
   "source": [
    "[DFS](https://en.wikipedia.org/wiki/Depth-first_search)\n",
    "and [BFS](https://en.wikipedia.org/wiki/Breadth-first_search)\n",
    "are simple but efficient tree (and graph) traversal algorithms."
   ]
  },
  {
   "cell_type": "markdown",
   "metadata": {},
   "source": [
    "##  Code Corner"
   ]
  },
  {
   "cell_type": "markdown",
   "metadata": {},
   "source": [
    "### `python`"
   ]
  },
  {
   "cell_type": "markdown",
   "metadata": {},
   "source": [
    "* `+=`, `-=`: augmented assignment statements [[doc]](https://docs.python.org/3/reference/simple_stmts.html#augmented-assignment-statements)"
   ]
  },
  {
   "cell_type": "markdown",
   "metadata": {},
   "source": [
    "### `networkx`"
   ]
  },
  {
   "cell_type": "markdown",
   "metadata": {},
   "source": [
    "* `connected_components` [[doc]](https://networkx.github.io/documentation/stable/reference/algorithms/component.html)\n",
    "\n",
    "* `random_tree` [[doc]](https://networkx.github.io/documentation/stable/reference/generated/networkx.generators.trees.random_tree.html)\n",
    "\n",
    "* `copy`: [[doc]](https://networkx.org/documentation/stable/reference/classes/generated/networkx.Graph.copy.html)\n",
    "\n",
    "* `empty_graph` [[doc]](https://networkx.github.io/documentation/stable/reference/generated/networkx.generators.classic.empty_graph.html)"
   ]
  },
  {
   "cell_type": "markdown",
   "metadata": {},
   "source": [
    "### `numpy`"
   ]
  },
  {
   "cell_type": "markdown",
   "metadata": {},
   "source": [
    "* `array`: [[doc]](https://numpy.org/doc/stable/reference/generated/numpy.array.html)\n",
    "\n",
    "* `transpose`: [[doc]](https://numpy.org/doc/stable/reference/generated/numpy.transpose.html)\n",
    "\n",
    "* `random.randint`: [[doc]](https://numpy.org/doc/stable/reference/random/generated/numpy.random.randint.html)"
   ]
  },
  {
   "cell_type": "markdown",
   "metadata": {},
   "source": [
    "## Exercises\n",
    "\n",
    "1.  A tree $T$ uniquely determines its Prüfer code,\n",
    "and hence the two nodes that remain after (destructively)\n",
    "computing the code.   What are those two nodes, in terms of\n",
    "properties of $T$, or its Prüfer code?\n",
    "\n",
    "2. What tree has Prüfer code $[0, 1, 2, \\dots, n-3]$?"
   ]
  },
  {
   "cell_type": "code",
   "execution_count": null,
   "metadata": {},
   "outputs": [],
   "source": []
  }
 ],
 "metadata": {
  "celltoolbar": "Slideshow",
  "kernelspec": {
   "display_name": "Python 3 (ipykernel)",
   "language": "python",
   "name": "python3"
  },
  "language_info": {
   "codemirror_mode": {
    "name": "ipython",
    "version": 3
   },
   "file_extension": ".py",
   "mimetype": "text/x-python",
   "name": "python",
   "nbconvert_exporter": "python",
   "pygments_lexer": "ipython3",
   "version": "3.11.5"
  }
 },
 "nbformat": 4,
 "nbformat_minor": 1
}
