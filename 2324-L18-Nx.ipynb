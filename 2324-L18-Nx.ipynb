{
 "cells": [
  {
   "cell_type": "markdown",
   "metadata": {
    "slideshow": {
     "slide_type": "skip"
    }
   },
   "source": [
    "### CS4423 - Networks\n",
    "Angela Carnevale  \n",
    "School of Mathematical and Statistical Sciences  \n",
    "University of Galway"
   ]
  },
  {
   "cell_type": "markdown",
   "metadata": {
    "slideshow": {
     "slide_type": "slide"
    }
   },
   "source": [
    "#### 5. Small Worlds\n",
    "\n",
    "# Week 9, lecture 2: \n",
    "\n",
    "# Transitivity and Clustering."
   ]
  },
  {
   "cell_type": "code",
   "execution_count": null,
   "metadata": {
    "slideshow": {
     "slide_type": "subslide"
    }
   },
   "outputs": [],
   "source": [
    "import networkx as nx\n",
    "opts = { \"with_labels\" : True, \"node_color\": 'y' }"
   ]
  },
  {
   "cell_type": "markdown",
   "metadata": {
    "slideshow": {
     "slide_type": "subslide"
    }
   },
   "source": [
    "Conclusion from yesterday:\n",
    "\n",
    "**Definition (Small-world behaviour).**\n",
    "A network $G = (X, E)$ is said to exhibit a **small world behaviour** if \n",
    "its characteristic path length $L$ grows proportionally to the\n",
    "logarithm of the number $n$ of nodes of $G$:\n",
    "$$\n",
    "L \\sim \\ln n.\n",
    "$$\n",
    "\n"
   ]
  },
  {
   "cell_type": "markdown",
   "metadata": {
    "slideshow": {
     "slide_type": "subslide"
    }
   },
   "source": [
    "In this sense, the ensembles $G(n, m)$ and $G(n, p)$ of random graphs do exhibit small\n",
    "world behavior (as $n \\to \\infty$). However, when it comes to **clustering** (coming up next!) these graphs do not behave as small world networks. For that, we'll need to look at different models of random networks."
   ]
  },
  {
   "cell_type": "markdown",
   "metadata": {
    "slideshow": {
     "slide_type": "subslide"
    }
   },
   "source": [
    "## Transitivity"
   ]
  },
  {
   "cell_type": "markdown",
   "metadata": {
    "slideshow": {
     "slide_type": "subslide"
    }
   },
   "source": [
    "**Definition (Graph transitivity).**\n",
    "Recall that a **triad** is a tree on $3$ nodes or, equivalently, a graph consisting of $2$\n",
    "adjacent edges (and the nodes they connect).  The **transitivity** $T$ of a graph $G = (X, E)$\n",
    "is the proportion of **transitive** triads, i.e., triads which are subgraphs of **triangles**. This proportion can be computed as follows:\n",
    "$$\n",
    "T = \\frac{3 n_{\\Delta}}{n_{\\wedge}},\n",
    "$$\n",
    "where $n_{\\Delta}$ is the number of triangles in $G$, and $n_{\\wedge}$ is the number of triads.\n"
   ]
  },
  {
   "cell_type": "markdown",
   "metadata": {
    "slideshow": {
     "slide_type": "fragment"
    }
   },
   "source": [
    "By definition, $0 \\leq T \\leq 1$."
   ]
  },
  {
   "cell_type": "markdown",
   "metadata": {
    "slideshow": {
     "slide_type": "subslide"
    }
   },
   "source": [
    "**Example.**"
   ]
  },
  {
   "cell_type": "code",
   "execution_count": null,
   "metadata": {
    "slideshow": {
     "slide_type": "fragment"
    }
   },
   "outputs": [],
   "source": [
    "G = nx.Graph(((1,2), (2,3), (3,1), (3,4), (3,5)))\n",
    "nx.draw(G, **opts)"
   ]
  },
  {
   "cell_type": "markdown",
   "metadata": {
    "slideshow": {
     "slide_type": "subslide"
    }
   },
   "source": [
    "The function `nx.triangles(G)` returns a `python` dictionary reporting for each node\n",
    "of the graph `G` the number of triangles it is contained in."
   ]
  },
  {
   "cell_type": "code",
   "execution_count": null,
   "metadata": {
    "slideshow": {
     "slide_type": "fragment"
    }
   },
   "outputs": [],
   "source": [
    "print(nx.triangles(G))"
   ]
  },
  {
   "cell_type": "markdown",
   "metadata": {
    "slideshow": {
     "slide_type": "subslide"
    }
   },
   "source": [
    "Overall, each triangle in `G` is thus accounted for $3$ times, once for each of its\n",
    "vertices.  Hence, the following sum determines this number $3 n_{\\Delta}$."
   ]
  },
  {
   "cell_type": "code",
   "execution_count": null,
   "metadata": {
    "slideshow": {
     "slide_type": "fragment"
    }
   },
   "outputs": [],
   "source": [
    "triple_nr_triangles = sum(nx.triangles(G).values())\n",
    "print(triple_nr_triangles)"
   ]
  },
  {
   "cell_type": "markdown",
   "metadata": {
    "slideshow": {
     "slide_type": "subslide"
    }
   },
   "source": [
    "As we've seen, the number $n_{\\wedge}$ of triads in `G` can be determined from the graph's degree\n",
    "sequence, as each node of degree $k$ is the central node of exactly\n",
    "$\\binom{k}{2}$ triads.  "
   ]
  },
  {
   "cell_type": "code",
   "execution_count": null,
   "metadata": {
    "slideshow": {
     "slide_type": "subslide"
    }
   },
   "outputs": [],
   "source": [
    "print(G.degree())\n",
    "print({k : v * (v-1) // 2 for k, v in dict(G.degree()).items()})\n",
    "nr_triads = sum([v * (v-1) // 2 for v in dict(G.degree()).values()])\n",
    "nr_triads"
   ]
  },
  {
   "cell_type": "markdown",
   "metadata": {
    "slideshow": {
     "slide_type": "subslide"
    }
   },
   "source": [
    "The transitivity $T$ of `G` is the quotient of these two quantities, $T = 3 n_{\\Delta}/n_{\\wedge}$,\n",
    "which `networkx` computes with a function `transitivity`."
   ]
  },
  {
   "cell_type": "code",
   "execution_count": null,
   "metadata": {
    "slideshow": {
     "slide_type": "fragment"
    }
   },
   "outputs": [],
   "source": [
    "print(triple_nr_triangles / nr_triads )\n",
    "print(nx.transitivity(G))"
   ]
  },
  {
   "cell_type": "markdown",
   "metadata": {
    "slideshow": {
     "slide_type": "subslide"
    }
   },
   "source": [
    "* The transitivity of a $G(n, p)$ **random graph** is\n",
    "$$\n",
    "T = p,\n",
    "$$\n",
    "the probability of any edge as third edge in a triangle.\n",
    "\n"
   ]
  },
  {
   "cell_type": "markdown",
   "metadata": {
    "slideshow": {
     "slide_type": "slide"
    }
   },
   "source": [
    "## Clustering"
   ]
  },
  {
   "cell_type": "markdown",
   "metadata": {
    "slideshow": {
     "slide_type": "fragment"
    }
   },
   "source": [
    "The concept of **clustering** measures the transitivity of a node, or of an entire graph in a different way."
   ]
  },
  {
   "cell_type": "markdown",
   "metadata": {
    "slideshow": {
     "slide_type": "subslide"
    }
   },
   "source": [
    "For that, we'll need to recall the concept of **induced subgraph**. "
   ]
  },
  {
   "cell_type": "markdown",
   "metadata": {
    "slideshow": {
     "slide_type": "fragment"
    }
   },
   "source": [
    "Given $G=(X,E)$ and $Y\\subset X$, the induced subgraph of $G$ on $Y$ is the graph $H=\\left(Y,E\\cap \\binom{Y}{2}\\right)$."
   ]
  },
  {
   "cell_type": "markdown",
   "metadata": {
    "slideshow": {
     "slide_type": "subslide"
    }
   },
   "source": [
    "**Definition (Clustering coefficient).**\n",
    "For a node $i \\in X$ of a graph $G = (X, E)$, denote by\n",
    "$G_i$ the subgraph induced on the neighbours of $i$ in $G$,\n",
    "and by $m(G_i)$ its number of edges."
   ]
  },
  {
   "cell_type": "markdown",
   "metadata": {
    "slideshow": {
     "slide_type": "subslide"
    }
   },
   "source": [
    "The **node clustering coefficient** $c_i$ of node $i$ is defined\n",
    "as\n",
    "$$\n",
    "c_i = \\begin{cases}\n",
    "\\binom{k_i}{2}^{-1} m(G_i), & k_i \\geq 2, \\\\\n",
    "0, & \\text{else.}\n",
    "\\end{cases}\n",
    "$$\n",
    "That is, the node clustering coefficient measures the proportion of existing edges its **social graph** among the possible edges."
   ]
  },
  {
   "cell_type": "markdown",
   "metadata": {
    "slideshow": {
     "slide_type": "subslide"
    }
   },
   "source": [
    "The **graph clustering coefficient** $C$ of $G$ is the \n",
    "average node clustering coefficient,\n",
    "$$\n",
    "C = \\langle c\\rangle = \\frac1n \\sum_{i=1}^n c_i.\n",
    "$$"
   ]
  },
  {
   "cell_type": "markdown",
   "metadata": {
    "slideshow": {
     "slide_type": "fragment"
    }
   },
   "source": [
    "By definition, $0 \\leq c_i \\leq 1$ for all nodes $i \\in X$, and $0 \\leq C \\leq 1$."
   ]
  },
  {
   "cell_type": "markdown",
   "metadata": {
    "slideshow": {
     "slide_type": "subslide"
    }
   },
   "source": [
    "**Example.**"
   ]
  },
  {
   "cell_type": "code",
   "execution_count": null,
   "metadata": {
    "slideshow": {
     "slide_type": "subslide"
    }
   },
   "outputs": [],
   "source": [
    "G = nx.Graph([(0,1), (0,2), (0,3), (0,4), (1,2), (1,3), (2,3), (3,4)])\n",
    "nx.draw(G, **opts)"
   ]
  },
  {
   "cell_type": "code",
   "execution_count": null,
   "metadata": {
    "slideshow": {
     "slide_type": "subslide"
    }
   },
   "outputs": [],
   "source": [
    "N = nx.neighbors(G, 0)\n",
    "S = G.subgraph(list(N))\n",
    "nx.draw(S, **opts)"
   ]
  },
  {
   "cell_type": "code",
   "execution_count": null,
   "metadata": {
    "slideshow": {
     "slide_type": "subslide"
    }
   },
   "outputs": [],
   "source": [
    "nS = S.number_of_nodes()\n",
    "nS_choose_2 = nS * (nS - 1) // 2\n",
    "mS = S.number_of_edges()\n",
    "print(nS, mS, mS / nS_choose_2 )"
   ]
  },
  {
   "cell_type": "code",
   "execution_count": null,
   "metadata": {
    "slideshow": {
     "slide_type": "subslide"
    }
   },
   "outputs": [],
   "source": [
    "nx.clustering(G)"
   ]
  },
  {
   "cell_type": "code",
   "execution_count": null,
   "metadata": {
    "slideshow": {
     "slide_type": "subslide"
    }
   },
   "outputs": [],
   "source": [
    "nx.average_clustering(G)"
   ]
  },
  {
   "cell_type": "markdown",
   "metadata": {
    "slideshow": {
     "slide_type": "subslide"
    }
   },
   "source": [
    "* The **node clustering coefficient** of any node $i$ in a $G(n, p)$ **random graph** is\n",
    "$c_i = p$. (In any selection of potential edges, by construction a proportion $p$ of them is\n",
    "present in the random graph; this is true in particular for the $\\binom{k}{2}$ potential\n",
    "edges between the $k$ neighbors of a node of degree $k$.)\n",
    "\n",
    "* Thus the **graph clustering coefficient** of a $G(n, p)$ **random graph** is\n",
    "$$\n",
    "C = p.\n",
    "$$"
   ]
  },
  {
   "cell_type": "markdown",
   "metadata": {
    "slideshow": {
     "slide_type": "subslide"
    }
   },
   "source": [
    "* Note that when $p(n) = \\langle k \\rangle n^{-1}$ for a fixed expected average degree $\\langle k \\rangle$\n",
    "then $C = \\langle k \\rangle / n \\to 0$ for $n \\to \\infty$: in large ERrandom graphs\n",
    "the number of triangles is negligible.\n",
    "\n",
    "* In real world networks, one often observes that $C / \\langle k \\rangle$ does not depend\n",
    "on $n$ (as $n \\to \\infty$)."
   ]
  },
  {
   "cell_type": "markdown",
   "metadata": {
    "slideshow": {
     "slide_type": "subslide"
    }
   },
   "source": [
    "### Clustering vs Transitivity\n",
    "\n",
    "For a node $i \\in X$, denote by $n_i^{\\wedge} = \\binom{k_i}{2}$ the number of\n",
    "triads containing $i$ as their central node, and by $n_i^{\\Delta}$ the actual\n",
    "number of triangles containing $i$.\n",
    "\n",
    "Then the node clustering coefficient is $c_i = n_i^{\\Delta}/n_i^{\\wedge}$,\n",
    "or $n_i^{\\Delta} = n_i^{\\wedge} c_i$.\n",
    "\n",
    "Moreover $3 n_{\\Delta} = \\sum_i n_i^{\\Delta}$ and $n_{\\wedge} = \\sum_i n_i^{\\wedge}$."
   ]
  },
  {
   "cell_type": "markdown",
   "metadata": {
    "slideshow": {
     "slide_type": "subslide"
    }
   },
   "source": [
    "It follows that\n",
    "$$\n",
    "T = \\frac{3 n_{\\Delta}}{n_{\\wedge}} = \\frac1{n_{\\wedge}} \\sum_i n_i^{\\wedge} c_i\n",
    "$$\n",
    "in contrast to\n",
    "$$\n",
    "C = \\frac1n \\sum_i c_i.\n",
    "$$"
   ]
  },
  {
   "cell_type": "markdown",
   "metadata": {
    "slideshow": {
     "slide_type": "subslide"
    }
   },
   "source": [
    "That is, $C$ is the (plain) **average** of the node clustering coefficients, whereas $T$ is a\n",
    "**weighted average** of node clustering coefficients, giving higher weight to\n",
    "high degree nodes."
   ]
  },
  {
   "cell_type": "markdown",
   "metadata": {
    "slideshow": {
     "slide_type": "subslide"
    }
   },
   "source": [
    "The following example illustrates how $C$ and $T$ are different measures: as $n \\to \\infty$ here, $T \\to 0$ while $C \\to 1$."
   ]
  },
  {
   "cell_type": "code",
   "execution_count": null,
   "metadata": {
    "slideshow": {
     "slide_type": "subslide"
    }
   },
   "outputs": [],
   "source": [
    "n = 100\n",
    "G = nx.Graph([\"AB\"])\n",
    "G.add_edges_from([(x, k) for x in \"AB\" for k in range(n)])\n",
    "    \n",
    "nx.draw(G, **opts)"
   ]
  },
  {
   "cell_type": "code",
   "execution_count": null,
   "metadata": {
    "slideshow": {
     "slide_type": "subslide"
    }
   },
   "outputs": [],
   "source": [
    "nx.average_clustering(G), nx.transitivity(G)"
   ]
  },
  {
   "cell_type": "markdown",
   "metadata": {
    "slideshow": {
     "slide_type": "subslide"
    }
   },
   "source": [
    "* The fact that ER random networks tend to have low transitivity and clustering shows the need of a new kind of (random) network construction\n",
    "that is better at modelling real world networks.\n",
    "\n",
    "* One idea, developed by Watts and Strogatz in 1998, is to start with some **regular network** that\n",
    "naturally has a **high clustering**, and then to randomly distort its edges, to introduce some **short paths**."
   ]
  },
  {
   "cell_type": "markdown",
   "metadata": {
    "slideshow": {
     "slide_type": "fragment"
    }
   },
   "source": [
    "Let's first have a look at some families of networks and their transitivity and clustering."
   ]
  },
  {
   "cell_type": "markdown",
   "metadata": {
    "slideshow": {
     "slide_type": "slide"
    }
   },
   "source": [
    "##  Lattices"
   ]
  },
  {
   "cell_type": "markdown",
   "metadata": {
    "slideshow": {
     "slide_type": "subslide"
    }
   },
   "source": [
    "* A **triangular lattice** is (a finite porition of) a regular tiling of the Euclidean plane by triangles.\n",
    "Here, each (inner) vertex has $6$ neighbors, which are linked in a cycle, giving\n",
    "a node clustering coefficient of $6/\\binom{6}{2} = 2/5 = 0.4$."
   ]
  },
  {
   "cell_type": "markdown",
   "metadata": {
    "slideshow": {
     "slide_type": "subslide"
    }
   },
   "source": [
    "* A rectangular finite region of a triangular lattice with $m$ strips of $n$ triangles of constant height\n",
    "can be generated with the command `nx.triangular_lattice_graph(m, n)`"
   ]
  },
  {
   "cell_type": "code",
   "execution_count": null,
   "metadata": {
    "slideshow": {
     "slide_type": "subslide"
    }
   },
   "outputs": [],
   "source": [
    "G = nx.triangular_lattice_graph(5, 7)\n",
    "nx.draw(G, **opts)"
   ]
  },
  {
   "cell_type": "code",
   "execution_count": null,
   "metadata": {
    "slideshow": {
     "slide_type": "subslide"
    }
   },
   "outputs": [],
   "source": [
    "print(nx.clustering(G))"
   ]
  },
  {
   "cell_type": "code",
   "execution_count": null,
   "metadata": {
    "slideshow": {
     "slide_type": "fragment"
    }
   },
   "outputs": [],
   "source": [
    "nx.average_clustering(G)"
   ]
  },
  {
   "cell_type": "markdown",
   "metadata": {
    "slideshow": {
     "slide_type": "subslide"
    }
   },
   "source": [
    "* However, other kinds of lattice graphs contain no triangles at all!"
   ]
  },
  {
   "cell_type": "code",
   "execution_count": null,
   "metadata": {
    "slideshow": {
     "slide_type": "subslide"
    }
   },
   "outputs": [],
   "source": [
    "G = nx.grid_2d_graph(4, 4)\n",
    "nx.draw(G, with_labels=True, node_color='y')"
   ]
  },
  {
   "cell_type": "code",
   "execution_count": null,
   "metadata": {
    "slideshow": {
     "slide_type": "fragment"
    }
   },
   "outputs": [],
   "source": [
    "nx.average_clustering(G)"
   ]
  },
  {
   "cell_type": "markdown",
   "metadata": {
    "slideshow": {
     "slide_type": "slide"
    }
   },
   "source": [
    "## Path Graphs"
   ]
  },
  {
   "cell_type": "code",
   "execution_count": null,
   "metadata": {
    "slideshow": {
     "slide_type": "subslide"
    }
   },
   "outputs": [],
   "source": [
    "n = 10\n",
    "G = nx.path_graph(n)\n",
    "nx.draw(G, **opts)"
   ]
  },
  {
   "cell_type": "code",
   "execution_count": null,
   "metadata": {
    "slideshow": {
     "slide_type": "subslide"
    }
   },
   "outputs": [],
   "source": [
    "nx.average_clustering(G)"
   ]
  },
  {
   "cell_type": "markdown",
   "metadata": {
    "slideshow": {
     "slide_type": "subslide"
    }
   },
   "source": [
    "* **Idea:** to produce some triangles in a path graph with $n$ vertices, additionally connect each node to all nodes not further than $d$\n",
    "steps away ..."
   ]
  },
  {
   "cell_type": "code",
   "execution_count": null,
   "metadata": {
    "slideshow": {
     "slide_type": "subslide"
    }
   },
   "outputs": [],
   "source": [
    "for v in range(n-2):\n",
    "    G.add_edge(v, v+2)\n",
    "nx.draw(G, **opts)\n",
    "nx.average_clustering(G)"
   ]
  },
  {
   "cell_type": "code",
   "execution_count": null,
   "metadata": {
    "slideshow": {
     "slide_type": "subslide"
    }
   },
   "outputs": [],
   "source": [
    "for v in range(n-3):\n",
    "    G.add_edge(v, v+3)\n",
    "nx.draw(G, **opts)\n",
    "nx.average_clustering(G)"
   ]
  },
  {
   "cell_type": "markdown",
   "metadata": {
    "slideshow": {
     "slide_type": "subslide"
    }
   },
   "source": [
    "## Circle Graphs"
   ]
  },
  {
   "cell_type": "markdown",
   "metadata": {
    "slideshow": {
     "slide_type": "fragment"
    }
   },
   "source": [
    "* Or, same thing on a cycle ..."
   ]
  },
  {
   "cell_type": "code",
   "execution_count": null,
   "metadata": {
    "slideshow": {
     "slide_type": "subslide"
    }
   },
   "outputs": [],
   "source": [
    "n = 10\n",
    "G = nx.cycle_graph(n)\n",
    "nx.draw(G, **opts)\n",
    "print(nx.average_clustering(G))\n",
    "print(nx.average_shortest_path_length(G))"
   ]
  },
  {
   "cell_type": "code",
   "execution_count": null,
   "metadata": {
    "slideshow": {
     "slide_type": "subslide"
    }
   },
   "outputs": [],
   "source": [
    "for v in G:\n",
    "    G.add_edge(v, (v+2) % n)\n",
    "nx.draw_circular(G, **opts)\n",
    "print(nx.average_clustering(G))\n",
    "print(nx.average_shortest_path_length(G))"
   ]
  },
  {
   "cell_type": "markdown",
   "metadata": {
    "slideshow": {
     "slide_type": "subslide"
    }
   },
   "source": [
    "Looks like we're going in the right direction: $L$ is getting smaller while $C$ is increasing."
   ]
  },
  {
   "cell_type": "code",
   "execution_count": null,
   "metadata": {
    "slideshow": {
     "slide_type": "subslide"
    }
   },
   "outputs": [],
   "source": [
    "for v in G:\n",
    "    G.add_edge(v, (v+3) % n)\n",
    "nx.draw_circular(G, **opts)\n",
    "print(nx.average_clustering(G))\n",
    "print(nx.average_shortest_path_length(G))"
   ]
  },
  {
   "cell_type": "markdown",
   "metadata": {
    "slideshow": {
     "slide_type": "slide"
    }
   },
   "source": [
    "##  Code Corner"
   ]
  },
  {
   "cell_type": "markdown",
   "metadata": {
    "slideshow": {
     "slide_type": "subslide"
    }
   },
   "source": [
    "### `networkx`"
   ]
  },
  {
   "cell_type": "markdown",
   "metadata": {},
   "source": [
    "* `triangles`: [[doc]](https://networkx.org/documentation/stable/reference/algorithms/generated/networkx.algorithms.cluster.triangles.html)\n",
    "\n",
    "\n",
    "* `transitivity`: [[doc]](https://networkx.org/documentation/stable/reference/algorithms/generated/networkx.algorithms.cluster.transitivity.html)\n",
    "\n",
    "\n",
    "* `clustering`: [[doc]](https://networkx.org/documentation/stable/reference/algorithms/generated/networkx.algorithms.cluster.clustering.html)\n",
    "\n",
    "\n",
    "* `average_clustering`: [[doc]](https://networkx.org/documentation/stable/reference/algorithms/generated/networkx.algorithms.cluster.average_clustering.html)"
   ]
  },
  {
   "cell_type": "markdown",
   "metadata": {},
   "source": [
    "* `triangular_lattice_graph`: [[doc]](https://networkx.github.io/documentation/stable/reference/generated/networkx.generators.lattice.triangular_lattice_graph.html)\n",
    "\n",
    "\n",
    "* `grid_2d_graph`: [[doc]](https://networkx.github.io/documentation/stable/reference/generated/networkx.generators.lattice.grid_2d_graph.html)\n",
    "\n",
    "\n",
    "* `grid_graph`: [[doc]](https://networkx.github.io/documentation/stable/reference/generated/networkx.generators.lattice.grid_graph.html)\n",
    "\n",
    "\n",
    "* `path_graph`: [[doc]](https://networkx.github.io/documentation/networkx-1.9/reference/generated/networkx.generators.classic.path_graph.html)\n",
    "\n",
    "\n",
    "* `cycle_graph`: [[doc]](https://networkx.github.io/documentation/networkx-1.9/reference/generated/networkx.generators.classic.cycle_graph.html)\n",
    "\n",
    "\n",
    "* `circulant_graph`: [[doc]](https://networkx.github.io/documentation/stable/reference/generated/networkx.generators.classic.circulant_graph.html)\n",
    "\n",
    "\n",
    "* `draw_circular`: [[doc]](https://networkx.github.io/documentation/stable/reference/generated/networkx.drawing.nx_pylab.draw_circular.html)"
   ]
  },
  {
   "cell_type": "markdown",
   "metadata": {
    "slideshow": {
     "slide_type": "slide"
    }
   },
   "source": [
    "##  Exercises"
   ]
  },
  {
   "cell_type": "markdown",
   "metadata": {
    "slideshow": {
     "slide_type": "subslide"
    }
   },
   "source": [
    "1. What are the characteristic path length $L$, the transitivity $T$, and the clustering coefficient $C$\n",
    "of the Petersen graph?\n",
    "\n",
    "1. What are the characteristic path length $L$, the transitivity $T$, and the clustering coefficient $C$\n",
    "of the Florentine families marital graph?\n",
    "\n",
    "2. What is the transitivity and what is the clustering coefficient\n",
    "of a complete graph on $n$ nodes?\n",
    "\n",
    "3. What is the transitivity and what is the clustering coefficient\n",
    "of a tree on $n$ nodes?\n",
    "\n"
   ]
  },
  {
   "cell_type": "code",
   "execution_count": null,
   "metadata": {},
   "outputs": [],
   "source": []
  }
 ],
 "metadata": {
  "celltoolbar": "Slideshow",
  "kernelspec": {
   "display_name": "Python 3 (ipykernel)",
   "language": "python",
   "name": "python3"
  },
  "language_info": {
   "codemirror_mode": {
    "name": "ipython",
    "version": 3
   },
   "file_extension": ".py",
   "mimetype": "text/x-python",
   "name": "python",
   "nbconvert_exporter": "python",
   "pygments_lexer": "ipython3",
   "version": "3.9.7"
  }
 },
 "nbformat": 4,
 "nbformat_minor": 2
}
