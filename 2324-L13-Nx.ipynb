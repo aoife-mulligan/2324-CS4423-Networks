{
 "cells": [
  {
   "cell_type": "markdown",
   "metadata": {
    "slideshow": {
     "slide_type": "skip"
    }
   },
   "source": [
    "### CS4423 - Networks\n",
    "Angela Carnevale  \n",
    "School of Mathematical and Statistical Sciences  \n",
    "University of Galway"
   ]
  },
  {
   "cell_type": "markdown",
   "metadata": {
    "slideshow": {
     "slide_type": "slide"
    }
   },
   "source": [
    "#### 4. Random Networks\n",
    "\n",
    "# Week 7, lecture 1: Erdős-Rényi Random Graph Models."
   ]
  },
  {
   "cell_type": "markdown",
   "metadata": {
    "slideshow": {
     "slide_type": "subslide"
    }
   },
   "source": [
    "A [random graph](https://en.wikipedia.org/wiki/Random_graph) is a **mathematical model of a family of networks**, where certain parameters (like the number of nodes and edges) have fixed values, but other aspects (like the actual edges) are randomly assigned. "
   ]
  },
  {
   "cell_type": "markdown",
   "metadata": {
    "slideshow": {
     "slide_type": "subslide"
    }
   },
   "source": [
    "The simplest example of a random graph is in fact a network with fixed numbers $n$ of nodes and $m$ of edges,  randomly placed between the vertices. Although a random graph is not a specific object, many of its properties can be described precisely in the form of **expected values** or **probability distributions**."
   ]
  },
  {
   "cell_type": "markdown",
   "metadata": {
    "slideshow": {
     "slide_type": "subslide"
    }
   },
   "source": [
    "<img src=\"https://upload.wikimedia.org/wikipedia/commons/thumb/1/13/Erdos_generated_network-p0.01.jpg/1280px-Erdos_generated_network-p0.01.jpg\">"
   ]
  },
  {
   "cell_type": "code",
   "execution_count": null,
   "metadata": {
    "slideshow": {
     "slide_type": "subslide"
    }
   },
   "outputs": [],
   "source": [
    "import networkx as nx\n",
    "import random\n",
    "opts = { \"with_labels\": True, \"node_color\": 'y'}\n",
    "opts1 = { \"with_labels\": True, \"node_color\": 'lightblue'}"
   ]
  },
  {
   "cell_type": "markdown",
   "metadata": {
    "slideshow": {
     "slide_type": "slide"
    }
   },
   "source": [
    "## Random Samples"
   ]
  },
  {
   "cell_type": "markdown",
   "metadata": {
    "slideshow": {
     "slide_type": "subslide"
    }
   },
   "source": [
    "* Our goal is to randomly select edges on a given vertex set $X$. That is, pick at random elements from the set $\\binom{X}{2}$ of pairs of nodes.\n",
    "\n",
    "* So we need a procedure\n",
    "for selecting $m$ from $N$ objects randomly, in such a way that each of the $\\binom{N}{m}$\n",
    "subsets of the $N$ objects is an equally likely outcome.\n",
    "\n",
    "* We first discuss sampling $m$ values in the range $\\{0, 1, \\dots, N{-}1\\}$."
   ]
  },
  {
   "cell_type": "markdown",
   "metadata": {
    "slideshow": {
     "slide_type": "subslide"
    }
   },
   "source": [
    "### An intuitive approach."
   ]
  },
  {
   "cell_type": "markdown",
   "metadata": {
    "slideshow": {
     "slide_type": "subslide"
    }
   },
   "source": [
    "Maybe the most obvious approach is to select each number in the desired range with probability $p = m/N$.\n",
    "\n",
    "* `Python`'s basic random number generator `random.random` returns a random number in the (half-open) interval $[0, 1)$ every time it is called.  \n",
    "\n",
    "* Looping with `a` over `range(N)`: if the randomly generated number is less than $p$, then we include the current value of `a`, if not we don't."
   ]
  },
  {
   "cell_type": "code",
   "execution_count": null,
   "metadata": {
    "slideshow": {
     "slide_type": "subslide"
    }
   },
   "outputs": [],
   "source": [
    "def random_sample_B(N, p):\n",
    "    \"sample elements in range(n) with probability p\"\n",
    "    sample = []\n",
    "    for a in range(N):\n",
    "        if random.random() < p:\n",
    "            sample.append(a)\n",
    "    return sample "
   ]
  },
  {
   "cell_type": "markdown",
   "metadata": {
    "slideshow": {
     "slide_type": "subslide"
    }
   },
   "source": [
    "Let's see a small example:"
   ]
  },
  {
   "cell_type": "code",
   "execution_count": null,
   "metadata": {
    "slideshow": {
     "slide_type": "fragment"
    }
   },
   "outputs": [],
   "source": [
    "N = 100\n",
    "m = 10"
   ]
  },
  {
   "cell_type": "code",
   "execution_count": null,
   "metadata": {
    "slideshow": {
     "slide_type": "subslide"
    }
   },
   "outputs": [],
   "source": [
    "pick = random_sample_B(N, m/N)\n",
    "pick"
   ]
  },
  {
   "cell_type": "code",
   "execution_count": null,
   "metadata": {},
   "outputs": [],
   "source": [
    "len(pick)"
   ]
  },
  {
   "cell_type": "markdown",
   "metadata": {
    "slideshow": {
     "slide_type": "subslide"
    }
   },
   "source": [
    "**Note.** Unfortunately, this gives a sample of size $m$ only **on average**.\n",
    "Let's check the average size of, say, $10000$ samples."
   ]
  },
  {
   "cell_type": "code",
   "execution_count": null,
   "metadata": {
    "slideshow": {
     "slide_type": "subslide"
    }
   },
   "outputs": [],
   "source": [
    "c = 10000\n",
    "sum(len(random_sample_B(N, m/N)) for i in range(c))/c"
   ]
  },
  {
   "cell_type": "markdown",
   "metadata": {
    "slideshow": {
     "slide_type": "subslide"
    }
   },
   "source": [
    "Let $k$ be the sample size, as a random variable. Then its\n",
    "\n",
    "**Expected value:** $E[k] = Np = m$.\n",
    "\n",
    "**Standard deviation:** $\\sigma_k=\\sqrt{m(1-m/N)}$. "
   ]
  },
  {
   "cell_type": "markdown",
   "metadata": {
    "slideshow": {
     "slide_type": "subslide"
    }
   },
   "source": [
    "**Proof:** This is a [binomial distribution](https://en.wikipedia.org/wiki/Binomial_distribution).\n",
    "\n",
    "* The probability of a specific subset of size $k$ to be chosen is $p^k (1-p)^{N-k}$.\n",
    "\n",
    "* As there are $\\binom{N}{k}$ subsets of size $k$, the probabilty $P(k)$\n",
    "  of the sample to have size $k$ is $P(k) = \\binom{N}{k} p^k (1-p)^{N-k}$."
   ]
  },
  {
   "cell_type": "markdown",
   "metadata": {
    "slideshow": {
     "slide_type": "subslide"
    }
   },
   "source": [
    "**Expected value:**\n",
    "\n",
    "* Thus $E[k] = \\sum_{j=0}^N P(j) \\cdot j = \\sum_{j=0}^N j \\binom{N}{j} p^j (1-p)^{N-j} \n",
    " = Np\\sum_{l=0}^{N-1} \\binom{N-1}{l} p^l (1-p)^{(N-1)-l}\n",
    "= Np\n",
    "$, substituting $l = k - 1$, \n",
    "\n",
    "\n",
    "* as $j \\binom{N}{j} p^j = Np \\binom{N-1}{j-1} p^{j-1}$, $(1-p)^{N-j} = (1-p)^{(N-1)-(j-1)}$ and $(p+(1-p))^r=1$ for all $r$."
   ]
  },
  {
   "cell_type": "markdown",
   "metadata": {
    "slideshow": {
     "slide_type": "subslide"
    }
   },
   "source": [
    "**Standard deviation:** \n",
    "\n",
    "One can check that variance and standard deviation are as follows:\n",
    "\n",
    "\n",
    "* $E[k^2] - E[k]^2 = N(N-1)p^2 + Np - (Np)^2 = Np(1-p)$.\n",
    "\n",
    "\n",
    "* Thus $\\sigma_k = \\sqrt{m(1-m/N})$."
   ]
  },
  {
   "cell_type": "code",
   "execution_count": null,
   "metadata": {
    "slideshow": {
     "slide_type": "subslide"
    }
   },
   "outputs": [],
   "source": [
    "c = 10000\n",
    "sum(1 for i in range(c) if len(random_sample_B(N, m/N)) == m)"
   ]
  },
  {
   "cell_type": "markdown",
   "metadata": {
    "slideshow": {
     "slide_type": "slide"
    }
   },
   "source": [
    "### Another strategy."
   ]
  },
  {
   "cell_type": "markdown",
   "metadata": {
    "slideshow": {
     "slide_type": "subslide"
    }
   },
   "source": [
    "A simple modification of this procedure will always yield samples of size $m$\n",
    "[see Knuth: The Art of Computer Programming, Vol. 2, Section 3.4.2, Algorithm S] :\n",
    "\n",
    "* The number $a$ should be selected with probability $(m-c)/(N-a)$,\n",
    "if $c$ items have already been selected."
   ]
  },
  {
   "cell_type": "code",
   "execution_count": null,
   "metadata": {
    "slideshow": {
     "slide_type": "subslide"
    }
   },
   "outputs": [],
   "source": [
    "def random_sample_A(N, m):\n",
    "    sample = []\n",
    "    for a in range(N):\n",
    "        if (N - a) * random.random() < m - len(sample):\n",
    "            sample.append(a)\n",
    "    return sample"
   ]
  },
  {
   "cell_type": "markdown",
   "metadata": {
    "slideshow": {
     "slide_type": "subslide"
    }
   },
   "source": [
    "Let's see a small example."
   ]
  },
  {
   "cell_type": "code",
   "execution_count": null,
   "metadata": {},
   "outputs": [],
   "source": [
    "N = 100\n",
    "m = 10\n",
    "pick = random_sample_A(N, m)\n",
    "pick"
   ]
  },
  {
   "cell_type": "code",
   "execution_count": null,
   "metadata": {},
   "outputs": [],
   "source": [
    "len(pick)"
   ]
  },
  {
   "cell_type": "markdown",
   "metadata": {
    "slideshow": {
     "slide_type": "subslide"
    }
   },
   "source": [
    "We now apply these strategies A and B to the problem of randomly selecting edges for a graph on the vertex set $X = \\{0, 1, \\dots, n-1\\}$."
   ]
  },
  {
   "cell_type": "markdown",
   "metadata": {
    "slideshow": {
     "slide_type": "slide"
    }
   },
   "source": [
    "## Uniformly Selected Edges"
   ]
  },
  {
   "cell_type": "markdown",
   "metadata": {
    "slideshow": {
     "slide_type": "subslide"
    }
   },
   "source": [
    "* Let us denote by $G(n, m)$ a network with $n$ nodes and $m$ chosen\n",
    "edges, chosen uniformly at random (out of the possible\n",
    "$\\binom{n}{2}$).  \n",
    "\n",
    "* Equivalently, one can choose uniformly at random\n",
    "one network in the **set** $G(n, m)$ of **all** networks on a given set\n",
    "of $n$ nodes with **exactly** $m$ edges."
   ]
  },
  {
   "cell_type": "markdown",
   "metadata": {
    "slideshow": {
     "slide_type": "subslide"
    }
   },
   "source": [
    "**Definition (ER Model $A$: Uniform Random Graphs).**\n",
    "\n",
    "Let $n \\geq 1$, let $N = \\binom{n}{2}$ and let $0 \\leq m \\leq N$.\n",
    "\n",
    "The model $G(n, m)$ consists of the ensemble of graphs $G$\n",
    "with $n$ nodes $X = \\{0, 1, \\dots, n{-}1\\}$, and $m$ randomly selected\n",
    "edges, chosen uniformly from the $N=\\binom{n}{2}$ possible edges."
   ]
  },
  {
   "cell_type": "markdown",
   "metadata": {
    "slideshow": {
     "slide_type": "subslide"
    }
   },
   "source": [
    "One could think of $G(n, m)$ as a probability distribution\n",
    "$P \\colon G(n, m) \\to \\mathbb{R}$,\n",
    "that assigns to each network $G \\in G(n, m)$ the same probability\n",
    "$$\n",
    "P(G) = \\binom{N}{m}^{-1},\n",
    "$$\n",
    "where $N = \\binom{n}{2}$."
   ]
  },
  {
   "cell_type": "markdown",
   "metadata": {
    "slideshow": {
     "slide_type": "subslide"
    }
   },
   "source": [
    "For example ... (Picture from [_Complex Networks_, Latora et al.])"
   ]
  },
  {
   "cell_type": "markdown",
   "metadata": {},
   "source": [
    "<img src=\"images/random-gnm.png\">"
   ]
  },
  {
   "cell_type": "markdown",
   "metadata": {
    "slideshow": {
     "slide_type": "subslide"
    }
   },
   "source": [
    "* A function `random_graph_A` that\n",
    "takes the order $n$ and the size $m$ of a random ER graph of type A\n",
    "as arguments, and constructs such a graph can simply follow the \n",
    "`random_sample_A` algorithm and sample exactly $m$ of the $N = \\binom{n}{2}$\n",
    "available edges.  \n",
    "\n",
    "* We introduce explicit counters\n",
    "`a` (for the number of edges that have been considered)\n",
    "and `c` (for the number of chosen edges)."
   ]
  },
  {
   "cell_type": "code",
   "execution_count": null,
   "metadata": {
    "slideshow": {
     "slide_type": "subslide"
    }
   },
   "outputs": [],
   "source": [
    "def random_graph_A(n, m):\n",
    "    \"\"\"construct a random type A graph\n",
    "    with n nodes and m links\"\"\"\n",
    "    a = c = 0\n",
    "    N = n * (n-1) // 2 ## no. possible edges for graph with n nodes\n",
    "    G = nx.empty_graph(n)\n",
    "    for x in range(n):\n",
    "        for y in range(x):\n",
    "            if (N - a) * random.random() < m - c:\n",
    "                G.add_edge(x, y)\n",
    "                c += 1\n",
    "            a += 1\n",
    "    return G"
   ]
  },
  {
   "cell_type": "markdown",
   "metadata": {
    "slideshow": {
     "slide_type": "subslide"
    }
   },
   "source": [
    "Now we can construct and draw a random graph on $16$ vertices with $15$ edges."
   ]
  },
  {
   "cell_type": "code",
   "execution_count": null,
   "metadata": {
    "slideshow": {
     "slide_type": "fragment"
    }
   },
   "outputs": [],
   "source": [
    "n = 16\n",
    "m = 15"
   ]
  },
  {
   "cell_type": "code",
   "execution_count": null,
   "metadata": {
    "slideshow": {
     "slide_type": "subslide"
    }
   },
   "outputs": [],
   "source": [
    "G = random_graph_A(n, m)\n",
    "nx.draw(G, **opts)"
   ]
  },
  {
   "cell_type": "code",
   "execution_count": null,
   "metadata": {
    "slideshow": {
     "slide_type": "subslide"
    }
   },
   "outputs": [],
   "source": [
    "G.number_of_edges()"
   ]
  },
  {
   "cell_type": "markdown",
   "metadata": {
    "slideshow": {
     "slide_type": "subslide"
    }
   },
   "source": [
    "The `networkx` version of this random graph constructor is called `gnm_random_graph`\n",
    "and should produce the same random graphs with the same probability. "
   ]
  },
  {
   "cell_type": "code",
   "execution_count": null,
   "metadata": {
    "slideshow": {
     "slide_type": "subslide"
    }
   },
   "outputs": [],
   "source": [
    "G = nx.gnm_random_graph(n, m)\n",
    "nx.draw(G, **opts1)"
   ]
  },
  {
   "cell_type": "code",
   "execution_count": null,
   "metadata": {
    "slideshow": {
     "slide_type": "subslide"
    }
   },
   "outputs": [],
   "source": [
    "list(G.nodes())"
   ]
  },
  {
   "cell_type": "markdown",
   "metadata": {
    "slideshow": {
     "slide_type": "slide"
    }
   },
   "source": [
    "## Randomly Selected Edges"
   ]
  },
  {
   "cell_type": "markdown",
   "metadata": {
    "slideshow": {
     "slide_type": "fragment"
    }
   },
   "source": [
    "**Definition (ER Model $B$: Binomial Random Graphs).**\n",
    "Let $n \\geq 1$, let $N = \\binom{n}{2}$ and let $0 \\leq p \\leq 1$.\n",
    "\n",
    "\n",
    "The model $G(n, p)$ consists of the ensemble of graphs $G$\n",
    "with $n$ nodes $X = \\{0, 1, \\dots, n{-}1\\}$, and each of the $N$\n",
    "possible edges chosen with probability $p$."
   ]
  },
  {
   "cell_type": "markdown",
   "metadata": {
    "slideshow": {
     "slide_type": "subslide"
    }
   },
   "source": [
    "The probability $P_G$ of a particular graph $G = (X, E)$ with \n",
    "$X = \\{0, 1, \\dots, n{-}1\\}$ and\n",
    "$m = |E|$ edges in the $G(n, p)$ model is\n",
    "$$\n",
    "P_G = p^m(1-p)^{N-m}.\n",
    "$$"
   ]
  },
  {
   "cell_type": "markdown",
   "metadata": {
    "slideshow": {
     "slide_type": "subslide"
    }
   },
   "source": [
    "For example ... (Picture from [_Complex Networks_, Latora et al.])"
   ]
  },
  {
   "cell_type": "markdown",
   "metadata": {
    "slideshow": {
     "slide_type": "fragment"
    }
   },
   "source": [
    "<img src=\"images/random-gnp.png\">"
   ]
  },
  {
   "cell_type": "markdown",
   "metadata": {
    "slideshow": {
     "slide_type": "subslide"
    }
   },
   "source": [
    "Such a random graph is easy to generate programmatically, \n",
    "following the `random_sample_B` algorithm.\n",
    "\n",
    "* `python`'s basic random number generator\n",
    "`random.random` returns a random number in the (half-open) interval $[0, 1)$,\n",
    "every time it is called.  \n",
    "\n",
    "* Looping over the possible edges, we generate a random number this way. If this number is less than $p$, we include the edge, if not we don't."
   ]
  },
  {
   "cell_type": "code",
   "execution_count": null,
   "metadata": {
    "slideshow": {
     "slide_type": "subslide"
    }
   },
   "outputs": [],
   "source": [
    "def random_graph_B(n, p):\n",
    "    \"\"\"construct a random type B graph\n",
    "    with n nodes and edge probability p\"\"\"\n",
    "    G = nx.empty_graph(n)\n",
    "    for x in range(n):\n",
    "        for y in range(x):\n",
    "            if random.random() < p:\n",
    "                G.add_edge(x, y)\n",
    "    return G"
   ]
  },
  {
   "cell_type": "code",
   "execution_count": null,
   "metadata": {
    "slideshow": {
     "slide_type": "subslide"
    }
   },
   "outputs": [],
   "source": [
    "n = 16\n",
    "m = 15\n",
    "N = n*(n-1)//2\n",
    "m/N"
   ]
  },
  {
   "cell_type": "code",
   "execution_count": null,
   "metadata": {
    "slideshow": {
     "slide_type": "subslide"
    }
   },
   "outputs": [],
   "source": [
    "G = random_graph_B(n, m/N)\n",
    "nx.draw(G, **opts)\n",
    "G.size()"
   ]
  },
  {
   "cell_type": "code",
   "execution_count": null,
   "metadata": {
    "slideshow": {
     "slide_type": "fragment"
    }
   },
   "outputs": [],
   "source": [
    "G.number_of_nodes(), G.number_of_edges()"
   ]
  },
  {
   "cell_type": "markdown",
   "metadata": {
    "slideshow": {
     "slide_type": "subslide"
    }
   },
   "source": [
    "The `networkx` version of this random graph constructor is called `gnp_random_graph`\n",
    "and should produce the same random graphs with the same probability. "
   ]
  },
  {
   "cell_type": "code",
   "execution_count": null,
   "metadata": {
    "slideshow": {
     "slide_type": "subslide"
    }
   },
   "outputs": [],
   "source": [
    "G = nx.gnp_random_graph(n, m/N)\n",
    "nx.draw(G, **opts1)"
   ]
  },
  {
   "cell_type": "code",
   "execution_count": null,
   "metadata": {
    "slideshow": {
     "slide_type": "subslide"
    }
   },
   "outputs": [],
   "source": [
    "G.number_of_nodes(), G.number_of_edges()"
   ]
  },
  {
   "cell_type": "markdown",
   "metadata": {
    "slideshow": {
     "slide_type": "subslide"
    }
   },
   "source": [
    "##  Code Corner"
   ]
  },
  {
   "cell_type": "markdown",
   "metadata": {
    "slideshow": {
     "slide_type": "subslide"
    }
   },
   "source": [
    "### `random`\n",
    "\n",
    "* `random`: [[doc]](https://docs.python.org/2/library/random.html#random.random)\n",
    "\n",
    "\n",
    "* `sample`: [[doc]](https://docs.python.org/2/library/random.html#random.sample)"
   ]
  },
  {
   "cell_type": "markdown",
   "metadata": {
    "slideshow": {
     "slide_type": "subslide"
    }
   },
   "source": [
    "### `numpy`\n",
    "\n",
    "* `random.choice`: [[doc]](https://docs.scipy.org/doc/numpy-1.14.0/reference/generated/numpy.random.choice.html)"
   ]
  },
  {
   "cell_type": "markdown",
   "metadata": {
    "slideshow": {
     "slide_type": "subslide"
    }
   },
   "source": [
    "### `networkx`\n",
    "\n",
    "* `gnm_random_graph`: [[doc]](https://networkx.github.io/documentation/stable/reference/generated/networkx.generators.random_graphs.gnm_random_graph.html)\n",
    "\n",
    "\n",
    "* `gnp_random_graph`: [[doc]](https://networkx.github.io/documentation/stable/reference/generated/networkx.generators.random_graphs.gnp_random_graph.html)"
   ]
  },
  {
   "cell_type": "markdown",
   "metadata": {
    "slideshow": {
     "slide_type": "slide"
    }
   },
   "source": [
    "##  Exercises"
   ]
  },
  {
   "cell_type": "markdown",
   "metadata": {
    "slideshow": {
     "slide_type": "subslide"
    }
   },
   "source": [
    "1. Why does the algorithm used in the `random_sample_A` function above pick every $m$-element subset\n",
    "of the set $\\{0, 1, \\dots, N-1\\}$ with the same probability?\n",
    "\n",
    "1. Design an experiment that verifies this claim.  (E.g., there are $\\binom{10}{3} = 120$ different $3$-element\n",
    "subsets in a $10$-element set.  One could use `python`'s `frozenset`s to make each of these $3$-element sets\n",
    "a key in a dictionary which counts how often each set is picked when `random_sample_A` is applied a large number of times ...)\n",
    "\n",
    "1.  What is the expected number $E[m]$ of edges in the $G(n, p)$ model of random graphs?\n"
   ]
  },
  {
   "cell_type": "code",
   "execution_count": null,
   "metadata": {},
   "outputs": [],
   "source": []
  }
 ],
 "metadata": {
  "celltoolbar": "Slideshow",
  "kernelspec": {
   "display_name": "Python 3 (ipykernel)",
   "language": "python",
   "name": "python3"
  },
  "language_info": {
   "codemirror_mode": {
    "name": "ipython",
    "version": 3
   },
   "file_extension": ".py",
   "mimetype": "text/x-python",
   "name": "python",
   "nbconvert_exporter": "python",
   "pygments_lexer": "ipython3",
   "version": "3.9.7"
  }
 },
 "nbformat": 4,
 "nbformat_minor": 2
}
