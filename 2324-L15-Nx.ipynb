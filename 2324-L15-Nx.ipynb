{
 "cells": [
  {
   "cell_type": "markdown",
   "metadata": {
    "slideshow": {
     "slide_type": "skip"
    }
   },
   "source": [
    "### CS4423 - Networks\n",
    "Angela Carnevale  \n",
    "School of Mathematical and Statistical Sciences  \n",
    "University of Galway"
   ]
  },
  {
   "cell_type": "markdown",
   "metadata": {
    "slideshow": {
     "slide_type": "slide"
    }
   },
   "source": [
    "#### 4. Random Networks\n",
    "\n",
    "# Week 8, lecture 1: \n",
    "\n",
    "# Properties of Random Graphs. Towards Phase Transitions"
   ]
  },
  {
   "cell_type": "code",
   "execution_count": 1,
   "metadata": {
    "slideshow": {
     "slide_type": "subslide"
    }
   },
   "outputs": [],
   "source": [
    "import networkx as nx\n",
    "import random\n",
    "opts = { \"with_labels\": True, \"node_color\": 'y'}\n",
    "opts1 = { \"with_labels\": True, \"node_color\": 'lightblue'}"
   ]
  },
  {
   "cell_type": "markdown",
   "metadata": {
    "slideshow": {
     "slide_type": "subslide"
    }
   },
   "source": [
    "### Recall:"
   ]
  },
  {
   "cell_type": "markdown",
   "metadata": {
    "slideshow": {
     "slide_type": "fragment"
    }
   },
   "source": [
    "* **ER model $A$:** constructs a graph $G(n,m)$ with $n$ vertices and (exactly) $m$ edges. \n",
    "\n",
    "* The subset of the edges is randomly selected from all the $m$-subsets of pairs of nodes $\\binom{X}{2}$, where $X$ is the vertex set."
   ]
  },
  {
   "cell_type": "markdown",
   "metadata": {
    "slideshow": {
     "slide_type": "subslide"
    }
   },
   "source": [
    "* In `networkx` we can sample a graph from the $G(n,m)$ model by using the random graph constructor `gnm_random_graph` (takes input a number of nodes $n$ and number of vertices $m$)."
   ]
  },
  {
   "cell_type": "markdown",
   "metadata": {
    "slideshow": {
     "slide_type": "subslide"
    }
   },
   "source": [
    "* **ER model $B$:** constructs a graph $G(n,p)$ with $n$ vertices and edges from the set $\\binom{X}{2}$ chosen with probability $p$. \n",
    "\n",
    "* The **expected size** of such graph is $Np$ where $N=\\binom{n}{2}$. "
   ]
  },
  {
   "cell_type": "markdown",
   "metadata": {
    "slideshow": {
     "slide_type": "subslide"
    }
   },
   "source": [
    "* In `networkx` we can sample a graph from the $G(n,p)$ model by using the random graph constructor `gnp_random_graph` (takes input a number of nodes $n$ and a probability $p\\in[0,1]$)."
   ]
  },
  {
   "cell_type": "markdown",
   "metadata": {
    "slideshow": {
     "slide_type": "slide"
    }
   },
   "source": [
    "**Next:** What are the typical features of a random network with $n$ nodes and (_approx._) $m$ edges?"
   ]
  },
  {
   "cell_type": "markdown",
   "metadata": {
    "slideshow": {
     "slide_type": "subslide"
    }
   },
   "source": [
    "* When does it contain a **tree** that's not a straight line?\n",
    "* When does it contain a **triangle**, or indeed a **cycle** of any length? If so, how many?\n",
    "* When does it contain a small **complete** graph of a given size?"
   ]
  },
  {
   "cell_type": "markdown",
   "metadata": {
    "slideshow": {
     "slide_type": "subslide"
    }
   },
   "source": [
    "* When does it contain a **large component**, larger than all other components?\n",
    "* When does the network form a single **connected commponent**?\n",
    "* How do these properties depend on $n$ and $m$ (or $p$)?"
   ]
  },
  {
   "cell_type": "markdown",
   "metadata": {
    "slideshow": {
     "slide_type": "slide"
    }
   },
   "source": [
    "## Probability Distributions"
   ]
  },
  {
   "cell_type": "markdown",
   "metadata": {
    "slideshow": {
     "slide_type": "subslide"
    }
   },
   "source": [
    "* Denote by $G_n$ the set of *all* graphs on the $n$ points $X = \\{0, \\dots, n{-}1\\}$.\n",
    "\n",
    "* Set $N = \\binom{n}{2}$, the maximal number of edges of a graph $G \\in G_n$.\n",
    "\n",
    "* Regard the ER models $A$ and $B$ as **probability distributions** $P \\colon G_n \\to \\mathbb{R}$.\n",
    "\n",
    "* Denote  $m(G)$: the number of edges of a graph $G$."
   ]
  },
  {
   "cell_type": "markdown",
   "metadata": {
    "slideshow": {
     "slide_type": "subslide"
    }
   },
   "source": [
    "As we have seen:\n",
    "\n",
    "* The probability of a specific graph $G$ to be sampled from the model $G(n,m)$ is:\n",
    "$$\n",
    "P(G) = \\begin{cases}\n",
    "\\binom{N}{m}^{-1}, & \\text{if } m(G) = m, \\\\\n",
    "0, & \\text{else.}\n",
    "\\end{cases}\n",
    "$$"
   ]
  },
  {
   "cell_type": "markdown",
   "metadata": {
    "slideshow": {
     "slide_type": "subslide"
    }
   },
   "source": [
    "* The probability of a specific graph $G$ to be sampled from the model $G(n, p)$ is:\n",
    "$$\n",
    "P(G) = p^m (1-p)^{N-m},\n",
    "$$\n",
    "where $m = m(G)$."
   ]
  },
  {
   "cell_type": "markdown",
   "metadata": {
    "slideshow": {
     "slide_type": "slide"
    }
   },
   "source": [
    "## Expected Size and Average Degree"
   ]
  },
  {
   "cell_type": "markdown",
   "metadata": {
    "slideshow": {
     "slide_type": "subslide"
    }
   },
   "source": [
    "**Note.** We will use the following notation: \n",
    "\n",
    "* $\\bar a$ indicates the expected value of property $a$ (that is, as the graphs vary across the ensemble produced by the model).\n",
    "\n",
    "* $\\langle a \\rangle$ indicates the average of property $a$ over all the nodes of a graph."
   ]
  },
  {
   "cell_type": "markdown",
   "metadata": {
    "slideshow": {
     "slide_type": "slide"
    }
   },
   "source": [
    "In $G(n, m)$:\n",
    "\n",
    "* the expected **size** is\n",
    "$$\n",
    "\\bar{m} = m,\n",
    "$$\n",
    "as every graph $G$ in $G(n, m)$ has exactly $m$ edges.\n",
    "\n",
    "* the expected **average degree** is \n",
    "$$\n",
    "\\langle k \\rangle = \\frac{2m}{n},\n",
    "$$\n",
    "as every graph has average degree $2m/n$."
   ]
  },
  {
   "cell_type": "markdown",
   "metadata": {
    "slideshow": {
     "slide_type": "subslide"
    }
   },
   "source": [
    "* Other properties of $G(n, m)$ are less straightforward, and it is easier to work with \n",
    "the $G(n, p)$."
   ]
  },
  {
   "cell_type": "markdown",
   "metadata": {
    "slideshow": {
     "slide_type": "slide"
    }
   },
   "source": [
    "In $G(n, p)$, with $N = \\binom{n}{2}$:\n",
    "\n",
    "* the **expected size** is\n",
    "$$\n",
    "\\bar{m} = pN\n",
    "$$\n",
    "\n",
    "* with **variance**\n",
    "$$\n",
    "\\sigma_m^2 = N p (1-p);\n",
    "$$"
   ]
  },
  {
   "cell_type": "markdown",
   "metadata": {
    "slideshow": {
     "slide_type": "slide"
    }
   },
   "source": [
    "* the expected **average degree** is (we'll see why soon):\n",
    "$$\n",
    "\\langle k \\rangle = p (n-1).\n",
    "$$\n",
    "\n",
    "* with **standard deviation**\n",
    "$$\n",
    "\\sigma_k = \\sqrt{p(1-p)(n-1)}\n",
    "$$"
   ]
  },
  {
   "cell_type": "markdown",
   "metadata": {
    "slideshow": {
     "slide_type": "subslide"
    }
   },
   "source": [
    "* In particular, the **relative standard deviation** (or the **coefficient of variation**) of the size of\n",
    "a random model $B$ graph is\n",
    "$$\n",
    "\\frac{\\sigma_m}{\\bar{m}} = \\sqrt{\\frac{1-p}{pN}} \n",
    "= \\sqrt{\\frac{2(1-p)}{p n (n-1)}}\n",
    "= \\sqrt{\\frac{2}{n \\langle k \\rangle} - \\frac{2}{n (n-1)}}\n",
    ",\n",
    "$$\n",
    "a quantity that converges to $0$ as $n \\to \\infty$ if $p (n-1) = \\langle k \\rangle$, the average node degree, is kept constant."
   ]
  },
  {
   "cell_type": "markdown",
   "metadata": {
    "slideshow": {
     "slide_type": "subslide"
    }
   },
   "source": [
    "* In this sense, for large graphs, the fluctuations in the size of random graphs in model $B$ can be neglected.\n",
    "\n",
    "* Model $B$ random graphs are used for theoretical purposes.\n",
    "\n",
    "* Model $A$ random graphs are preferred for sampling random graphs on a computer. "
   ]
  },
  {
   "cell_type": "markdown",
   "metadata": {
    "slideshow": {
     "slide_type": "subslide"
    }
   },
   "source": [
    "* A model $A$ graph with $n$ vertices and $m$ edges corresponds to a model $B$ graph with $n$ vertices and\n",
    "$p = m/N$, where $N = \\binom{n}{2}$."
   ]
  },
  {
   "cell_type": "markdown",
   "metadata": {
    "slideshow": {
     "slide_type": "slide"
    }
   },
   "source": [
    "## Degree distribution"
   ]
  },
  {
   "cell_type": "markdown",
   "metadata": {
    "slideshow": {
     "slide_type": "subslide"
    }
   },
   "source": [
    "**Definition.**\n",
    "The **degree distribution** $p\\colon \\mathbb{N}_0 \\to \\mathbb{R},\\, k \\mapsto p_k$ of a graph $G$\n",
    "is defined as\n",
    "$$\n",
    "p_k = \\frac{n_k}{n},\n",
    "$$\n",
    "where, for $k \\geq 0$, $n_k$ is the number of nodes of degree $k$ in $G$.\n"
   ]
  },
  {
   "cell_type": "markdown",
   "metadata": {
    "slideshow": {
     "slide_type": "subslide"
    }
   },
   "source": [
    "This definition can be extended to ensembles of graphs with $n$ nodes (like the random graphs $G(n, m)$ and\n",
    "$G(n, p)$), by setting\n",
    "$$\n",
    "p_k = \\bar{n}_k/n,\n",
    "$$\n",
    "where $\\bar{n}_k$ denotes the expected value of the random variable $n_k$ over the ensemble of graphs."
   ]
  },
  {
   "cell_type": "markdown",
   "metadata": {
    "slideshow": {
     "slide_type": "subslide"
    }
   },
   "source": [
    "* The degree distribution in a random graph $G(n, p)$ is a **binomial distribution**:\n",
    "$$\n",
    "p_k = \\binom{n-1}{k}p^k (1-p)^{n-1-k} = \\mathrm{Bin}(n-1, p, k)\n",
    "$$\n",
    " \n",
    "That is, in the $G(n,p)$ model, the **probability that a node has degree $k$** is $p_k$."
   ]
  },
  {
   "cell_type": "markdown",
   "metadata": {
    "slideshow": {
     "slide_type": "subslide"
    }
   },
   "source": [
    "* Thus the **average degree** of a randomly chosen node is\n",
    "$$\n",
    "\\langle k \\rangle = \\sum_{k=0}^{n-1} k p_k = p (n-1)\n",
    "$$\n",
    "with standard deviation\n",
    "$$\n",
    "\\sigma_k = \\sqrt{p(1-p)(n-1)}\n",
    "$$"
   ]
  },
  {
   "cell_type": "markdown",
   "metadata": {
    "slideshow": {
     "slide_type": "subslide"
    }
   },
   "source": [
    "* When $n$ is large, the typical $p_k$ is a product of a binomial coefficient $\\binom{n-1}{k}$\n",
    "which can be very large, and the probabilities $p^k (1-p)^{n-1-k}$ which can be very small.\n",
    "This can lead to errors in the computation. \n",
    "\n",
    "* Mathematically, we're happy to just compute this value formally. (For ways to overcome computational errors when dealing with binomial coefficients, see the Appendix below.)"
   ]
  },
  {
   "cell_type": "markdown",
   "metadata": {
    "slideshow": {
     "slide_type": "subslide"
    }
   },
   "source": [
    "* In the limit $n \\to \\infty$, with $\\langle k \\rangle  = p (n-1)$ kept constant,\n",
    "the binomial distribution $\\mathrm{Bin}(n-1, p, k)$ is well approximated by the **[Poisson distribution](https://en.wikipedia.org/wiki/Poisson_distribution)**:\n",
    "$$\n",
    "p_k = e^{-\\lambda} \\frac{\\lambda^k}{k!} = \\mathrm{Pois}(\\lambda, k),\n",
    "$$\n",
    "where $\\lambda = p (n-1)$."
   ]
  },
  {
   "cell_type": "markdown",
   "metadata": {
    "slideshow": {
     "slide_type": "slide"
    }
   },
   "source": [
    "## Phase Transitions"
   ]
  },
  {
   "cell_type": "markdown",
   "metadata": {
    "slideshow": {
     "slide_type": "subslide"
    }
   },
   "source": [
    "* POV: for the random graph $G(n, p)$, suppose that $p = p(n)$ is a function of $n$, the number of nodes,\n",
    "and study the ensemble of graphs $G(n, p(n))$, as $n \\to \\infty$.\n",
    "* Typically, $p(n) = c n^e$, for real numbers $c, e$."
   ]
  },
  {
   "cell_type": "markdown",
   "metadata": {
    "slideshow": {
     "slide_type": "subslide"
    }
   },
   "source": [
    "* Then, to say that **almost every graph has a property $Q$** means that the\n",
    "probability of a graph in the ensemble to have property $Q$ tends to $1$,\n",
    "as $n \\to \\infty$."
   ]
  },
  {
   "cell_type": "markdown",
   "metadata": {
    "slideshow": {
     "slide_type": "subslide"
    }
   },
   "source": [
    "* In other words, for any given property $Q$, there is a **critical probablity function** $p_Q(n)$\n",
    "such that a.e. graph in $G(n, p(n))$ has property $Q$ if $p(n)$ **decays slower** than $p_Q(n)$,\n",
    "and a.e. graph in $G(n, p(n))$ fails to have property $Q$ if $p(n)$ **decays faster** than $p_Q(n)$.\n",
    "\n",
    "* If $Q$ is concerned with specific subgraphs, and if $p(n) \\propto p_Q(n)$, we can determine the number of\n",
    "appearances of such subgraph in the network.\n",
    "\n",
    "* This is made precise by the following theorem.  (For a proof see Bollobás, *Random Graphs*, CUP 2001.)"
   ]
  },
  {
   "cell_type": "markdown",
   "metadata": {
    "slideshow": {
     "slide_type": "subslide"
    }
   },
   "source": [
    "**Theorem (Appearance of Subgraphs).**\n",
    "Let $F$ be a connected graph with $a$ nodes and $b$ edges."
   ]
  },
  {
   "cell_type": "markdown",
   "metadata": {
    "slideshow": {
     "slide_type": "fragment"
    }
   },
   "source": [
    "* If $p(n)/n^{-a/b} \\to 0$ then almost every graph in the ensemble $G(n, p(n))$ **does not** contain a copy of $F$.\n",
    "\n",
    "* If $p(n)/n^{-a/b} \\to \\infty$ then almost every graph in the ensemble $G(n, p(n))$ **does** contain a copy of $F$."
   ]
  },
  {
   "cell_type": "markdown",
   "metadata": {
    "slideshow": {
     "slide_type": "subslide"
    }
   },
   "source": [
    "* If $p(n) = c n^{-a/b}$ then, as $n \\to \\infty$, the number $n_F$ of $F$-subgraphs in $G$ follows a distribution\n",
    "$$\\mathrm{Pois}(\\lambda, r),$$ where $\\lambda = c^b/|\\mathrm{Aut(F)}|$,\n",
    "with $|\\mathrm{Aut}(F)|$ being the number of *automorphisms* (read: symmetries) of $F$. \n",
    "\n",
    "That is, the probability of $n_F=r$ is $\\mathrm{Pois}(\\lambda, r)$."
   ]
  },
  {
   "cell_type": "markdown",
   "metadata": {
    "slideshow": {
     "slide_type": "subslide"
    }
   },
   "source": [
    "* So the critical probability function $p_Q(n)$ for $Q$ being the appearance of a subgraph $F$ with $a$ nodes and $b$ edges is $p_Q(n) = c n^{-a/b}$."
   ]
  },
  {
   "cell_type": "markdown",
   "metadata": {
    "slideshow": {
     "slide_type": "subslide"
    }
   },
   "source": [
    "For example:\n",
    "\n",
    "* **Trees**  with $a$ nodes ($b = a - 1$) appear when $p(n) = c n^{-a/(a-1)}$.\n",
    "* **Cycles** of order $a$ (where $b = a$) appear when $p(n) = c n^{-1}$.\n",
    "* **Complete** subgraphs of order $a$ (where $b = \\binom{a}{2} = \\frac12 a(a-1)$) appear when $p(n) = c n^{-2/(a-1)}$."
   ]
  },
  {
   "cell_type": "markdown",
   "metadata": {
    "slideshow": {
     "slide_type": "subslide"
    }
   },
   "source": [
    "In practice, we can estimate $n_F$ as follows [we'll see this tomorrow].\n",
    "* there are $\\binom{n}{a}$ ways to pick $a$ nodes from a graph $G$ on $n$ nodes;\n",
    "* between them, $b$ links are present with probability $p^b$;\n",
    "* permuting the $a$ nodes of $F$ yields $a!/|\\mathrm{Aut}(F)|$ copies of this configuration."
   ]
  },
  {
   "cell_type": "markdown",
   "metadata": {
    "slideshow": {
     "slide_type": "skip"
    }
   },
   "source": [
    "### Appendix\n",
    "### Computing binomial coefficients"
   ]
  },
  {
   "cell_type": "code",
   "execution_count": null,
   "metadata": {
    "slideshow": {
     "slide_type": "subslide"
    }
   },
   "outputs": [],
   "source": [
    "import numpy as np\n",
    "import pandas as pd"
   ]
  },
  {
   "cell_type": "code",
   "execution_count": null,
   "metadata": {
    "slideshow": {
     "slide_type": "skip"
    }
   },
   "outputs": [],
   "source": [
    "from math import factorial\n",
    "factorial(16)"
   ]
  },
  {
   "cell_type": "code",
   "execution_count": null,
   "metadata": {
    "slideshow": {
     "slide_type": "skip"
    }
   },
   "outputs": [],
   "source": [
    "# python 3.8 has:\n",
    "# from math import comb\n",
    "# which we've seen computes n choose k taking n and k as input"
   ]
  },
  {
   "cell_type": "markdown",
   "metadata": {
    "slideshow": {
     "slide_type": "skip"
    }
   },
   "source": [
    "Using the following observation, one can compute a binomial coefficient as product of *reasonable* fractions--without having to compute the quotients of large factorials."
   ]
  },
  {
   "cell_type": "markdown",
   "metadata": {
    "slideshow": {
     "slide_type": "skip"
    }
   },
   "source": [
    "$$\\binom{n}{k} = \\frac{n \\cdot (n-1) \\dotsm (n-k+1)}{1 \\cdot 2 \\dotsm k}$$"
   ]
  },
  {
   "cell_type": "code",
   "execution_count": null,
   "metadata": {
    "slideshow": {
     "slide_type": "skip"
    }
   },
   "outputs": [],
   "source": [
    "def binomial(n, k):\n",
    "    prod, top, bot = 1, n, 1\n",
    "    for i in range(k):\n",
    "        prod = (prod * top) // bot\n",
    "        top, bot = top - 1, bot + 1\n",
    "    return prod"
   ]
  },
  {
   "cell_type": "code",
   "execution_count": null,
   "metadata": {
    "slideshow": {
     "slide_type": "skip"
    }
   },
   "outputs": [],
   "source": [
    "l = [binomial(16, k) for k in range(17)]\n",
    "print(l)"
   ]
  },
  {
   "cell_type": "markdown",
   "metadata": {
    "slideshow": {
     "slide_type": "skip"
    }
   },
   "source": [
    "As expected, the 16th row of Pascal's triangle is as follows:"
   ]
  },
  {
   "cell_type": "code",
   "execution_count": null,
   "metadata": {
    "slideshow": {
     "slide_type": "skip"
    }
   },
   "outputs": [],
   "source": [
    "df = pd.DataFrame(l)\n",
    "df.plot.bar()"
   ]
  },
  {
   "cell_type": "markdown",
   "metadata": {
    "slideshow": {
     "slide_type": "skip"
    }
   },
   "source": [
    "Alternatively, for $n$ larger than $k$, [Stirlings formula](https://en.wikipedia.org/wiki/Stirling%27s_approximation)\n",
    "$$\n",
    "n! \\sim \\sqrt{2 \\pi n} \\left(\\tfrac{n}{e}\\right)^n\n",
    "$$\n",
    "can be used to approximate a binomial coefficient as follows:\n",
    "\n",
    "$$\n",
    "\\binom{n}{k}  = \\frac{n \\cdot (n-1) \\dots (n-k+1)}{k!}\n",
    "\\approx \\frac{(n-k/2)^k}{k^k e^{-k} \\sqrt{2 \\pi k}}\n",
    "= \\frac{(n/k - 0.5)^k e^k}{\\sqrt{2 \\pi k}}\n",
    "$$"
   ]
  },
  {
   "cell_type": "code",
   "execution_count": null,
   "metadata": {
    "slideshow": {
     "slide_type": "skip"
    }
   },
   "outputs": [],
   "source": [
    "from math import exp, sqrt, pi, log\n",
    "def binom_approx(n, k):\n",
    "    return (n/k - 0.5)**k * exp(k) / sqrt(2 * pi * k)"
   ]
  },
  {
   "cell_type": "code",
   "execution_count": null,
   "metadata": {
    "slideshow": {
     "slide_type": "skip"
    }
   },
   "outputs": [],
   "source": [
    "n = binomial(100, 2)\n",
    "k = 50\n",
    "print(binomial(n, k))"
   ]
  },
  {
   "cell_type": "code",
   "execution_count": null,
   "metadata": {
    "slideshow": {
     "slide_type": "skip"
    }
   },
   "outputs": [],
   "source": [
    "print(binom_approx(n, k))\n",
    "print(binomial(n, k) / 10**120)"
   ]
  },
  {
   "cell_type": "markdown",
   "metadata": {
    "slideshow": {
     "slide_type": "slide"
    }
   },
   "source": [
    "## Code Corner"
   ]
  },
  {
   "cell_type": "markdown",
   "metadata": {
    "slideshow": {
     "slide_type": "subslide"
    }
   },
   "source": [
    "### `random`\n",
    "\n",
    "* `random`: [[doc]](https://docs.python.org/2/library/random.html#random.random)\n",
    "\n",
    "\n",
    "* `sample`: [[doc]](https://docs.python.org/2/library/random.html#random.sample)"
   ]
  },
  {
   "cell_type": "markdown",
   "metadata": {
    "slideshow": {
     "slide_type": "subslide"
    }
   },
   "source": [
    "### `numpy`\n",
    "\n",
    "* `random.choice`: [[doc]](https://docs.scipy.org/doc/numpy-1.14.0/reference/generated/numpy.random.choice.html)"
   ]
  },
  {
   "cell_type": "markdown",
   "metadata": {
    "slideshow": {
     "slide_type": "subslide"
    }
   },
   "source": [
    "### `networkx`\n",
    "\n",
    "* `gnm_random_graph`: [[doc]](https://networkx.github.io/documentation/stable/reference/generated/networkx.generators.random_graphs.gnm_random_graph.html)\n",
    "\n",
    "\n",
    "* `gnp_random_graph`: [[doc]](https://networkx.github.io/documentation/stable/reference/generated/networkx.generators.random_graphs.gnp_random_graph.html)\n",
    "\n",
    "\n",
    "* `triangles`: [[doc]](https://networkx.org/documentation/stable/reference/algorithms/generated/networkx.algorithms.cluster.triangles.html)"
   ]
  },
  {
   "cell_type": "markdown",
   "metadata": {
    "slideshow": {
     "slide_type": "subslide"
    }
   },
   "source": [
    "##  Exercises"
   ]
  },
  {
   "cell_type": "markdown",
   "metadata": {},
   "source": [
    "1. Show that a node of degree $k$ is the central node of exactly $\\binom{k}{2}$ triads.\n",
    "\n",
    "1.  Show that the number $n_{\\Delta}$ of triangles in an graph $G$ with adjacency matrix $A$ is\n",
    "$n_{\\Delta} = \\frac16 \\mathrm{tr}(A^3)$, where $\\mathrm{tr}(B) = \\sum_i b_{ii}$ denotes the **trace**\n",
    "of a square matrix $B$, i.e., the sum of its diagonal entries.\n"
   ]
  },
  {
   "cell_type": "code",
   "execution_count": null,
   "metadata": {},
   "outputs": [],
   "source": []
  }
 ],
 "metadata": {
  "celltoolbar": "Slideshow",
  "kernelspec": {
   "display_name": "Python 3 (ipykernel)",
   "language": "python",
   "name": "python3"
  },
  "language_info": {
   "codemirror_mode": {
    "name": "ipython",
    "version": 3
   },
   "file_extension": ".py",
   "mimetype": "text/x-python",
   "name": "python",
   "nbconvert_exporter": "python",
   "pygments_lexer": "ipython3",
   "version": "3.9.7"
  }
 },
 "nbformat": 4,
 "nbformat_minor": 2
}
