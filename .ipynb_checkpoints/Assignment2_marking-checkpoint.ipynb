{
 "cells": [
  {
   "cell_type": "markdown",
   "metadata": {},
   "source": [
    "### CS4423 - Networks\n",
    "Angela Carnevale<br />\n",
    "School of Mathematical and Statistical Sciences<br />\n",
    "University of Galway"
   ]
  },
  {
   "cell_type": "markdown",
   "metadata": {},
   "source": [
    "# Assignment 2"
   ]
  },
  {
   "cell_type": "markdown",
   "metadata": {},
   "source": [
    "Provide answers to the problems in the boxes provided.  \n",
    "\n",
    "The buttons at the top of the page can be used to **create\n",
    "more boxes if needed**.\n",
    "The type of box can be changed from `Code` to `Markdown`.\n",
    "`Code` boxes take (and execute) `python` code.\n",
    "`Markdown` boxes take (and format nicely) **text input**.\n",
    "In this way, you can provide answers, ask questions, \n",
    "or raise issues, in words.\n",
    "\n",
    "When finished, please print this notebook into a **PDF** file and submit this to\n",
    "**Blackboard**. \n",
    "\n",
    "**Deadline.** Monday 27 February at 5pm. "
   ]
  },
  {
   "cell_type": "markdown",
   "metadata": {},
   "source": [
    "## Setup"
   ]
  },
  {
   "cell_type": "markdown",
   "metadata": {},
   "source": [
    "This is a `jupyter` notebook.   You can open and interact\n",
    "with the notebook through one of sites recommended at\n",
    "its [github](https://github.com/angelacarnevale/2223-CS4423-Networks) repository and on the Blackboard page of the module.\n",
    "\n",
    "Or, you can\n",
    "install and use `jupyter` as a `python` package on your own laptop or PC.  "
   ]
  },
  {
   "cell_type": "markdown",
   "metadata": {},
   "source": [
    "The following command loads the `networkx` package into the current session.  \n",
    "The next command specifies some standard options that can be useful for drawing graphs.  \n",
    "\n",
    "In order to execute the code in a box,\n",
    "use the mouse or arrow keys to highlight the box and then press SHIFT-RETURN."
   ]
  },
  {
   "cell_type": "code",
   "execution_count": 1,
   "metadata": {},
   "outputs": [],
   "source": [
    "import networkx as nx\n",
    "import pandas as pd ## can be used to visualise data arising from computing centrality measures\n",
    "opts = { \"with_labels\": True, \"node_color\": 'y' }"
   ]
  },
  {
   "cell_type": "markdown",
   "metadata": {},
   "source": [
    "Should it ever happen that the notebook becomes unusable, start again with a fresh copy."
   ]
  },
  {
   "cell_type": "markdown",
   "metadata": {},
   "source": [
    "## 1. Breadth First Search."
   ]
  },
  {
   "cell_type": "markdown",
   "metadata": {},
   "source": [
    "Breadth First Search (BFS) is a versatile and efficient strategy for systematically visiting\n",
    "all the nodes in a graph.\n",
    "\n",
    "Given a graph $G = (X, E)$ and a starting point $x \\in X$, BFS can be described as the following sequence of steps.\n",
    "\n",
    "1. mark all nodes of $G$ as \"unseen\".\n",
    "\n",
    "2. initialize a list `seen = [x]` and mark `x` as seen.\n",
    "\n",
    "3. loop over the elements `y` in the list `seen` and, in each step, visit the\n",
    "   node `y` and add all of `y`'s neighbors that have not been marked as \"seen\"\n",
    "   to the list `seen` and mark them as seen.\n"
   ]
  },
  {
   "cell_type": "markdown",
   "metadata": {},
   "source": [
    "### For Example\n",
    "\n",
    "Consider the graph on the vertex set `\"ABCDEFHIJK\"`\n",
    "defined in the nearby file `data/bfs_hw.adj` by adjacency lists."
   ]
  },
  {
   "cell_type": "code",
   "execution_count": 4,
   "metadata": {},
   "outputs": [
    {
     "ename": "FileNotFoundError",
     "evalue": "[Errno 2] No such file or directory: '.. /2324-CS4423-Networks/data/bfs_hw.adj'",
     "output_type": "error",
     "traceback": [
      "\u001b[0;31m---------------------------------------------------------------------------\u001b[0m",
      "\u001b[0;31mFileNotFoundError\u001b[0m                         Traceback (most recent call last)",
      "\u001b[0;32m/var/folders/rc/1d_x3ptd6zdd48t1mt0pd6xw0000gn/T/ipykernel_97083/2627012704.py\u001b[0m in \u001b[0;36m<module>\u001b[0;34m\u001b[0m\n\u001b[0;32m----> 1\u001b[0;31m \u001b[0mG\u001b[0m \u001b[0;34m=\u001b[0m \u001b[0mnx\u001b[0m\u001b[0;34m.\u001b[0m\u001b[0mread_adjlist\u001b[0m\u001b[0;34m(\u001b[0m\u001b[0;34m\".. /2324-CS4423-Networks/data/bfs_hw.adj\"\u001b[0m\u001b[0;34m)\u001b[0m\u001b[0;34m\u001b[0m\u001b[0;34m\u001b[0m\u001b[0m\n\u001b[0m\u001b[1;32m      2\u001b[0m \u001b[0mnx\u001b[0m\u001b[0;34m.\u001b[0m\u001b[0mdraw\u001b[0m\u001b[0;34m(\u001b[0m\u001b[0mG\u001b[0m\u001b[0;34m,\u001b[0m \u001b[0;34m**\u001b[0m\u001b[0mopts\u001b[0m\u001b[0;34m)\u001b[0m\u001b[0;34m\u001b[0m\u001b[0;34m\u001b[0m\u001b[0m\n",
      "\u001b[0;32m~/opt/anaconda3/lib/python3.9/site-packages/networkx/utils/decorators.py\u001b[0m in \u001b[0;36margmap_read_adjlist_1\u001b[0;34m(path, comments, delimiter, create_using, nodetype, encoding)\u001b[0m\n\u001b[1;32m      1\u001b[0m \u001b[0;32mfrom\u001b[0m \u001b[0mcollections\u001b[0m \u001b[0;32mimport\u001b[0m \u001b[0mdefaultdict\u001b[0m\u001b[0;34m\u001b[0m\u001b[0;34m\u001b[0m\u001b[0m\n\u001b[1;32m      2\u001b[0m \u001b[0;32mfrom\u001b[0m \u001b[0mos\u001b[0m\u001b[0;34m.\u001b[0m\u001b[0mpath\u001b[0m \u001b[0;32mimport\u001b[0m \u001b[0msplitext\u001b[0m\u001b[0;34m\u001b[0m\u001b[0;34m\u001b[0m\u001b[0m\n\u001b[0;32m----> 3\u001b[0;31m \u001b[0;32mfrom\u001b[0m \u001b[0mcontextlib\u001b[0m \u001b[0;32mimport\u001b[0m \u001b[0mcontextmanager\u001b[0m\u001b[0;34m\u001b[0m\u001b[0;34m\u001b[0m\u001b[0m\n\u001b[0m\u001b[1;32m      4\u001b[0m \u001b[0;32mfrom\u001b[0m \u001b[0mpathlib\u001b[0m \u001b[0;32mimport\u001b[0m \u001b[0mPath\u001b[0m\u001b[0;34m\u001b[0m\u001b[0;34m\u001b[0m\u001b[0m\n\u001b[1;32m      5\u001b[0m \u001b[0;32mimport\u001b[0m \u001b[0mwarnings\u001b[0m\u001b[0;34m\u001b[0m\u001b[0;34m\u001b[0m\u001b[0m\n",
      "\u001b[0;32m~/opt/anaconda3/lib/python3.9/site-packages/networkx/utils/decorators.py\u001b[0m in \u001b[0;36m_open_file\u001b[0;34m(path)\u001b[0m\n\u001b[1;32m    186\u001b[0m             \u001b[0;32mreturn\u001b[0m \u001b[0mpath\u001b[0m\u001b[0;34m,\u001b[0m \u001b[0;32mlambda\u001b[0m\u001b[0;34m:\u001b[0m \u001b[0;32mNone\u001b[0m\u001b[0;34m\u001b[0m\u001b[0;34m\u001b[0m\u001b[0m\n\u001b[1;32m    187\u001b[0m \u001b[0;34m\u001b[0m\u001b[0m\n\u001b[0;32m--> 188\u001b[0;31m         \u001b[0mfobj\u001b[0m \u001b[0;34m=\u001b[0m \u001b[0m_dispatch_dict\u001b[0m\u001b[0;34m[\u001b[0m\u001b[0mext\u001b[0m\u001b[0;34m]\u001b[0m\u001b[0;34m(\u001b[0m\u001b[0mpath\u001b[0m\u001b[0;34m,\u001b[0m \u001b[0mmode\u001b[0m\u001b[0;34m=\u001b[0m\u001b[0mmode\u001b[0m\u001b[0;34m)\u001b[0m\u001b[0;34m\u001b[0m\u001b[0;34m\u001b[0m\u001b[0m\n\u001b[0m\u001b[1;32m    189\u001b[0m         \u001b[0;32mreturn\u001b[0m \u001b[0mfobj\u001b[0m\u001b[0;34m,\u001b[0m \u001b[0;32mlambda\u001b[0m\u001b[0;34m:\u001b[0m \u001b[0mfobj\u001b[0m\u001b[0;34m.\u001b[0m\u001b[0mclose\u001b[0m\u001b[0;34m(\u001b[0m\u001b[0;34m)\u001b[0m\u001b[0;34m\u001b[0m\u001b[0;34m\u001b[0m\u001b[0m\n\u001b[1;32m    190\u001b[0m \u001b[0;34m\u001b[0m\u001b[0m\n",
      "\u001b[0;31mFileNotFoundError\u001b[0m: [Errno 2] No such file or directory: '.. /2324-CS4423-Networks/data/bfs_hw.adj'"
     ]
    }
   ],
   "source": [
    "G = nx.read_adjlist(\"data/bfs_hw.adj\")\n",
    "nx.draw(G, **opts)"
   ]
  },
  {
   "cell_type": "markdown",
   "metadata": {},
   "source": [
    "Let's say we want to start exploring the graph at vertex `'A'`"
   ]
  },
  {
   "cell_type": "code",
   "execution_count": 3,
   "metadata": {},
   "outputs": [],
   "source": [
    "x = 'A'"
   ]
  },
  {
   "cell_type": "markdown",
   "metadata": {},
   "source": [
    "**Step 1.** For each of its nodes `x`, the graph object `G` maintains in `G.nodes[x]` a `python` dictionary\n",
    "that can be used store arbitrary attributes of the nodes.  We can use it for an attribute `'seen'`,\n",
    "which is set to `True` or `False`, depending on whether the node has already been seen by this instance \n",
    "of BFS, or not.  Initially it would be set to `False` for all nodes."
   ]
  },
  {
   "cell_type": "code",
   "execution_count": 4,
   "metadata": {
    "slideshow": {
     "slide_type": "fragment"
    }
   },
   "outputs": [
    {
     "data": {
      "text/plain": [
       "{}"
      ]
     },
     "execution_count": 4,
     "metadata": {},
     "output_type": "execute_result"
    }
   ],
   "source": [
    "G.nodes[x]"
   ]
  },
  {
   "cell_type": "code",
   "execution_count": 5,
   "metadata": {},
   "outputs": [],
   "source": [
    "for y in G:\n",
    "    G.nodes[y]['seen'] = False"
   ]
  },
  {
   "cell_type": "markdown",
   "metadata": {},
   "source": [
    "**Step 2.** Initialize a `python` list `seen` to contain `x` only, and set `x`'s `'seen'` attribute to `True`."
   ]
  },
  {
   "cell_type": "code",
   "execution_count": 6,
   "metadata": {},
   "outputs": [],
   "source": [
    "seen = [x]\n",
    "G.nodes[x]['seen'] = True"
   ]
  },
  {
   "cell_type": "markdown",
   "metadata": {},
   "source": [
    "**Step 3.**  The loop over `seen`.  For each node `y` in the list, print `y`, then\n",
    "add all of `y`'s unseen neighbors to the end of the list `seen` and mark them\n",
    "as `\"seen\"`.  Note how the list `seen` initially has only one element, but grows\n",
    "over time, until no more new nodes are detected.  \n",
    "The loop automatically terminates when the end of the list `seen` has been reached."
   ]
  },
  {
   "cell_type": "code",
   "execution_count": 7,
   "metadata": {},
   "outputs": [
    {
     "name": "stdout",
     "output_type": "stream",
     "text": [
      "A\n",
      "C\n",
      "E\n",
      "F\n",
      "B\n",
      "I\n",
      "H\n",
      "K\n",
      "D\n",
      "J\n"
     ]
    }
   ],
   "source": [
    "for y in seen:\n",
    "    print(y)\n",
    "    for z in G.neighbors(y):\n",
    "        if not G.nodes[z]['seen']:\n",
    "            seen.append(z)\n",
    "            G.nodes[z]['seen'] = True"
   ]
  },
  {
   "cell_type": "markdown",
   "metadata": {},
   "source": [
    "In a variant of the same BFS strategy, on can construct a tree on the vertex set $X$ that\n",
    "records the history of how the nodes in the graph $G$ were discovered."
   ]
  },
  {
   "cell_type": "code",
   "execution_count": 8,
   "metadata": {},
   "outputs": [],
   "source": [
    "x = 'A'"
   ]
  },
  {
   "cell_type": "markdown",
   "metadata": {},
   "source": [
    "We set up an empty graph `T` to eventually contain the tree."
   ]
  },
  {
   "cell_type": "code",
   "execution_count": 9,
   "metadata": {},
   "outputs": [],
   "source": [
    "T = nx.Graph()"
   ]
  },
  {
   "cell_type": "markdown",
   "metadata": {},
   "source": [
    "From here it's essentially the same procedure as above ..."
   ]
  },
  {
   "cell_type": "code",
   "execution_count": 10,
   "metadata": {},
   "outputs": [],
   "source": [
    "for y in G:\n",
    "    G.nodes[y]['seen'] = False"
   ]
  },
  {
   "cell_type": "markdown",
   "metadata": {},
   "source": [
    "... except that we need to add the initial vertex `x` to `T` ..."
   ]
  },
  {
   "cell_type": "code",
   "execution_count": 11,
   "metadata": {},
   "outputs": [],
   "source": [
    "T.add_node(x)\n",
    "seen = [x]\n",
    "G.nodes[x]['seen'] = True"
   ]
  },
  {
   "cell_type": "markdown",
   "metadata": {},
   "source": [
    "... and instead of printing `y`, we add the edges leading to `y`'s children to the tree `T`."
   ]
  },
  {
   "cell_type": "code",
   "execution_count": 12,
   "metadata": {},
   "outputs": [],
   "source": [
    "for y in seen:\n",
    "    for z in G.neighbors(y):\n",
    "        if not G.nodes[z]['seen']:\n",
    "            T.add_edge(y, z)\n",
    "            seen.append(z)\n",
    "            G.nodes[z]['seen'] = True"
   ]
  },
  {
   "cell_type": "markdown",
   "metadata": {},
   "source": [
    "The resulting tree `T` is called a **spanning tree** of the graph `G`."
   ]
  },
  {
   "cell_type": "code",
   "execution_count": null,
   "metadata": {},
   "outputs": [],
   "source": [
    "nx.draw(T, **opts)"
   ]
  },
  {
   "cell_type": "markdown",
   "metadata": {},
   "source": [
    "## Tasks [20 marks, 5 for each BFS iteration]"
   ]
  },
  {
   "cell_type": "markdown",
   "metadata": {},
   "source": [
    "1. Print out all the nodes of $G$ as discovered when the starting point is node `H`.\n",
    "2. Construct a spanning tree of the graph $G$ with node `H` as starting point.\n",
    "3. Repeat 1 and 2 for one more starting node."
   ]
  },
  {
   "cell_type": "code",
   "execution_count": 13,
   "metadata": {
    "scrolled": true
   },
   "outputs": [
    {
     "name": "stdout",
     "output_type": "stream",
     "text": [
      "H\n",
      "C\n",
      "D\n",
      "E\n",
      "J\n",
      "A\n",
      "B\n",
      "I\n",
      "K\n",
      "F\n"
     ]
    }
   ],
   "source": [
    "x = 'H'\n",
    "for y in G:\n",
    "    G.nodes[y]['seen'] = False\n",
    "seen = [x]\n",
    "G.nodes[x]['seen'] = True\n",
    "for y in seen:\n",
    "    print(y)\n",
    "    for z in G.neighbors(y):\n",
    "        if not G.nodes[z]['seen']:\n",
    "            seen.append(z)\n",
    "            G.nodes[z]['seen'] = True"
   ]
  },
  {
   "cell_type": "code",
   "execution_count": 15,
   "metadata": {},
   "outputs": [
    {
     "data": {
      "image/png": "[encoded data removed]",
      "text/plain": [
       "<Figure size 432x288 with 1 Axes>"
      ]
     },
     "metadata": {},
     "output_type": "display_data"
    }
   ],
   "source": [
    "x = 'H'\n",
    "T = nx.Graph()\n",
    "for y in G:\n",
    "    G.nodes[y]['seen'] = False\n",
    "T.add_node(x)\n",
    "seen = [x]\n",
    "G.nodes[x]['seen'] = True\n",
    "for y in seen:\n",
    "    for z in G.neighbors(y):\n",
    "        if not G.nodes[z]['seen']:\n",
    "            T.add_edge(y, z)\n",
    "            seen.append(z)\n",
    "            G.nodes[z]['seen'] = True\n",
    "nx.draw(T,**opts)\n"
   ]
  },
  {
   "cell_type": "code",
   "execution_count": 14,
   "metadata": {},
   "outputs": [
    {
     "name": "stdout",
     "output_type": "stream",
     "text": [
      "B\n",
      "C\n",
      "D\n",
      "F\n",
      "A\n",
      "I\n",
      "H\n",
      "J\n",
      "K\n",
      "E\n"
     ]
    }
   ],
   "source": [
    "x = 'B'\n",
    "for y in G:\n",
    "    G.nodes[y]['seen'] = False\n",
    "seen = [x]\n",
    "G.nodes[x]['seen'] = True\n",
    "for y in seen:\n",
    "    print(y)\n",
    "    for z in G.neighbors(y):\n",
    "        if not G.nodes[z]['seen']:\n",
    "            seen.append(z)\n",
    "            G.nodes[z]['seen'] = True"
   ]
  },
  {
   "cell_type": "code",
   "execution_count": 16,
   "metadata": {},
   "outputs": [
    {
     "data": {
      "image/png": "[encoded data removed]",
      "text/plain": [
       "<Figure size 432x288 with 1 Axes>"
      ]
     },
     "metadata": {},
     "output_type": "display_data"
    }
   ],
   "source": [
    "x = 'B'\n",
    "T = nx.Graph()\n",
    "for y in G:\n",
    "    G.nodes[y]['seen'] = False\n",
    "T.add_node(x)\n",
    "seen = [x]\n",
    "G.nodes[x]['seen'] = True\n",
    "for y in seen:\n",
    "    for z in G.neighbors(y):\n",
    "        if not G.nodes[z]['seen']:\n",
    "            T.add_edge(y, z)\n",
    "            seen.append(z)\n",
    "            G.nodes[z]['seen'] = True\n",
    "nx.draw(T,**opts)"
   ]
  },
  {
   "cell_type": "markdown",
   "metadata": {},
   "source": [
    "<span style=\"color:blue\"> The first output is the list of nodes as visited by BFS starting from $H$. The second output is the corresponding spanning tree with root $H$. The third and fourth output are similar but starting from $B$.</span>"
   ]
  },
  {
   "cell_type": "markdown",
   "metadata": {},
   "source": [
    "<span style=\"color:red\"> Should the students attempt but not get a correct output, they should still get some marks (e.g. 2/5 for each attempt with a non correct output)</span>"
   ]
  },
  {
   "cell_type": "markdown",
   "metadata": {},
   "source": [
    "## 2.  The Counties of Ireland. [50 marks]"
   ]
  },
  {
   "cell_type": "markdown",
   "metadata": {},
   "source": [
    "Define a graph `I` on the $32$ counties of Ireland by\n",
    "joining two counties whenever they have a common border.\n",
    "\n",
    "A list of counties and their borders in the adjacency list format\n",
    "can be found in the nearby file `data/ireland.adj`. Please\n",
    "let me know if something doesn't look right!\n",
    "\n",
    "Remember, you can construct the graph `I` directly from the adjacency list."
   ]
  },
  {
   "cell_type": "markdown",
   "metadata": {},
   "source": [
    "## Tasks [10 marks for order and size, 10 marks each for computing and ranking each centrality]"
   ]
  },
  {
   "cell_type": "markdown",
   "metadata": {},
   "source": [
    "* What are the order and the size of the resulting graph? "
   ]
  },
  {
   "cell_type": "code",
   "execution_count": 18,
   "metadata": {},
   "outputs": [
    {
     "data": {
      "text/plain": [
       "(32, 76)"
      ]
     },
     "execution_count": 18,
     "metadata": {},
     "output_type": "execute_result"
    }
   ],
   "source": [
    "I = nx.read_adjlist('data/ireland.adj')\n",
    "\n",
    "I.order(), I.size()"
   ]
  },
  {
   "cell_type": "markdown",
   "metadata": {},
   "source": [
    "<span style=\"color:blue\"> The graph has order 32 (corresponding to the counties) and size 76 (corresponding to the pairs of counties sharing a border).</span>"
   ]
  },
  {
   "cell_type": "markdown",
   "metadata": {},
   "source": [
    "* In terms of centrality measures, what are the $3$ most central counties, for\n",
    "\n",
    "    1.  degree centrality?\n",
    "    1.  eigenvector centrality?\n",
    "    1.  closeness centrality?\n",
    "    1.  betweenness centrality?\n",
    "\n",
    "Please use as many code and as many text cells as needed and make sure to respond to each point."
   ]
  },
  {
   "cell_type": "code",
   "execution_count": 53,
   "metadata": {},
   "outputs": [],
   "source": [
    "import numpy as np\n",
    "import pandas as pd"
   ]
  },
  {
   "cell_type": "code",
   "execution_count": 57,
   "metadata": {},
   "outputs": [],
   "source": [
    "nx.set_node_attributes(I, nx.degree_centrality(I), 'C^D')\n",
    "nx.set_node_attributes(I, nx.eigenvector_centrality(I), 'C^E')\n",
    "nx.set_node_attributes(I, nx.closeness_centrality(I), 'C^C')\n",
    "nx.set_node_attributes(I, nx.betweenness_centrality(I), 'C^B')"
   ]
  },
  {
   "cell_type": "code",
   "execution_count": 58,
   "metadata": {},
   "outputs": [
    {
     "data": {
      "text/html": [
       "<div>\n",
       "<style scoped>\n",
       "    .dataframe tbody tr th:only-of-type {\n",
       "        vertical-align: middle;\n",
       "    }\n",
       "\n",
       "    .dataframe tbody tr th {\n",
       "        vertical-align: top;\n",
       "    }\n",
       "\n",
       "    .dataframe thead th {\n",
       "        text-align: right;\n",
       "    }\n",
       "</style>\n",
       "<table border=\"1\" class=\"dataframe\">\n",
       "  <thead>\n",
       "    <tr style=\"text-align: right;\">\n",
       "      <th></th>\n",
       "      <th>C^D</th>\n",
       "      <th>C^E</th>\n",
       "      <th>C^C</th>\n",
       "      <th>C^B</th>\n",
       "    </tr>\n",
       "  </thead>\n",
       "  <tbody>\n",
       "    <tr>\n",
       "      <th>Tipperary</th>\n",
       "      <td>0.258065</td>\n",
       "      <td>0.258747</td>\n",
       "      <td>0.397436</td>\n",
       "      <td>0.222681</td>\n",
       "    </tr>\n",
       "    <tr>\n",
       "      <th>Roscommon</th>\n",
       "      <td>0.225806</td>\n",
       "      <td>0.266327</td>\n",
       "      <td>0.413333</td>\n",
       "      <td>0.162350</td>\n",
       "    </tr>\n",
       "    <tr>\n",
       "      <th>Offaly</th>\n",
       "      <td>0.225806</td>\n",
       "      <td>0.327506</td>\n",
       "      <td>0.469697</td>\n",
       "      <td>0.279330</td>\n",
       "    </tr>\n",
       "    <tr>\n",
       "      <th>Meath</th>\n",
       "      <td>0.225806</td>\n",
       "      <td>0.289622</td>\n",
       "      <td>0.455882</td>\n",
       "      <td>0.308805</td>\n",
       "    </tr>\n",
       "    <tr>\n",
       "      <th>Cavan</th>\n",
       "      <td>0.193548</td>\n",
       "      <td>0.250965</td>\n",
       "      <td>0.387500</td>\n",
       "      <td>0.061483</td>\n",
       "    </tr>\n",
       "    <tr>\n",
       "      <th>Tyrone</th>\n",
       "      <td>0.193548</td>\n",
       "      <td>0.142125</td>\n",
       "      <td>0.319588</td>\n",
       "      <td>0.065503</td>\n",
       "    </tr>\n",
       "    <tr>\n",
       "      <th>Monaghan</th>\n",
       "      <td>0.193548</td>\n",
       "      <td>0.209616</td>\n",
       "      <td>0.387500</td>\n",
       "      <td>0.132825</td>\n",
       "    </tr>\n",
       "    <tr>\n",
       "      <th>Kildare</th>\n",
       "      <td>0.193548</td>\n",
       "      <td>0.234722</td>\n",
       "      <td>0.407895</td>\n",
       "      <td>0.116354</td>\n",
       "    </tr>\n",
       "    <tr>\n",
       "      <th>Leitrim</th>\n",
       "      <td>0.193548</td>\n",
       "      <td>0.209394</td>\n",
       "      <td>0.373494</td>\n",
       "      <td>0.120198</td>\n",
       "    </tr>\n",
       "    <tr>\n",
       "      <th>Laois</th>\n",
       "      <td>0.161290</td>\n",
       "      <td>0.217561</td>\n",
       "      <td>0.382716</td>\n",
       "      <td>0.043948</td>\n",
       "    </tr>\n",
       "    <tr>\n",
       "      <th>Westmeath</th>\n",
       "      <td>0.161290</td>\n",
       "      <td>0.250843</td>\n",
       "      <td>0.407895</td>\n",
       "      <td>0.037627</td>\n",
       "    </tr>\n",
       "    <tr>\n",
       "      <th>Armagh</th>\n",
       "      <td>0.161290</td>\n",
       "      <td>0.116446</td>\n",
       "      <td>0.303922</td>\n",
       "      <td>0.030069</td>\n",
       "    </tr>\n",
       "    <tr>\n",
       "      <th>Fermanagh</th>\n",
       "      <td>0.161290</td>\n",
       "      <td>0.175578</td>\n",
       "      <td>0.340659</td>\n",
       "      <td>0.033258</td>\n",
       "    </tr>\n",
       "    <tr>\n",
       "      <th>Galway</th>\n",
       "      <td>0.161290</td>\n",
       "      <td>0.205811</td>\n",
       "      <td>0.402597</td>\n",
       "      <td>0.113614</td>\n",
       "    </tr>\n",
       "    <tr>\n",
       "      <th>Kilkenny</th>\n",
       "      <td>0.161290</td>\n",
       "      <td>0.164078</td>\n",
       "      <td>0.316327</td>\n",
       "      <td>0.021487</td>\n",
       "    </tr>\n",
       "    <tr>\n",
       "      <th>Carlow</th>\n",
       "      <td>0.161290</td>\n",
       "      <td>0.159956</td>\n",
       "      <td>0.333333</td>\n",
       "      <td>0.025321</td>\n",
       "    </tr>\n",
       "    <tr>\n",
       "      <th>Cork</th>\n",
       "      <td>0.129032</td>\n",
       "      <td>0.103450</td>\n",
       "      <td>0.303922</td>\n",
       "      <td>0.018325</td>\n",
       "    </tr>\n",
       "    <tr>\n",
       "      <th>Waterford</th>\n",
       "      <td>0.129032</td>\n",
       "      <td>0.120318</td>\n",
       "      <td>0.313131</td>\n",
       "      <td>0.022268</td>\n",
       "    </tr>\n",
       "    <tr>\n",
       "      <th>Limerick</th>\n",
       "      <td>0.129032</td>\n",
       "      <td>0.103351</td>\n",
       "      <td>0.298077</td>\n",
       "      <td>0.009236</td>\n",
       "    </tr>\n",
       "    <tr>\n",
       "      <th>Donegal</th>\n",
       "      <td>0.129032</td>\n",
       "      <td>0.111941</td>\n",
       "      <td>0.310000</td>\n",
       "      <td>0.046088</td>\n",
       "    </tr>\n",
       "    <tr>\n",
       "      <th>Antrim</th>\n",
       "      <td>0.129032</td>\n",
       "      <td>0.072372</td>\n",
       "      <td>0.254098</td>\n",
       "      <td>0.008530</td>\n",
       "    </tr>\n",
       "    <tr>\n",
       "      <th>Longford</th>\n",
       "      <td>0.129032</td>\n",
       "      <td>0.185741</td>\n",
       "      <td>0.352273</td>\n",
       "      <td>0.004696</td>\n",
       "    </tr>\n",
       "    <tr>\n",
       "      <th>Clare</th>\n",
       "      <td>0.129032</td>\n",
       "      <td>0.119695</td>\n",
       "      <td>0.322917</td>\n",
       "      <td>0.042066</td>\n",
       "    </tr>\n",
       "    <tr>\n",
       "      <th>Wicklow</th>\n",
       "      <td>0.129032</td>\n",
       "      <td>0.118523</td>\n",
       "      <td>0.319588</td>\n",
       "      <td>0.026698</td>\n",
       "    </tr>\n",
       "    <tr>\n",
       "      <th>Wexford</th>\n",
       "      <td>0.129032</td>\n",
       "      <td>0.106951</td>\n",
       "      <td>0.284404</td>\n",
       "      <td>0.015783</td>\n",
       "    </tr>\n",
       "    <tr>\n",
       "      <th>Louth</th>\n",
       "      <td>0.129032</td>\n",
       "      <td>0.128441</td>\n",
       "      <td>0.356322</td>\n",
       "      <td>0.082710</td>\n",
       "    </tr>\n",
       "    <tr>\n",
       "      <th>Kerry</th>\n",
       "      <td>0.096774</td>\n",
       "      <td>0.062037</td>\n",
       "      <td>0.258333</td>\n",
       "      <td>0.000717</td>\n",
       "    </tr>\n",
       "    <tr>\n",
       "      <th>Dublin</th>\n",
       "      <td>0.096774</td>\n",
       "      <td>0.122151</td>\n",
       "      <td>0.348315</td>\n",
       "      <td>0.022107</td>\n",
       "    </tr>\n",
       "    <tr>\n",
       "      <th>Mayo</th>\n",
       "      <td>0.096774</td>\n",
       "      <td>0.110889</td>\n",
       "      <td>0.326316</td>\n",
       "      <td>0.007204</td>\n",
       "    </tr>\n",
       "    <tr>\n",
       "      <th>Down</th>\n",
       "      <td>0.096774</td>\n",
       "      <td>0.060283</td>\n",
       "      <td>0.281818</td>\n",
       "      <td>0.010060</td>\n",
       "    </tr>\n",
       "    <tr>\n",
       "      <th>Derry</th>\n",
       "      <td>0.096774</td>\n",
       "      <td>0.062027</td>\n",
       "      <td>0.267241</td>\n",
       "      <td>0.006028</td>\n",
       "    </tr>\n",
       "    <tr>\n",
       "      <th>Sligo</th>\n",
       "      <td>0.096774</td>\n",
       "      <td>0.111462</td>\n",
       "      <td>0.326316</td>\n",
       "      <td>0.008005</td>\n",
       "    </tr>\n",
       "  </tbody>\n",
       "</table>\n",
       "</div>"
      ],
      "text/plain": [
       "                C^D       C^E       C^C       C^B\n",
       "Tipperary  0.258065  0.258747  0.397436  0.222681\n",
       "Roscommon  0.225806  0.266327  0.413333  0.162350\n",
       "Offaly     0.225806  0.327506  0.469697  0.279330\n",
       "Meath      0.225806  0.289622  0.455882  0.308805\n",
       "Cavan      0.193548  0.250965  0.387500  0.061483\n",
       "Tyrone     0.193548  0.142125  0.319588  0.065503\n",
       "Monaghan   0.193548  0.209616  0.387500  0.132825\n",
       "Kildare    0.193548  0.234722  0.407895  0.116354\n",
       "Leitrim    0.193548  0.209394  0.373494  0.120198\n",
       "Laois      0.161290  0.217561  0.382716  0.043948\n",
       "Westmeath  0.161290  0.250843  0.407895  0.037627\n",
       "Armagh     0.161290  0.116446  0.303922  0.030069\n",
       "Fermanagh  0.161290  0.175578  0.340659  0.033258\n",
       "Galway     0.161290  0.205811  0.402597  0.113614\n",
       "Kilkenny   0.161290  0.164078  0.316327  0.021487\n",
       "Carlow     0.161290  0.159956  0.333333  0.025321\n",
       "Cork       0.129032  0.103450  0.303922  0.018325\n",
       "Waterford  0.129032  0.120318  0.313131  0.022268\n",
       "Limerick   0.129032  0.103351  0.298077  0.009236\n",
       "Donegal    0.129032  0.111941  0.310000  0.046088\n",
       "Antrim     0.129032  0.072372  0.254098  0.008530\n",
       "Longford   0.129032  0.185741  0.352273  0.004696\n",
       "Clare      0.129032  0.119695  0.322917  0.042066\n",
       "Wicklow    0.129032  0.118523  0.319588  0.026698\n",
       "Wexford    0.129032  0.106951  0.284404  0.015783\n",
       "Louth      0.129032  0.128441  0.356322  0.082710\n",
       "Kerry      0.096774  0.062037  0.258333  0.000717\n",
       "Dublin     0.096774  0.122151  0.348315  0.022107\n",
       "Mayo       0.096774  0.110889  0.326316  0.007204\n",
       "Down       0.096774  0.060283  0.281818  0.010060\n",
       "Derry      0.096774  0.062027  0.267241  0.006028\n",
       "Sligo      0.096774  0.111462  0.326316  0.008005"
      ]
     },
     "execution_count": 58,
     "metadata": {},
     "output_type": "execute_result"
    }
   ],
   "source": [
    "pd.DataFrame.from_dict(\n",
    "    dict(I.nodes(data=True)), \n",
    "    orient='index'\n",
    ").sort_values('C^D', ascending=False)"
   ]
  },
  {
   "cell_type": "markdown",
   "metadata": {},
   "source": [
    "<span style=\"color:blue\">There's 4 counties of highest **degree centrality** (three on a tie): Tipperary, Roscommon, Offaly, Meath</span>"
   ]
  },
  {
   "cell_type": "code",
   "execution_count": 59,
   "metadata": {
    "scrolled": true
   },
   "outputs": [
    {
     "data": {
      "text/html": [
       "<div>\n",
       "<style scoped>\n",
       "    .dataframe tbody tr th:only-of-type {\n",
       "        vertical-align: middle;\n",
       "    }\n",
       "\n",
       "    .dataframe tbody tr th {\n",
       "        vertical-align: top;\n",
       "    }\n",
       "\n",
       "    .dataframe thead th {\n",
       "        text-align: right;\n",
       "    }\n",
       "</style>\n",
       "<table border=\"1\" class=\"dataframe\">\n",
       "  <thead>\n",
       "    <tr style=\"text-align: right;\">\n",
       "      <th></th>\n",
       "      <th>C^D</th>\n",
       "      <th>C^E</th>\n",
       "      <th>C^C</th>\n",
       "      <th>C^B</th>\n",
       "    </tr>\n",
       "  </thead>\n",
       "  <tbody>\n",
       "    <tr>\n",
       "      <th>Offaly</th>\n",
       "      <td>0.225806</td>\n",
       "      <td>0.327506</td>\n",
       "      <td>0.469697</td>\n",
       "      <td>0.279330</td>\n",
       "    </tr>\n",
       "    <tr>\n",
       "      <th>Meath</th>\n",
       "      <td>0.225806</td>\n",
       "      <td>0.289622</td>\n",
       "      <td>0.455882</td>\n",
       "      <td>0.308805</td>\n",
       "    </tr>\n",
       "    <tr>\n",
       "      <th>Roscommon</th>\n",
       "      <td>0.225806</td>\n",
       "      <td>0.266327</td>\n",
       "      <td>0.413333</td>\n",
       "      <td>0.162350</td>\n",
       "    </tr>\n",
       "    <tr>\n",
       "      <th>Tipperary</th>\n",
       "      <td>0.258065</td>\n",
       "      <td>0.258747</td>\n",
       "      <td>0.397436</td>\n",
       "      <td>0.222681</td>\n",
       "    </tr>\n",
       "    <tr>\n",
       "      <th>Cavan</th>\n",
       "      <td>0.193548</td>\n",
       "      <td>0.250965</td>\n",
       "      <td>0.387500</td>\n",
       "      <td>0.061483</td>\n",
       "    </tr>\n",
       "    <tr>\n",
       "      <th>Westmeath</th>\n",
       "      <td>0.161290</td>\n",
       "      <td>0.250843</td>\n",
       "      <td>0.407895</td>\n",
       "      <td>0.037627</td>\n",
       "    </tr>\n",
       "    <tr>\n",
       "      <th>Kildare</th>\n",
       "      <td>0.193548</td>\n",
       "      <td>0.234722</td>\n",
       "      <td>0.407895</td>\n",
       "      <td>0.116354</td>\n",
       "    </tr>\n",
       "    <tr>\n",
       "      <th>Laois</th>\n",
       "      <td>0.161290</td>\n",
       "      <td>0.217561</td>\n",
       "      <td>0.382716</td>\n",
       "      <td>0.043948</td>\n",
       "    </tr>\n",
       "    <tr>\n",
       "      <th>Monaghan</th>\n",
       "      <td>0.193548</td>\n",
       "      <td>0.209616</td>\n",
       "      <td>0.387500</td>\n",
       "      <td>0.132825</td>\n",
       "    </tr>\n",
       "    <tr>\n",
       "      <th>Leitrim</th>\n",
       "      <td>0.193548</td>\n",
       "      <td>0.209394</td>\n",
       "      <td>0.373494</td>\n",
       "      <td>0.120198</td>\n",
       "    </tr>\n",
       "    <tr>\n",
       "      <th>Galway</th>\n",
       "      <td>0.161290</td>\n",
       "      <td>0.205811</td>\n",
       "      <td>0.402597</td>\n",
       "      <td>0.113614</td>\n",
       "    </tr>\n",
       "    <tr>\n",
       "      <th>Longford</th>\n",
       "      <td>0.129032</td>\n",
       "      <td>0.185741</td>\n",
       "      <td>0.352273</td>\n",
       "      <td>0.004696</td>\n",
       "    </tr>\n",
       "    <tr>\n",
       "      <th>Fermanagh</th>\n",
       "      <td>0.161290</td>\n",
       "      <td>0.175578</td>\n",
       "      <td>0.340659</td>\n",
       "      <td>0.033258</td>\n",
       "    </tr>\n",
       "    <tr>\n",
       "      <th>Kilkenny</th>\n",
       "      <td>0.161290</td>\n",
       "      <td>0.164078</td>\n",
       "      <td>0.316327</td>\n",
       "      <td>0.021487</td>\n",
       "    </tr>\n",
       "    <tr>\n",
       "      <th>Carlow</th>\n",
       "      <td>0.161290</td>\n",
       "      <td>0.159956</td>\n",
       "      <td>0.333333</td>\n",
       "      <td>0.025321</td>\n",
       "    </tr>\n",
       "    <tr>\n",
       "      <th>Tyrone</th>\n",
       "      <td>0.193548</td>\n",
       "      <td>0.142125</td>\n",
       "      <td>0.319588</td>\n",
       "      <td>0.065503</td>\n",
       "    </tr>\n",
       "    <tr>\n",
       "      <th>Louth</th>\n",
       "      <td>0.129032</td>\n",
       "      <td>0.128441</td>\n",
       "      <td>0.356322</td>\n",
       "      <td>0.082710</td>\n",
       "    </tr>\n",
       "    <tr>\n",
       "      <th>Dublin</th>\n",
       "      <td>0.096774</td>\n",
       "      <td>0.122151</td>\n",
       "      <td>0.348315</td>\n",
       "      <td>0.022107</td>\n",
       "    </tr>\n",
       "    <tr>\n",
       "      <th>Waterford</th>\n",
       "      <td>0.129032</td>\n",
       "      <td>0.120318</td>\n",
       "      <td>0.313131</td>\n",
       "      <td>0.022268</td>\n",
       "    </tr>\n",
       "    <tr>\n",
       "      <th>Clare</th>\n",
       "      <td>0.129032</td>\n",
       "      <td>0.119695</td>\n",
       "      <td>0.322917</td>\n",
       "      <td>0.042066</td>\n",
       "    </tr>\n",
       "    <tr>\n",
       "      <th>Wicklow</th>\n",
       "      <td>0.129032</td>\n",
       "      <td>0.118523</td>\n",
       "      <td>0.319588</td>\n",
       "      <td>0.026698</td>\n",
       "    </tr>\n",
       "    <tr>\n",
       "      <th>Armagh</th>\n",
       "      <td>0.161290</td>\n",
       "      <td>0.116446</td>\n",
       "      <td>0.303922</td>\n",
       "      <td>0.030069</td>\n",
       "    </tr>\n",
       "    <tr>\n",
       "      <th>Donegal</th>\n",
       "      <td>0.129032</td>\n",
       "      <td>0.111941</td>\n",
       "      <td>0.310000</td>\n",
       "      <td>0.046088</td>\n",
       "    </tr>\n",
       "    <tr>\n",
       "      <th>Sligo</th>\n",
       "      <td>0.096774</td>\n",
       "      <td>0.111462</td>\n",
       "      <td>0.326316</td>\n",
       "      <td>0.008005</td>\n",
       "    </tr>\n",
       "    <tr>\n",
       "      <th>Mayo</th>\n",
       "      <td>0.096774</td>\n",
       "      <td>0.110889</td>\n",
       "      <td>0.326316</td>\n",
       "      <td>0.007204</td>\n",
       "    </tr>\n",
       "    <tr>\n",
       "      <th>Wexford</th>\n",
       "      <td>0.129032</td>\n",
       "      <td>0.106951</td>\n",
       "      <td>0.284404</td>\n",
       "      <td>0.015783</td>\n",
       "    </tr>\n",
       "    <tr>\n",
       "      <th>Cork</th>\n",
       "      <td>0.129032</td>\n",
       "      <td>0.103450</td>\n",
       "      <td>0.303922</td>\n",
       "      <td>0.018325</td>\n",
       "    </tr>\n",
       "    <tr>\n",
       "      <th>Limerick</th>\n",
       "      <td>0.129032</td>\n",
       "      <td>0.103351</td>\n",
       "      <td>0.298077</td>\n",
       "      <td>0.009236</td>\n",
       "    </tr>\n",
       "    <tr>\n",
       "      <th>Antrim</th>\n",
       "      <td>0.129032</td>\n",
       "      <td>0.072372</td>\n",
       "      <td>0.254098</td>\n",
       "      <td>0.008530</td>\n",
       "    </tr>\n",
       "    <tr>\n",
       "      <th>Kerry</th>\n",
       "      <td>0.096774</td>\n",
       "      <td>0.062037</td>\n",
       "      <td>0.258333</td>\n",
       "      <td>0.000717</td>\n",
       "    </tr>\n",
       "    <tr>\n",
       "      <th>Derry</th>\n",
       "      <td>0.096774</td>\n",
       "      <td>0.062027</td>\n",
       "      <td>0.267241</td>\n",
       "      <td>0.006028</td>\n",
       "    </tr>\n",
       "    <tr>\n",
       "      <th>Down</th>\n",
       "      <td>0.096774</td>\n",
       "      <td>0.060283</td>\n",
       "      <td>0.281818</td>\n",
       "      <td>0.010060</td>\n",
       "    </tr>\n",
       "  </tbody>\n",
       "</table>\n",
       "</div>"
      ],
      "text/plain": [
       "                C^D       C^E       C^C       C^B\n",
       "Offaly     0.225806  0.327506  0.469697  0.279330\n",
       "Meath      0.225806  0.289622  0.455882  0.308805\n",
       "Roscommon  0.225806  0.266327  0.413333  0.162350\n",
       "Tipperary  0.258065  0.258747  0.397436  0.222681\n",
       "Cavan      0.193548  0.250965  0.387500  0.061483\n",
       "Westmeath  0.161290  0.250843  0.407895  0.037627\n",
       "Kildare    0.193548  0.234722  0.407895  0.116354\n",
       "Laois      0.161290  0.217561  0.382716  0.043948\n",
       "Monaghan   0.193548  0.209616  0.387500  0.132825\n",
       "Leitrim    0.193548  0.209394  0.373494  0.120198\n",
       "Galway     0.161290  0.205811  0.402597  0.113614\n",
       "Longford   0.129032  0.185741  0.352273  0.004696\n",
       "Fermanagh  0.161290  0.175578  0.340659  0.033258\n",
       "Kilkenny   0.161290  0.164078  0.316327  0.021487\n",
       "Carlow     0.161290  0.159956  0.333333  0.025321\n",
       "Tyrone     0.193548  0.142125  0.319588  0.065503\n",
       "Louth      0.129032  0.128441  0.356322  0.082710\n",
       "Dublin     0.096774  0.122151  0.348315  0.022107\n",
       "Waterford  0.129032  0.120318  0.313131  0.022268\n",
       "Clare      0.129032  0.119695  0.322917  0.042066\n",
       "Wicklow    0.129032  0.118523  0.319588  0.026698\n",
       "Armagh     0.161290  0.116446  0.303922  0.030069\n",
       "Donegal    0.129032  0.111941  0.310000  0.046088\n",
       "Sligo      0.096774  0.111462  0.326316  0.008005\n",
       "Mayo       0.096774  0.110889  0.326316  0.007204\n",
       "Wexford    0.129032  0.106951  0.284404  0.015783\n",
       "Cork       0.129032  0.103450  0.303922  0.018325\n",
       "Limerick   0.129032  0.103351  0.298077  0.009236\n",
       "Antrim     0.129032  0.072372  0.254098  0.008530\n",
       "Kerry      0.096774  0.062037  0.258333  0.000717\n",
       "Derry      0.096774  0.062027  0.267241  0.006028\n",
       "Down       0.096774  0.060283  0.281818  0.010060"
      ]
     },
     "execution_count": 59,
     "metadata": {},
     "output_type": "execute_result"
    }
   ],
   "source": [
    "pd.DataFrame.from_dict(\n",
    "    dict(I.nodes(data=True)), \n",
    "    orient='index'\n",
    ").sort_values('C^E', ascending=False)"
   ]
  },
  {
   "cell_type": "markdown",
   "metadata": {},
   "source": [
    "<span style=\"color:blue\">There's 3 counties of highest **eigenvector centrality**: Roscommon, Offaly, Meath</span>"
   ]
  },
  {
   "cell_type": "code",
   "execution_count": 60,
   "metadata": {},
   "outputs": [
    {
     "data": {
      "text/html": [
       "<div>\n",
       "<style scoped>\n",
       "    .dataframe tbody tr th:only-of-type {\n",
       "        vertical-align: middle;\n",
       "    }\n",
       "\n",
       "    .dataframe tbody tr th {\n",
       "        vertical-align: top;\n",
       "    }\n",
       "\n",
       "    .dataframe thead th {\n",
       "        text-align: right;\n",
       "    }\n",
       "</style>\n",
       "<table border=\"1\" class=\"dataframe\">\n",
       "  <thead>\n",
       "    <tr style=\"text-align: right;\">\n",
       "      <th></th>\n",
       "      <th>C^D</th>\n",
       "      <th>C^E</th>\n",
       "      <th>C^C</th>\n",
       "      <th>C^B</th>\n",
       "    </tr>\n",
       "  </thead>\n",
       "  <tbody>\n",
       "    <tr>\n",
       "      <th>Offaly</th>\n",
       "      <td>0.225806</td>\n",
       "      <td>0.327506</td>\n",
       "      <td>0.469697</td>\n",
       "      <td>0.279330</td>\n",
       "    </tr>\n",
       "    <tr>\n",
       "      <th>Meath</th>\n",
       "      <td>0.225806</td>\n",
       "      <td>0.289622</td>\n",
       "      <td>0.455882</td>\n",
       "      <td>0.308805</td>\n",
       "    </tr>\n",
       "    <tr>\n",
       "      <th>Roscommon</th>\n",
       "      <td>0.225806</td>\n",
       "      <td>0.266327</td>\n",
       "      <td>0.413333</td>\n",
       "      <td>0.162350</td>\n",
       "    </tr>\n",
       "    <tr>\n",
       "      <th>Kildare</th>\n",
       "      <td>0.193548</td>\n",
       "      <td>0.234722</td>\n",
       "      <td>0.407895</td>\n",
       "      <td>0.116354</td>\n",
       "    </tr>\n",
       "    <tr>\n",
       "      <th>Westmeath</th>\n",
       "      <td>0.161290</td>\n",
       "      <td>0.250843</td>\n",
       "      <td>0.407895</td>\n",
       "      <td>0.037627</td>\n",
       "    </tr>\n",
       "    <tr>\n",
       "      <th>Galway</th>\n",
       "      <td>0.161290</td>\n",
       "      <td>0.205811</td>\n",
       "      <td>0.402597</td>\n",
       "      <td>0.113614</td>\n",
       "    </tr>\n",
       "    <tr>\n",
       "      <th>Tipperary</th>\n",
       "      <td>0.258065</td>\n",
       "      <td>0.258747</td>\n",
       "      <td>0.397436</td>\n",
       "      <td>0.222681</td>\n",
       "    </tr>\n",
       "    <tr>\n",
       "      <th>Monaghan</th>\n",
       "      <td>0.193548</td>\n",
       "      <td>0.209616</td>\n",
       "      <td>0.387500</td>\n",
       "      <td>0.132825</td>\n",
       "    </tr>\n",
       "    <tr>\n",
       "      <th>Cavan</th>\n",
       "      <td>0.193548</td>\n",
       "      <td>0.250965</td>\n",
       "      <td>0.387500</td>\n",
       "      <td>0.061483</td>\n",
       "    </tr>\n",
       "    <tr>\n",
       "      <th>Laois</th>\n",
       "      <td>0.161290</td>\n",
       "      <td>0.217561</td>\n",
       "      <td>0.382716</td>\n",
       "      <td>0.043948</td>\n",
       "    </tr>\n",
       "    <tr>\n",
       "      <th>Leitrim</th>\n",
       "      <td>0.193548</td>\n",
       "      <td>0.209394</td>\n",
       "      <td>0.373494</td>\n",
       "      <td>0.120198</td>\n",
       "    </tr>\n",
       "    <tr>\n",
       "      <th>Louth</th>\n",
       "      <td>0.129032</td>\n",
       "      <td>0.128441</td>\n",
       "      <td>0.356322</td>\n",
       "      <td>0.082710</td>\n",
       "    </tr>\n",
       "    <tr>\n",
       "      <th>Longford</th>\n",
       "      <td>0.129032</td>\n",
       "      <td>0.185741</td>\n",
       "      <td>0.352273</td>\n",
       "      <td>0.004696</td>\n",
       "    </tr>\n",
       "    <tr>\n",
       "      <th>Dublin</th>\n",
       "      <td>0.096774</td>\n",
       "      <td>0.122151</td>\n",
       "      <td>0.348315</td>\n",
       "      <td>0.022107</td>\n",
       "    </tr>\n",
       "    <tr>\n",
       "      <th>Fermanagh</th>\n",
       "      <td>0.161290</td>\n",
       "      <td>0.175578</td>\n",
       "      <td>0.340659</td>\n",
       "      <td>0.033258</td>\n",
       "    </tr>\n",
       "    <tr>\n",
       "      <th>Carlow</th>\n",
       "      <td>0.161290</td>\n",
       "      <td>0.159956</td>\n",
       "      <td>0.333333</td>\n",
       "      <td>0.025321</td>\n",
       "    </tr>\n",
       "    <tr>\n",
       "      <th>Mayo</th>\n",
       "      <td>0.096774</td>\n",
       "      <td>0.110889</td>\n",
       "      <td>0.326316</td>\n",
       "      <td>0.007204</td>\n",
       "    </tr>\n",
       "    <tr>\n",
       "      <th>Sligo</th>\n",
       "      <td>0.096774</td>\n",
       "      <td>0.111462</td>\n",
       "      <td>0.326316</td>\n",
       "      <td>0.008005</td>\n",
       "    </tr>\n",
       "    <tr>\n",
       "      <th>Clare</th>\n",
       "      <td>0.129032</td>\n",
       "      <td>0.119695</td>\n",
       "      <td>0.322917</td>\n",
       "      <td>0.042066</td>\n",
       "    </tr>\n",
       "    <tr>\n",
       "      <th>Wicklow</th>\n",
       "      <td>0.129032</td>\n",
       "      <td>0.118523</td>\n",
       "      <td>0.319588</td>\n",
       "      <td>0.026698</td>\n",
       "    </tr>\n",
       "    <tr>\n",
       "      <th>Tyrone</th>\n",
       "      <td>0.193548</td>\n",
       "      <td>0.142125</td>\n",
       "      <td>0.319588</td>\n",
       "      <td>0.065503</td>\n",
       "    </tr>\n",
       "    <tr>\n",
       "      <th>Kilkenny</th>\n",
       "      <td>0.161290</td>\n",
       "      <td>0.164078</td>\n",
       "      <td>0.316327</td>\n",
       "      <td>0.021487</td>\n",
       "    </tr>\n",
       "    <tr>\n",
       "      <th>Waterford</th>\n",
       "      <td>0.129032</td>\n",
       "      <td>0.120318</td>\n",
       "      <td>0.313131</td>\n",
       "      <td>0.022268</td>\n",
       "    </tr>\n",
       "    <tr>\n",
       "      <th>Donegal</th>\n",
       "      <td>0.129032</td>\n",
       "      <td>0.111941</td>\n",
       "      <td>0.310000</td>\n",
       "      <td>0.046088</td>\n",
       "    </tr>\n",
       "    <tr>\n",
       "      <th>Armagh</th>\n",
       "      <td>0.161290</td>\n",
       "      <td>0.116446</td>\n",
       "      <td>0.303922</td>\n",
       "      <td>0.030069</td>\n",
       "    </tr>\n",
       "    <tr>\n",
       "      <th>Cork</th>\n",
       "      <td>0.129032</td>\n",
       "      <td>0.103450</td>\n",
       "      <td>0.303922</td>\n",
       "      <td>0.018325</td>\n",
       "    </tr>\n",
       "    <tr>\n",
       "      <th>Limerick</th>\n",
       "      <td>0.129032</td>\n",
       "      <td>0.103351</td>\n",
       "      <td>0.298077</td>\n",
       "      <td>0.009236</td>\n",
       "    </tr>\n",
       "    <tr>\n",
       "      <th>Wexford</th>\n",
       "      <td>0.129032</td>\n",
       "      <td>0.106951</td>\n",
       "      <td>0.284404</td>\n",
       "      <td>0.015783</td>\n",
       "    </tr>\n",
       "    <tr>\n",
       "      <th>Down</th>\n",
       "      <td>0.096774</td>\n",
       "      <td>0.060283</td>\n",
       "      <td>0.281818</td>\n",
       "      <td>0.010060</td>\n",
       "    </tr>\n",
       "    <tr>\n",
       "      <th>Derry</th>\n",
       "      <td>0.096774</td>\n",
       "      <td>0.062027</td>\n",
       "      <td>0.267241</td>\n",
       "      <td>0.006028</td>\n",
       "    </tr>\n",
       "    <tr>\n",
       "      <th>Kerry</th>\n",
       "      <td>0.096774</td>\n",
       "      <td>0.062037</td>\n",
       "      <td>0.258333</td>\n",
       "      <td>0.000717</td>\n",
       "    </tr>\n",
       "    <tr>\n",
       "      <th>Antrim</th>\n",
       "      <td>0.129032</td>\n",
       "      <td>0.072372</td>\n",
       "      <td>0.254098</td>\n",
       "      <td>0.008530</td>\n",
       "    </tr>\n",
       "  </tbody>\n",
       "</table>\n",
       "</div>"
      ],
      "text/plain": [
       "                C^D       C^E       C^C       C^B\n",
       "Offaly     0.225806  0.327506  0.469697  0.279330\n",
       "Meath      0.225806  0.289622  0.455882  0.308805\n",
       "Roscommon  0.225806  0.266327  0.413333  0.162350\n",
       "Kildare    0.193548  0.234722  0.407895  0.116354\n",
       "Westmeath  0.161290  0.250843  0.407895  0.037627\n",
       "Galway     0.161290  0.205811  0.402597  0.113614\n",
       "Tipperary  0.258065  0.258747  0.397436  0.222681\n",
       "Monaghan   0.193548  0.209616  0.387500  0.132825\n",
       "Cavan      0.193548  0.250965  0.387500  0.061483\n",
       "Laois      0.161290  0.217561  0.382716  0.043948\n",
       "Leitrim    0.193548  0.209394  0.373494  0.120198\n",
       "Louth      0.129032  0.128441  0.356322  0.082710\n",
       "Longford   0.129032  0.185741  0.352273  0.004696\n",
       "Dublin     0.096774  0.122151  0.348315  0.022107\n",
       "Fermanagh  0.161290  0.175578  0.340659  0.033258\n",
       "Carlow     0.161290  0.159956  0.333333  0.025321\n",
       "Mayo       0.096774  0.110889  0.326316  0.007204\n",
       "Sligo      0.096774  0.111462  0.326316  0.008005\n",
       "Clare      0.129032  0.119695  0.322917  0.042066\n",
       "Wicklow    0.129032  0.118523  0.319588  0.026698\n",
       "Tyrone     0.193548  0.142125  0.319588  0.065503\n",
       "Kilkenny   0.161290  0.164078  0.316327  0.021487\n",
       "Waterford  0.129032  0.120318  0.313131  0.022268\n",
       "Donegal    0.129032  0.111941  0.310000  0.046088\n",
       "Armagh     0.161290  0.116446  0.303922  0.030069\n",
       "Cork       0.129032  0.103450  0.303922  0.018325\n",
       "Limerick   0.129032  0.103351  0.298077  0.009236\n",
       "Wexford    0.129032  0.106951  0.284404  0.015783\n",
       "Down       0.096774  0.060283  0.281818  0.010060\n",
       "Derry      0.096774  0.062027  0.267241  0.006028\n",
       "Kerry      0.096774  0.062037  0.258333  0.000717\n",
       "Antrim     0.129032  0.072372  0.254098  0.008530"
      ]
     },
     "execution_count": 60,
     "metadata": {},
     "output_type": "execute_result"
    }
   ],
   "source": [
    "pd.DataFrame.from_dict(\n",
    "    dict(I.nodes(data=True)), \n",
    "    orient='index'\n",
    ").sort_values('C^C', ascending=False)"
   ]
  },
  {
   "cell_type": "markdown",
   "metadata": {},
   "source": [
    "<span style=\"color:blue\">There's 3 counties of highest **closeness** centrality: Roscommon, Offaly, Meath</span>"
   ]
  },
  {
   "cell_type": "code",
   "execution_count": 61,
   "metadata": {},
   "outputs": [
    {
     "data": {
      "text/html": [
       "<div>\n",
       "<style scoped>\n",
       "    .dataframe tbody tr th:only-of-type {\n",
       "        vertical-align: middle;\n",
       "    }\n",
       "\n",
       "    .dataframe tbody tr th {\n",
       "        vertical-align: top;\n",
       "    }\n",
       "\n",
       "    .dataframe thead th {\n",
       "        text-align: right;\n",
       "    }\n",
       "</style>\n",
       "<table border=\"1\" class=\"dataframe\">\n",
       "  <thead>\n",
       "    <tr style=\"text-align: right;\">\n",
       "      <th></th>\n",
       "      <th>C^D</th>\n",
       "      <th>C^E</th>\n",
       "      <th>C^C</th>\n",
       "      <th>C^B</th>\n",
       "    </tr>\n",
       "  </thead>\n",
       "  <tbody>\n",
       "    <tr>\n",
       "      <th>Meath</th>\n",
       "      <td>0.225806</td>\n",
       "      <td>0.289622</td>\n",
       "      <td>0.455882</td>\n",
       "      <td>0.308805</td>\n",
       "    </tr>\n",
       "    <tr>\n",
       "      <th>Offaly</th>\n",
       "      <td>0.225806</td>\n",
       "      <td>0.327506</td>\n",
       "      <td>0.469697</td>\n",
       "      <td>0.279330</td>\n",
       "    </tr>\n",
       "    <tr>\n",
       "      <th>Tipperary</th>\n",
       "      <td>0.258065</td>\n",
       "      <td>0.258747</td>\n",
       "      <td>0.397436</td>\n",
       "      <td>0.222681</td>\n",
       "    </tr>\n",
       "    <tr>\n",
       "      <th>Roscommon</th>\n",
       "      <td>0.225806</td>\n",
       "      <td>0.266327</td>\n",
       "      <td>0.413333</td>\n",
       "      <td>0.162350</td>\n",
       "    </tr>\n",
       "    <tr>\n",
       "      <th>Monaghan</th>\n",
       "      <td>0.193548</td>\n",
       "      <td>0.209616</td>\n",
       "      <td>0.387500</td>\n",
       "      <td>0.132825</td>\n",
       "    </tr>\n",
       "    <tr>\n",
       "      <th>Leitrim</th>\n",
       "      <td>0.193548</td>\n",
       "      <td>0.209394</td>\n",
       "      <td>0.373494</td>\n",
       "      <td>0.120198</td>\n",
       "    </tr>\n",
       "    <tr>\n",
       "      <th>Kildare</th>\n",
       "      <td>0.193548</td>\n",
       "      <td>0.234722</td>\n",
       "      <td>0.407895</td>\n",
       "      <td>0.116354</td>\n",
       "    </tr>\n",
       "    <tr>\n",
       "      <th>Galway</th>\n",
       "      <td>0.161290</td>\n",
       "      <td>0.205811</td>\n",
       "      <td>0.402597</td>\n",
       "      <td>0.113614</td>\n",
       "    </tr>\n",
       "    <tr>\n",
       "      <th>Louth</th>\n",
       "      <td>0.129032</td>\n",
       "      <td>0.128441</td>\n",
       "      <td>0.356322</td>\n",
       "      <td>0.082710</td>\n",
       "    </tr>\n",
       "    <tr>\n",
       "      <th>Tyrone</th>\n",
       "      <td>0.193548</td>\n",
       "      <td>0.142125</td>\n",
       "      <td>0.319588</td>\n",
       "      <td>0.065503</td>\n",
       "    </tr>\n",
       "    <tr>\n",
       "      <th>Cavan</th>\n",
       "      <td>0.193548</td>\n",
       "      <td>0.250965</td>\n",
       "      <td>0.387500</td>\n",
       "      <td>0.061483</td>\n",
       "    </tr>\n",
       "    <tr>\n",
       "      <th>Donegal</th>\n",
       "      <td>0.129032</td>\n",
       "      <td>0.111941</td>\n",
       "      <td>0.310000</td>\n",
       "      <td>0.046088</td>\n",
       "    </tr>\n",
       "    <tr>\n",
       "      <th>Laois</th>\n",
       "      <td>0.161290</td>\n",
       "      <td>0.217561</td>\n",
       "      <td>0.382716</td>\n",
       "      <td>0.043948</td>\n",
       "    </tr>\n",
       "    <tr>\n",
       "      <th>Clare</th>\n",
       "      <td>0.129032</td>\n",
       "      <td>0.119695</td>\n",
       "      <td>0.322917</td>\n",
       "      <td>0.042066</td>\n",
       "    </tr>\n",
       "    <tr>\n",
       "      <th>Westmeath</th>\n",
       "      <td>0.161290</td>\n",
       "      <td>0.250843</td>\n",
       "      <td>0.407895</td>\n",
       "      <td>0.037627</td>\n",
       "    </tr>\n",
       "    <tr>\n",
       "      <th>Fermanagh</th>\n",
       "      <td>0.161290</td>\n",
       "      <td>0.175578</td>\n",
       "      <td>0.340659</td>\n",
       "      <td>0.033258</td>\n",
       "    </tr>\n",
       "    <tr>\n",
       "      <th>Armagh</th>\n",
       "      <td>0.161290</td>\n",
       "      <td>0.116446</td>\n",
       "      <td>0.303922</td>\n",
       "      <td>0.030069</td>\n",
       "    </tr>\n",
       "    <tr>\n",
       "      <th>Wicklow</th>\n",
       "      <td>0.129032</td>\n",
       "      <td>0.118523</td>\n",
       "      <td>0.319588</td>\n",
       "      <td>0.026698</td>\n",
       "    </tr>\n",
       "    <tr>\n",
       "      <th>Carlow</th>\n",
       "      <td>0.161290</td>\n",
       "      <td>0.159956</td>\n",
       "      <td>0.333333</td>\n",
       "      <td>0.025321</td>\n",
       "    </tr>\n",
       "    <tr>\n",
       "      <th>Waterford</th>\n",
       "      <td>0.129032</td>\n",
       "      <td>0.120318</td>\n",
       "      <td>0.313131</td>\n",
       "      <td>0.022268</td>\n",
       "    </tr>\n",
       "    <tr>\n",
       "      <th>Dublin</th>\n",
       "      <td>0.096774</td>\n",
       "      <td>0.122151</td>\n",
       "      <td>0.348315</td>\n",
       "      <td>0.022107</td>\n",
       "    </tr>\n",
       "    <tr>\n",
       "      <th>Kilkenny</th>\n",
       "      <td>0.161290</td>\n",
       "      <td>0.164078</td>\n",
       "      <td>0.316327</td>\n",
       "      <td>0.021487</td>\n",
       "    </tr>\n",
       "    <tr>\n",
       "      <th>Cork</th>\n",
       "      <td>0.129032</td>\n",
       "      <td>0.103450</td>\n",
       "      <td>0.303922</td>\n",
       "      <td>0.018325</td>\n",
       "    </tr>\n",
       "    <tr>\n",
       "      <th>Wexford</th>\n",
       "      <td>0.129032</td>\n",
       "      <td>0.106951</td>\n",
       "      <td>0.284404</td>\n",
       "      <td>0.015783</td>\n",
       "    </tr>\n",
       "    <tr>\n",
       "      <th>Down</th>\n",
       "      <td>0.096774</td>\n",
       "      <td>0.060283</td>\n",
       "      <td>0.281818</td>\n",
       "      <td>0.010060</td>\n",
       "    </tr>\n",
       "    <tr>\n",
       "      <th>Limerick</th>\n",
       "      <td>0.129032</td>\n",
       "      <td>0.103351</td>\n",
       "      <td>0.298077</td>\n",
       "      <td>0.009236</td>\n",
       "    </tr>\n",
       "    <tr>\n",
       "      <th>Antrim</th>\n",
       "      <td>0.129032</td>\n",
       "      <td>0.072372</td>\n",
       "      <td>0.254098</td>\n",
       "      <td>0.008530</td>\n",
       "    </tr>\n",
       "    <tr>\n",
       "      <th>Sligo</th>\n",
       "      <td>0.096774</td>\n",
       "      <td>0.111462</td>\n",
       "      <td>0.326316</td>\n",
       "      <td>0.008005</td>\n",
       "    </tr>\n",
       "    <tr>\n",
       "      <th>Mayo</th>\n",
       "      <td>0.096774</td>\n",
       "      <td>0.110889</td>\n",
       "      <td>0.326316</td>\n",
       "      <td>0.007204</td>\n",
       "    </tr>\n",
       "    <tr>\n",
       "      <th>Derry</th>\n",
       "      <td>0.096774</td>\n",
       "      <td>0.062027</td>\n",
       "      <td>0.267241</td>\n",
       "      <td>0.006028</td>\n",
       "    </tr>\n",
       "    <tr>\n",
       "      <th>Longford</th>\n",
       "      <td>0.129032</td>\n",
       "      <td>0.185741</td>\n",
       "      <td>0.352273</td>\n",
       "      <td>0.004696</td>\n",
       "    </tr>\n",
       "    <tr>\n",
       "      <th>Kerry</th>\n",
       "      <td>0.096774</td>\n",
       "      <td>0.062037</td>\n",
       "      <td>0.258333</td>\n",
       "      <td>0.000717</td>\n",
       "    </tr>\n",
       "  </tbody>\n",
       "</table>\n",
       "</div>"
      ],
      "text/plain": [
       "                C^D       C^E       C^C       C^B\n",
       "Meath      0.225806  0.289622  0.455882  0.308805\n",
       "Offaly     0.225806  0.327506  0.469697  0.279330\n",
       "Tipperary  0.258065  0.258747  0.397436  0.222681\n",
       "Roscommon  0.225806  0.266327  0.413333  0.162350\n",
       "Monaghan   0.193548  0.209616  0.387500  0.132825\n",
       "Leitrim    0.193548  0.209394  0.373494  0.120198\n",
       "Kildare    0.193548  0.234722  0.407895  0.116354\n",
       "Galway     0.161290  0.205811  0.402597  0.113614\n",
       "Louth      0.129032  0.128441  0.356322  0.082710\n",
       "Tyrone     0.193548  0.142125  0.319588  0.065503\n",
       "Cavan      0.193548  0.250965  0.387500  0.061483\n",
       "Donegal    0.129032  0.111941  0.310000  0.046088\n",
       "Laois      0.161290  0.217561  0.382716  0.043948\n",
       "Clare      0.129032  0.119695  0.322917  0.042066\n",
       "Westmeath  0.161290  0.250843  0.407895  0.037627\n",
       "Fermanagh  0.161290  0.175578  0.340659  0.033258\n",
       "Armagh     0.161290  0.116446  0.303922  0.030069\n",
       "Wicklow    0.129032  0.118523  0.319588  0.026698\n",
       "Carlow     0.161290  0.159956  0.333333  0.025321\n",
       "Waterford  0.129032  0.120318  0.313131  0.022268\n",
       "Dublin     0.096774  0.122151  0.348315  0.022107\n",
       "Kilkenny   0.161290  0.164078  0.316327  0.021487\n",
       "Cork       0.129032  0.103450  0.303922  0.018325\n",
       "Wexford    0.129032  0.106951  0.284404  0.015783\n",
       "Down       0.096774  0.060283  0.281818  0.010060\n",
       "Limerick   0.129032  0.103351  0.298077  0.009236\n",
       "Antrim     0.129032  0.072372  0.254098  0.008530\n",
       "Sligo      0.096774  0.111462  0.326316  0.008005\n",
       "Mayo       0.096774  0.110889  0.326316  0.007204\n",
       "Derry      0.096774  0.062027  0.267241  0.006028\n",
       "Longford   0.129032  0.185741  0.352273  0.004696\n",
       "Kerry      0.096774  0.062037  0.258333  0.000717"
      ]
     },
     "execution_count": 61,
     "metadata": {},
     "output_type": "execute_result"
    }
   ],
   "source": [
    "pd.DataFrame.from_dict(\n",
    "    dict(I.nodes(data=True)), \n",
    "    orient='index'\n",
    ").sort_values('C^B', ascending=False)"
   ]
  },
  {
   "cell_type": "markdown",
   "metadata": {},
   "source": [
    "<span style=\"color:blue\">There's 3 counties of highest **betweenness centrality**: Roscommon, Offaly, Meath</span>"
   ]
  },
  {
   "cell_type": "markdown",
   "metadata": {},
   "source": [
    "<span style=\"color:red\">\n",
    "    \n",
    "## Notes\n",
    "\n",
    "The first question is hit or miss (5 each for order and size). \n",
    "\n",
    "10 marks for the analysis of the other centralities. 5 points for computing and 5 for displaying and commenting</span>"
   ]
  },
  {
   "cell_type": "markdown",
   "metadata": {},
   "source": [
    "## 3. Constructing examples. [30 marks, 10 each Q]\n"
   ]
  },
  {
   "cell_type": "markdown",
   "metadata": {},
   "source": [
    "## Tasks"
   ]
  },
  {
   "cell_type": "markdown",
   "metadata": {},
   "source": [
    "1. Give an example of a graph on 8 vertices all of which have degree centrality equal to 4. For such graph,  also compute the normalised eigenvector, closeness and betweenness centralities. What do you observe? \n",
    "\n",
    "1. Determine the normalised degree centrality of the nodes in some\n",
    "   random trees.  Is there some function of the degree centrality that is constant across your examples? Why?\n",
    "   \n",
    "1. Give an example of a graph on $n=6,7,8$ vertices which has a _unique_ node that is highest ranked with respect to normalised degree, closeness and betweenness centrality. Can you think of such an example for any $n$? "
   ]
  },
  {
   "cell_type": "markdown",
   "metadata": {},
   "source": [
    "## Q1"
   ]
  },
  {
   "cell_type": "code",
   "execution_count": 45,
   "metadata": {},
   "outputs": [
    {
     "name": "stdout",
     "output_type": "stream",
     "text": [
      "degrees =  [(0, 4), (1, 4), (2, 4), (3, 4), (4, 4), (5, 4), (6, 4), (7, 4)]\n",
      "eigenvector centrality =  {0: 0.35355339059327373, 1: 0.35355339059327373, 2: 0.35355339059327373, 3: 0.35355339059327373, 4: 0.35355339059327373, 5: 0.35355339059327373, 6: 0.35355339059327373, 7: 0.35355339059327373}\n",
      "closeness centrality =  {0: 0.7, 1: 0.7, 2: 0.7, 3: 0.7, 4: 0.7, 5: 0.7, 6: 0.7, 7: 0.7}\n",
      "betweenness centrality =  {0: 0.07142857142857142, 1: 0.07142857142857142, 2: 0.07142857142857142, 3: 0.07142857142857142, 4: 0.07142857142857142, 5: 0.07142857142857142, 6: 0.07142857142857142, 7: 0.07142857142857142}\n"
     ]
    }
   ],
   "source": [
    "G = nx.Graph()\n",
    "G.add_nodes_from(range(8))\n",
    "for i in range(8):\n",
    "    G.add_edges_from([(i,(i+1)%8),(i,(i+2)%8)])\n",
    "print('degrees = ',G.degree())\n",
    "print('eigenvector centrality = ', nx.eigenvector_centrality(G))\n",
    "print('closeness centrality = ', nx.closeness_centrality(G))\n",
    "print('betweenness centrality = ', nx.betweenness_centrality(G))"
   ]
  },
  {
   "cell_type": "markdown",
   "metadata": {},
   "source": [
    "<span style=\"color:blue\">This graph (which is a regular graph) also presents further symmetry since all nodes have the same eigenvector, closeness and betweenness centrality.</span>"
   ]
  },
  {
   "cell_type": "markdown",
   "metadata": {},
   "source": [
    "## Q2"
   ]
  },
  {
   "cell_type": "code",
   "execution_count": 49,
   "metadata": {},
   "outputs": [
    {
     "data": {
      "text/plain": [
       "2.0"
      ]
     },
     "execution_count": 49,
     "metadata": {},
     "output_type": "execute_result"
    }
   ],
   "source": [
    "T = nx.random_tree(10)\n",
    "D = nx.degree_centrality(T)\n",
    "sum(D[x] for x in D)"
   ]
  },
  {
   "cell_type": "code",
   "execution_count": 50,
   "metadata": {},
   "outputs": [
    {
     "data": {
      "text/plain": [
       "2.0"
      ]
     },
     "execution_count": 50,
     "metadata": {},
     "output_type": "execute_result"
    }
   ],
   "source": [
    "T = nx.random_tree(13)\n",
    "D = nx.degree_centrality(T)\n",
    "sum(D[x] for x in D)"
   ]
  },
  {
   "cell_type": "code",
   "execution_count": 52,
   "metadata": {},
   "outputs": [
    {
     "data": {
      "text/plain": [
       "2.0"
      ]
     },
     "execution_count": 52,
     "metadata": {},
     "output_type": "execute_result"
    }
   ],
   "source": [
    "T = nx.random_tree(18)\n",
    "D = nx.degree_centrality(T)\n",
    "sum(D[x] for x in D)"
   ]
  },
  {
   "cell_type": "markdown",
   "metadata": {},
   "source": [
    "<span style=\"color:blue\"> We can see that the sum of the normalised degree centrality is constant, equal to 2. The reason is that a tree on $n$ vertices has size $n-1$. Hence sum of the degrees is $2(n-1)$ and therefore the normalised degree centrality always sums up to $2$.</span>"
   ]
  },
  {
   "cell_type": "markdown",
   "metadata": {},
   "source": [
    "### Q3"
   ]
  },
  {
   "cell_type": "markdown",
   "metadata": {},
   "source": [
    "<span style=\"color:blue\"> A star graph on 6, 7, 8 (or $n$) vertices has one single vertex (the one of degree $n-1$) that has highest normalised degree (equal to 1), highest closeness and betweenness centralities (also equal to 1).</span>"
   ]
  },
  {
   "cell_type": "markdown",
   "metadata": {},
   "source": [
    "<span style=\"color:red\">\n",
    "\n",
    "### Notes\n",
    "    \n",
    "* In Q1 students might come up with a different graph on 8 vertices. Not all of them will have centrality measures that are all equal which is fine, as long as the comments are coherent. Students get full marks if they construct a graph on the correct number of vertices/edges, compute the other centrality measures, make a coherent comment. [5marks for the graph, 5 marks for computing the other centralities and comments]\n",
    "    \n",
    "* In Q2 the idea is that they observe that the fact that the number of edges is fixed has a consequence on the normalised degree centrality which is $\\frac{\\text{degree}}{n-1}$. \n",
    "    * If they only construct the trees and compute the centralities 2/10\n",
    "    * If they make other correct observations that aren't general they don't get full marks (maybe 4/10). \n",
    "    * If they do observe that the normalised degree centralities sum up to 2 but don't explain why, they get 7/10\n",
    "   \n",
    "\n",
    "* In Q3 half of the marks are for producing the examples for $n=6,7,8$, and the remaining half for giving the general example.</span>"
   ]
  },
  {
   "cell_type": "code",
   "execution_count": null,
   "metadata": {},
   "outputs": [],
   "source": []
  }
 ],
 "metadata": {
  "kernelspec": {
   "display_name": "Python 3 (ipykernel)",
   "language": "python",
   "name": "python3"
  },
  "language_info": {
   "codemirror_mode": {
    "name": "ipython",
    "version": 3
   },
   "file_extension": ".py",
   "mimetype": "text/x-python",
   "name": "python",
   "nbconvert_exporter": "python",
   "pygments_lexer": "ipython3",
   "version": "3.9.7"
  }
 },
 "nbformat": 4,
 "nbformat_minor": 2
}
