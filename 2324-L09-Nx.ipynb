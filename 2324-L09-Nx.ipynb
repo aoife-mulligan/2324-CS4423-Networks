{
 "cells": [
  {
   "cell_type": "markdown",
   "metadata": {
    "slideshow": {
     "slide_type": "skip"
    }
   },
   "source": [
    "### CS4423 - Networks\n",
    "Angela Carnevale  \n",
    "School of Mathematical and Statistical Sciences  \n",
    "University of Galway"
   ]
  },
  {
   "cell_type": "markdown",
   "metadata": {
    "slideshow": {
     "slide_type": "slide"
    }
   },
   "source": [
    "#### 3. Centrality Measures\n",
    "\n",
    "# Week 5, lecture 1: Degree and Eigenvector Centrality"
   ]
  },
  {
   "cell_type": "markdown",
   "metadata": {
    "slideshow": {
     "slide_type": "subslide"
    }
   },
   "source": [
    "#### What is that makes a node in a network important?"
   ]
  },
  {
   "cell_type": "markdown",
   "metadata": {
    "slideshow": {
     "slide_type": "fragment"
    }
   },
   "source": [
    "Key actors in a social network can be identified through **centrality measures**. The question of what it means to be central has a number of different answers. Accordingly, in the context of social network analysis, a variety of different centrality measures have been developed."
   ]
  },
  {
   "cell_type": "markdown",
   "metadata": {
    "slideshow": {
     "slide_type": "subslide"
    }
   },
   "source": [
    "Here we introduce, in addition to the **degree centrality** that we have already seen, three further measures:"
   ]
  },
  {
   "cell_type": "markdown",
   "metadata": {
    "slideshow": {
     "slide_type": "subslide"
    }
   },
   "source": [
    "* **eigenvector centrality**, defined in terms of properties of the network’s **adjacency matrix**,"
   ]
  },
  {
   "cell_type": "markdown",
   "metadata": {
    "slideshow": {
     "slide_type": "fragment"
    }
   },
   "source": [
    "* **closeness centrality**, defined in terms of a nodes **distance** to other nodes on the network,"
   ]
  },
  {
   "cell_type": "markdown",
   "metadata": {
    "slideshow": {
     "slide_type": "fragment"
    }
   },
   "source": [
    "* **betweenness centrality**, defined in terms of **shortest paths**."
   ]
  },
  {
   "cell_type": "markdown",
   "metadata": {
    "slideshow": {
     "slide_type": "subslide"
    }
   },
   "source": [
    "### Degree Centrality\n",
    "\n",
    "The **degree** of a node is its number of neighbors in the graph.\n",
    "This number can serve as a simple measure of centrality."
   ]
  },
  {
   "cell_type": "markdown",
   "metadata": {
    "slideshow": {
     "slide_type": "subslide"
    }
   },
   "source": [
    "<b>Definition (Degree Centrality).</b>\n",
    "In a (simple) graph $G = (X, E)$, with $X = \\{0, \\dots, n-1\\}$ and \n",
    "adjacency matrix $A = (a_{ij})$,\n",
    "\n",
    "* the <b>degree centrality</b> $c_i^D$ of node $i \\in X$ is defined as\n",
    "$$\n",
    "c_i^D = k_i = \\sum_j a_{ij},\n",
    "$$\n",
    "where $k_i$ is the degree of node $i$."
   ]
  },
  {
   "cell_type": "markdown",
   "metadata": {
    "slideshow": {
     "slide_type": "subslide"
    }
   },
   "source": [
    "However, the use of the raw degree can be misleading, since it depends--among other things--on the order of the graph. \n",
    "\n",
    "A better measure is then the following."
   ]
  },
  {
   "cell_type": "markdown",
   "metadata": {
    "slideshow": {
     "slide_type": "subslide"
    }
   },
   "source": [
    "**Definition (Normalized Degree Centrality)**.\n",
    "\n",
    "* The <b>normalized degree centrality</b> $C_i^D$ of node $i \\in X$ is defined as\n",
    "$$\n",
    "C_i^D = \\frac{k_i}{n-1} = \\frac{c_i^D}{n-1} \\, \\left( = \\frac{\\text{degree centrality of node } i}{\\text{number of potential neighbors of }i}\\right).$$"
   ]
  },
  {
   "cell_type": "markdown",
   "metadata": {
    "slideshow": {
     "slide_type": "subslide"
    }
   },
   "source": [
    "**Note.** In a directed graph one distinguishes between the **in-degree** and the **out-degree**\n",
    "of a node and defines the **in-degree centrality** and the **out-degree centrality** accordingly. "
   ]
  },
  {
   "cell_type": "markdown",
   "metadata": {
    "slideshow": {
     "slide_type": "slide"
    }
   },
   "source": [
    "### Eigenvectors and Centrality\n",
    "\n",
    "Recall from **Linear Algebra** that a ($n$-dimensional) vector $v$ is called an **eigenvector**\n",
    "of a square $n \\times n$-matrix $A$, if \n",
    "$$\n",
    " A v = \\lambda v\n",
    "$$\n",
    "for some scalar (number) $\\lambda$. In this case, $\\lambda$ is  called an **eigenvalue** of the matrix $A$."
   ]
  },
  {
   "cell_type": "markdown",
   "metadata": {
    "slideshow": {
     "slide_type": "subslide"
    }
   },
   "source": [
    "The basic idea of eigenvector centrality is that **a node's ranking in a network should\n",
    "relate to the rankings of the nodes it is connected to**.  More specifically, up to some scalar $\\lambda$,\n",
    "the centrality $c_i^E$ of node $i$ should be equal to the sum of the centralities $c_j^E$ of its \n",
    "neighbor nodes $j$.  In terms of the adjacency matrix $A = (a_{ij})$, this relationship is expressed as\n",
    "$$\n",
    "\\lambda c_i^E = \\sum_j a_{ij} c_j^E,\n",
    "$$\n",
    "which in turn, in matrix language is\n",
    "$$\n",
    "\\lambda c^E = A c^E,\n",
    "$$\n",
    "for the vector $c^E = (c_i^E)$, which then is an eigenvector of $A$."
   ]
  },
  {
   "cell_type": "markdown",
   "metadata": {
    "slideshow": {
     "slide_type": "subslide"
    }
   },
   "source": [
    "How to find $c^E$? Or $\\lambda$?  Linear Algebra: \n",
    "1. Find the *characteristic polynomial* $p_A(x)$ of $A$\n",
    "(as *determinant* of the matrix $x I - A$, where $I$ is the $n \\times n$-identity matrix);\n",
    "2. Find the *roots* $\\lambda$ of $p_A(x)$ \n",
    "(i.e. scalars $\\lambda$ such that $p_A(\\lambda) = 0$);\n",
    "3. Find a *nontrivial solution* of the linear system\n",
    "$(\\lambda I - A)c = 0$ (where $0$ stands for an all-$0$ column vector,\n",
    "and $c = (c_1, \\dots, c_n)$ is a column of *unknowns*)."
   ]
  },
  {
   "cell_type": "markdown",
   "metadata": {
    "slideshow": {
     "slide_type": "subslide"
    }
   },
   "source": [
    "**Note.** The eigenvalues of a (real) square matrix might not be real numbers. Here, the fact that the adjacency matrix of an undirected graph is **symmetric** ensures that all its eigenvalues are real."
   ]
  },
  {
   "cell_type": "markdown",
   "metadata": {
    "slideshow": {
     "slide_type": "subslide"
    }
   },
   "source": [
    "In `numpy`, the function `poly` finds the characteristic polynomial of a matrix, for example of the $2\\times2$ matrix\n",
    "$$\n",
    "B = \\left(\n",
    "\\begin{array}{cc}\n",
    "  2 & 2 \\\\\n",
    "  3 & 1\n",
    "\\end{array}\n",
    "\\right)\n",
    "$$"
   ]
  },
  {
   "cell_type": "code",
   "execution_count": null,
   "metadata": {
    "slideshow": {
     "slide_type": "fragment"
    }
   },
   "outputs": [],
   "source": [
    "import numpy as np\n",
    "B = np.array([[2,2],[3,1]])\n",
    "poly = np.poly(B)"
   ]
  },
  {
   "cell_type": "code",
   "execution_count": null,
   "metadata": {
    "slideshow": {
     "slide_type": "subslide"
    }
   },
   "outputs": [],
   "source": [
    "print(poly)"
   ]
  },
  {
   "cell_type": "markdown",
   "metadata": {
    "slideshow": {
     "slide_type": "fragment"
    }
   },
   "source": [
    "Thus $p_B(x) = x^2 - 3x - 4$."
   ]
  },
  {
   "cell_type": "markdown",
   "metadata": {
    "slideshow": {
     "slide_type": "subslide"
    }
   },
   "source": [
    "The eigenvalues and eigenvectors of $B$ are found by `np.linalg.eig`:"
   ]
  },
  {
   "cell_type": "code",
   "execution_count": null,
   "metadata": {
    "slideshow": {
     "slide_type": "fragment"
    }
   },
   "outputs": [],
   "source": [
    "l, v = np.linalg.eig(B)\n",
    "vv = v.transpose()"
   ]
  },
  {
   "cell_type": "markdown",
   "metadata": {
    "slideshow": {
     "slide_type": "subslide"
    }
   },
   "source": [
    "2 Eigenvalues:"
   ]
  },
  {
   "cell_type": "code",
   "execution_count": null,
   "metadata": {
    "slideshow": {
     "slide_type": "fragment"
    }
   },
   "outputs": [],
   "source": [
    "print(l); "
   ]
  },
  {
   "cell_type": "markdown",
   "metadata": {
    "slideshow": {
     "slide_type": "subslide"
    }
   },
   "source": [
    "and 2 eigenvectors (the rows of this matrix):"
   ]
  },
  {
   "cell_type": "code",
   "execution_count": null,
   "metadata": {
    "slideshow": {
     "slide_type": "fragment"
    }
   },
   "outputs": [],
   "source": [
    "print (vv);"
   ]
  },
  {
   "cell_type": "markdown",
   "metadata": {
    "slideshow": {
     "slide_type": "subslide"
    }
   },
   "source": [
    "Check: does $B \\cdot v_0 = l_0\\, v_0$?"
   ]
  },
  {
   "cell_type": "code",
   "execution_count": null,
   "metadata": {
    "slideshow": {
     "slide_type": "fragment"
    }
   },
   "outputs": [],
   "source": [
    "print(l[0]*vv[0])"
   ]
  },
  {
   "cell_type": "code",
   "execution_count": null,
   "metadata": {
    "slideshow": {
     "slide_type": "fragment"
    }
   },
   "outputs": [],
   "source": [
    "print(np.matmul(B, vv[0]))"
   ]
  },
  {
   "cell_type": "markdown",
   "metadata": {
    "slideshow": {
     "slide_type": "subslide"
    }
   },
   "source": [
    "But remember: we will want to work with large graphs (and hence large matrices). We'll soon want to work with the following matrix:"
   ]
  },
  {
   "cell_type": "code",
   "execution_count": null,
   "metadata": {
    "slideshow": {
     "slide_type": "fragment"
    }
   },
   "outputs": [],
   "source": [
    "import networkx as nx\n",
    "import numpy as np\n",
    "G = nx.florentine_families_graph()\n",
    "A = nx.adjacency_matrix(G)\n",
    "A = A.toarray()\n",
    "print(A)"
   ]
  },
  {
   "cell_type": "markdown",
   "metadata": {
    "slideshow": {
     "slide_type": "subslide"
    }
   },
   "source": [
    "Find its characteristic polynomial ..."
   ]
  },
  {
   "cell_type": "code",
   "execution_count": null,
   "metadata": {
    "slideshow": {
     "slide_type": "fragment"
    }
   },
   "outputs": [],
   "source": [
    "np.poly(A)"
   ]
  },
  {
   "cell_type": "markdown",
   "metadata": {
    "slideshow": {
     "slide_type": "subslide"
    }
   },
   "source": [
    "... and its eigenvalues ...???"
   ]
  },
  {
   "cell_type": "markdown",
   "metadata": {
    "slideshow": {
     "slide_type": "subslide"
    }
   },
   "source": [
    "**Numerical Linerar Algebra:**  forget algebraic precision, use the **[Power method](https://en.wikipedia.org/wiki/Power_iteration)**:\n",
    "\n",
    "1. start with $u = (1, 1, \\dots, 1)$, say;\n",
    "2. keep replacing $u \\gets Au$ until $u/\\|u\\|$ becomes stable ...\n",
    "\n",
    "**Problem.** Does the sequence actually converge?"
   ]
  },
  {
   "cell_type": "markdown",
   "metadata": {
    "slideshow": {
     "slide_type": "subslide"
    }
   },
   "source": [
    "An eigenvalue of a matrix $A$ is *dominant* if its absolute value is larger than the absolute value of any other eigenvalue of $A$. "
   ]
  },
  {
   "cell_type": "markdown",
   "metadata": {
    "slideshow": {
     "slide_type": "subslide"
    }
   },
   "source": [
    "**Fact.** If $A$ has a dominant eigenvalue $\\lambda_0$ then $u$ will *converge*\n",
    "to an eigenvector for the eigenvalue $\\lambda_0$.\n",
    "\n",
    "An implementation of this for the adjacency matrix just seen can be found in an appendix of this notebook. Today, we'll exploit the methods that `networkx` offers us. \n",
    "\n",
    "They are based on the following."
   ]
  },
  {
   "cell_type": "markdown",
   "metadata": {
    "slideshow": {
     "slide_type": "subslide"
    }
   },
   "source": [
    "* Ideally, for an eigenvector to be a _reasonable_ centrality measure, we would like its components to be positive. \n",
    "\n",
    "* Also, we'd like for the eigenvalue to be positive, and for the choice of eigenvalue/eigenvector to be somewhat canonical. \n",
    "\n",
    "* Luckily, the following result, which provides the theoretical foundation for this approach, solves all these problems."
   ]
  },
  {
   "cell_type": "markdown",
   "metadata": {
    "slideshow": {
     "slide_type": "subslide"
    }
   },
   "source": [
    "<b>Theorem.</b> [[Perron-Frobenius for irreducible matrices. 1907/1912]](https://en.wikipedia.org/wiki/Perron%E2%80%93Frobenius_theorem)\n",
    "Suppose that $A$ is a square, nonnegative (entry-wise), **irreducible** matrix. Then:\n",
    "\n",
    "* $A$ has a real eigenvalue $\\lambda > 0$ with $\\lambda \\geq |\\lambda'|$ for all\n",
    "eigenvalues $\\lambda'$ of $A$;\n",
    "* $\\lambda$ is a simple root of the characteristic polynomial of $A$;\n",
    "* there is a $\\lambda$-eigenvector $v$ with $v > 0$.\n"
   ]
  },
  {
   "cell_type": "markdown",
   "metadata": {
    "slideshow": {
     "slide_type": "subslide"
    }
   },
   "source": [
    "Here, a matrix $A$ is called **reducible** if, for some simultaneous\n",
    "permutation of its rows and columns, it has the block form\n",
    "$$\n",
    "A = \\left( \n",
    "\\begin{array}{cc}\n",
    "A_{11} & A_{12} \\\\\n",
    "0 & A_{22}\n",
    "\\end{array}\n",
    "\\right).\n",
    "$$\n",
    "And $A$ is **irreducible** if it is not reducible.\n",
    "\n",
    "**Useful fact.** The adjacency matrix of a simple graph $G$ is irreducible if and only if $G$ is connected."
   ]
  },
  {
   "cell_type": "markdown",
   "metadata": {
    "slideshow": {
     "slide_type": "subslide"
    }
   },
   "source": [
    "**Example.** Recall that\n",
    "$$\n",
    "\\left(\\begin{array}{cc}\n",
    "3 & 1 \\\\ 2 & 2\\end{array}\n",
    "\\right)\n",
    "\\, \n",
    "\\left(\\begin{array}{c} 1 \\\\ 1 \\end{array} \\right) = \n",
    "\\left(\\begin{array}{c}4 \\\\ 4\\end{array}\\right)=4 \\,\n",
    "\\left(\n",
    "\\begin{array}{c}\n",
    "1 \\\\ 1\n",
    "\\end{array}\n",
    "\\right),\n",
    "$$\n",
    "making the vector $(^1_1)$ an **eigenvector** for the **eigenvalue**\n",
    "$\\lambda = 4$ of the matrix $A$. "
   ]
  },
  {
   "cell_type": "markdown",
   "metadata": {
    "slideshow": {
     "slide_type": "subslide"
    }
   },
   "source": [
    "In this example\n",
    "* all entries $a_{ij}$ of  the matrix $A = (a_{ij})$ are positive;\n",
    "* the eigenvalue $4$ is strictly larger than the magnitude $|\\lambda'|$ of all the other (complex or real) eigenvalues of\n",
    "$A$ (here, $\\lambda' = -1$);\n",
    "* and the eigenvalue $\\lambda = 4$ has an eigenvector with\n",
    "all its entries positive.\n",
    "\n",
    "    \n",
    "The Perron-Frobenius Theorem states that the above observations are **no\n",
    "coincidence**."
   ]
  },
  {
   "cell_type": "markdown",
   "metadata": {
    "slideshow": {
     "slide_type": "subslide"
    }
   },
   "source": [
    "**Definition (Eigenvector centrality).**  In a simple, connected graph $G$,\n",
    "the **eigenvector centrality** $c_i^E$ of node $i$ is defined as\n",
    "$$\n",
    "c_i^E = u_i,\n",
    "$$\n",
    "where $u = (u_1, \\dots, u_n)$ is the (unique) normalized eigenvector\n",
    "of the adjacency matrix $A$ of $G$\n",
    "with eigenvalue $\\lambda$, and where $\\lambda > |\\lambda'|$\n",
    "for all eigenvalues $\\lambda'$ of $A$."
   ]
  },
  {
   "cell_type": "markdown",
   "metadata": {
    "slideshow": {
     "slide_type": "subslide"
    }
   },
   "source": [
    "The **normalised eigenvector centrality** of node $i$ is defined as\n",
    "$$\n",
    "C_i^E = \\frac{c_i^E}{C^E},\n",
    "$$\n",
    "where $C^E = \\sum_j c_j^E$."
   ]
  },
  {
   "cell_type": "markdown",
   "metadata": {
    "slideshow": {
     "slide_type": "slide"
    }
   },
   "source": [
    "## Implementation and an example"
   ]
  },
  {
   "cell_type": "markdown",
   "metadata": {
    "slideshow": {
     "slide_type": "fragment"
    }
   },
   "source": [
    "We'll look at a recurring example while discussing the various centrality measures. Consider the following historical network of **florentine families** (from the 13th and 14th centuries), \n",
    "linked by **marital ties**."
   ]
  },
  {
   "cell_type": "markdown",
   "metadata": {
    "slideshow": {
     "slide_type": "subslide"
    }
   },
   "source": [
    "Start by importing the necessary\n",
    "`python` libraries into this jupyter notebook. In the following, we will make explicit use of `Pandas`, `numpy` and `yaml`."
   ]
  },
  {
   "cell_type": "code",
   "execution_count": null,
   "metadata": {
    "slideshow": {
     "slide_type": "subslide"
    }
   },
   "outputs": [],
   "source": [
    "import networkx as nx\n",
    "import numpy as np\n",
    "import pandas as pd\n",
    "import yaml\n",
    "opts = { \"with_labels\": True, \"node_color\": 'y'}"
   ]
  },
  {
   "cell_type": "code",
   "execution_count": null,
   "metadata": {
    "slideshow": {
     "slide_type": "fragment"
    }
   },
   "outputs": [],
   "source": [
    "G = nx.florentine_families_graph()\n",
    "list(G.nodes())"
   ]
  },
  {
   "cell_type": "markdown",
   "metadata": {
    "slideshow": {
     "slide_type": "subslide"
    }
   },
   "source": [
    "**Note.** This version of the graph misses the isolated (=degree 0) node `'Pucci'` of the original graph [cf. Latora et al, Chapter 2]. We'll add it by hand. "
   ]
  },
  {
   "cell_type": "code",
   "execution_count": null,
   "metadata": {
    "slideshow": {
     "slide_type": "fragment"
    }
   },
   "outputs": [],
   "source": [
    "G.add_node('Pucci')"
   ]
  },
  {
   "cell_type": "code",
   "execution_count": null,
   "metadata": {
    "slideshow": {
     "slide_type": "subslide"
    }
   },
   "outputs": [],
   "source": [
    "nx.draw(G, **opts)"
   ]
  },
  {
   "cell_type": "markdown",
   "metadata": {
    "slideshow": {
     "slide_type": "subslide"
    }
   },
   "source": [
    "A reason to look at this example is that in this context, we have further known indicators of the importance of these families (nodes) that we can compare with the node degree (and other centrality measures) in the graph `G`. These were the **wealth**, and the number of seats\n",
    "on the city council (**priorates**) of each family."
   ]
  },
  {
   "cell_type": "code",
   "execution_count": null,
   "metadata": {
    "slideshow": {
     "slide_type": "subslide"
    }
   },
   "outputs": [],
   "source": [
    "# this dictionary contains data on wealth\n",
    "\n",
    "wealth = {\n",
    "  'Acciaiuoli': 10, 'Albizzi': 36, 'Barbadori': 55, 'Bischeri': 44,\n",
    "  'Castellani': 20, 'Ginori': 32, 'Guadagni': 8, 'Lamberteschi': 42,\n",
    "  'Medici': 103, 'Pazzi': 48, 'Peruzzi': 49, 'Pucci': 3,\n",
    "  'Ridolfi': 27, 'Salviati': 10, 'Strozzi': 146, 'Tornabuoni': 48,\n",
    "}\n",
    "\n",
    "# this dictionary contains data on political influence\n",
    "\n",
    "priorates = {\n",
    "  'Acciaiuoli': 53, 'Albizzi': 65, 'Barbadori': 'n/a', 'Bischeri': 12,\n",
    "  'Castellani': 22, 'Ginori': 'n/a', 'Guadagni': 21, 'Lamberteschi': 0,\n",
    "  'Medici': 53, 'Pazzi': 'n/a', 'Peruzzi': 42, 'Pucci': 0,\n",
    "  'Ridolfi': 38, 'Salviati': 35, 'Strozzi': 74, 'Tornabuoni': 'n/a',\n",
    "}"
   ]
  },
  {
   "cell_type": "code",
   "execution_count": null,
   "metadata": {
    "slideshow": {
     "slide_type": "subslide"
    }
   },
   "outputs": [],
   "source": [
    "nx.set_node_attributes(G, wealth, 'wealth')\n",
    "nx.set_node_attributes(G, priorates, 'priorates')\n",
    "nx.set_node_attributes(G, dict(G.degree()), 'degree')"
   ]
  },
  {
   "cell_type": "code",
   "execution_count": null,
   "metadata": {
    "slideshow": {
     "slide_type": "subslide"
    }
   },
   "outputs": [],
   "source": [
    "print(dict(G.degree()))"
   ]
  },
  {
   "cell_type": "code",
   "execution_count": null,
   "metadata": {
    "slideshow": {
     "slide_type": "fragment"
    }
   },
   "outputs": [],
   "source": [
    "G.nodes['Pazzi']"
   ]
  },
  {
   "cell_type": "code",
   "execution_count": null,
   "metadata": {
    "slideshow": {
     "slide_type": "subslide"
    }
   },
   "outputs": [],
   "source": [
    "dict(G.nodes(data=True))"
   ]
  },
  {
   "cell_type": "code",
   "execution_count": null,
   "metadata": {
    "slideshow": {
     "slide_type": "subslide"
    }
   },
   "outputs": [],
   "source": [
    "pd.DataFrame.from_dict(\n",
    "    dict(G.nodes(data=True)), \n",
    "    orient='index'\n",
    ").sort_values('degree', ascending=False)"
   ]
  },
  {
   "cell_type": "code",
   "execution_count": null,
   "metadata": {
    "slideshow": {
     "slide_type": "subslide"
    }
   },
   "outputs": [],
   "source": [
    "nx.set_node_attributes(G, nx.degree_centrality(G), '$C_i^D$')"
   ]
  },
  {
   "cell_type": "code",
   "execution_count": null,
   "metadata": {},
   "outputs": [],
   "source": [
    "pd.DataFrame.from_dict(\n",
    "    dict(G.nodes(data=True)), \n",
    "    orient='index'\n",
    ").sort_values('degree', ascending=False)"
   ]
  },
  {
   "cell_type": "markdown",
   "metadata": {
    "slideshow": {
     "slide_type": "subslide"
    }
   },
   "source": [
    "* As the table shows, a high degree is often positively correlated with the other empirical indices of importance (wealth, political influence). \n",
    "* However, there are exceptions to that (e.g. the Guadagni family).\n",
    "* This tells us that other centrality measures might be better suited in order to capture the importance of a node in a network (also depending on the nature of the network itself).\n",
    "\n"
   ]
  },
  {
   "cell_type": "markdown",
   "metadata": {},
   "source": [
    "### Eigenvector centrality"
   ]
  },
  {
   "cell_type": "markdown",
   "metadata": {
    "slideshow": {
     "slide_type": "subslide"
    }
   },
   "source": [
    "As we need an irreducible matrix, we will remove the node `'Pucci'` before computing the eigenvector centrality."
   ]
  },
  {
   "cell_type": "code",
   "execution_count": null,
   "metadata": {},
   "outputs": [],
   "source": [
    "G.remove_node('Pucci')"
   ]
  },
  {
   "cell_type": "markdown",
   "metadata": {
    "slideshow": {
     "slide_type": "subslide"
    }
   },
   "source": [
    "The `networkx` package computes the eigenvector centraility of the nodes of a graph as follows:"
   ]
  },
  {
   "cell_type": "code",
   "execution_count": null,
   "metadata": {
    "slideshow": {
     "slide_type": "fragment"
    }
   },
   "outputs": [],
   "source": [
    "eigen_cen = nx.eigenvector_centrality(G)\n",
    "eigen_cen"
   ]
  },
  {
   "cell_type": "markdown",
   "metadata": {
    "slideshow": {
     "slide_type": "subslide"
    }
   },
   "source": [
    "Let's attach the eigenvector centralities as node attributes\n",
    "and display the resulting table. "
   ]
  },
  {
   "cell_type": "code",
   "execution_count": null,
   "metadata": {
    "slideshow": {
     "slide_type": "fragment"
    }
   },
   "outputs": [],
   "source": [
    "eigen_cen = nx.eigenvector_centrality(G)\n",
    "nx.set_node_attributes(G, eigen_cen, '$C_i^E$')"
   ]
  },
  {
   "cell_type": "code",
   "execution_count": null,
   "metadata": {
    "slideshow": {
     "slide_type": "subslide"
    }
   },
   "outputs": [],
   "source": [
    "pd.DataFrame.from_dict(\n",
    "    dict(G.nodes(data=True)), \n",
    "    orient='index'\n",
    ").sort_values('degree', ascending=False)"
   ]
  },
  {
   "cell_type": "markdown",
   "metadata": {
    "slideshow": {
     "slide_type": "subslide"
    }
   },
   "source": [
    "Save the graph and its attributes for future use."
   ]
  },
  {
   "cell_type": "code",
   "execution_count": null,
   "metadata": {},
   "outputs": [],
   "source": [
    "with open('data/florentine.yml','w') as f:\n",
    "    yaml.dump(G,f)"
   ]
  },
  {
   "cell_type": "markdown",
   "metadata": {
    "slideshow": {
     "slide_type": "slide"
    }
   },
   "source": [
    "## Appendix: numerical methods in `python` to find eigenvalues."
   ]
  },
  {
   "cell_type": "markdown",
   "metadata": {
    "slideshow": {
     "slide_type": "subslide"
    }
   },
   "source": [
    "Restore the matrix $A$ (adjacency matrix of the florentine families graph):"
   ]
  },
  {
   "cell_type": "code",
   "execution_count": null,
   "metadata": {},
   "outputs": [],
   "source": [
    "A = nx.adjacency_matrix(G)"
   ]
  },
  {
   "cell_type": "markdown",
   "metadata": {
    "slideshow": {
     "slide_type": "subslide"
    }
   },
   "source": [
    "Provide an all-$1$ vector $u$ and normalize it:"
   ]
  },
  {
   "cell_type": "code",
   "execution_count": null,
   "metadata": {},
   "outputs": [],
   "source": [
    "u = [1 for x in A]\n",
    "print(u)\n",
    "print(u/np.linalg.norm(u))"
   ]
  },
  {
   "cell_type": "markdown",
   "metadata": {
    "slideshow": {
     "slide_type": "subslide"
    }
   },
   "source": [
    "Multiply by $A$:"
   ]
  },
  {
   "cell_type": "code",
   "execution_count": null,
   "metadata": {
    "scrolled": true
   },
   "outputs": [],
   "source": [
    "v = A * u\n",
    "print(v)\n",
    "print(v/np.linalg.norm(v))"
   ]
  },
  {
   "cell_type": "markdown",
   "metadata": {
    "slideshow": {
     "slide_type": "subslide"
    }
   },
   "source": [
    "Repeat this a couple of times."
   ]
  },
  {
   "cell_type": "code",
   "execution_count": null,
   "metadata": {},
   "outputs": [],
   "source": [
    "for i in range(40):\n",
    "    u = A * u\n",
    "    u = u/np.linalg.norm(u)"
   ]
  },
  {
   "cell_type": "markdown",
   "metadata": {
    "slideshow": {
     "slide_type": "subslide"
    }
   },
   "source": [
    "Now, $u$ should have stabilized and a further multiplication by $A$ should be the same as multiplying $u$ with the eigenvalue $l$: $Au = lu$."
   ]
  },
  {
   "cell_type": "code",
   "execution_count": null,
   "metadata": {},
   "outputs": [],
   "source": [
    "print(\"u = \", u)\n",
    "v = A * u\n",
    "v = v/np.linalg.norm(v)\n",
    "print(\"v = \", v)"
   ]
  },
  {
   "cell_type": "markdown",
   "metadata": {
    "slideshow": {
     "slide_type": "subslide"
    }
   },
   "source": [
    "The stability of $u$ can be tested by computing the\n",
    "norm of the difference of $u$ and $v$."
   ]
  },
  {
   "cell_type": "code",
   "execution_count": null,
   "metadata": {},
   "outputs": [],
   "source": [
    "v = v/np.linalg.norm(v)\n",
    "print(\"||v - u|| = \", np.linalg.norm(v - u))\n"
   ]
  },
  {
   "cell_type": "markdown",
   "metadata": {
    "slideshow": {
     "slide_type": "subslide"
    }
   },
   "source": [
    "So $l$ can be found as the quotient of two corresponding vector\n",
    "entries"
   ]
  },
  {
   "cell_type": "code",
   "execution_count": null,
   "metadata": {},
   "outputs": [],
   "source": [
    "v = A * u\n",
    "l = v[2]/u[2]\n",
    "print(\"l = \", l)"
   ]
  },
  {
   "cell_type": "markdown",
   "metadata": {
    "slideshow": {
     "slide_type": "subslide"
    }
   },
   "source": [
    "The function `np.linalg.eig` does all of this and more.\n",
    "It finds **all** eigenvalues of the adjaceny matrix $A$,\n",
    "and a list `w` of eigenvectors.\n",
    "\n",
    "The first eigenvalue in the list `l` below should be the one\n",
    "that the power method discovered.\n",
    "\n",
    "The entries in the corresponding eigenvector\n",
    "are then the eigenvector centralities of the nodes in the graph."
   ]
  },
  {
   "cell_type": "code",
   "execution_count": null,
   "metadata": {},
   "outputs": [],
   "source": [
    "l, w = np.linalg.eig(A.toarray())\n",
    "print(l)\n",
    "print(w[:,0])"
   ]
  },
  {
   "cell_type": "markdown",
   "metadata": {
    "slideshow": {
     "slide_type": "slide"
    }
   },
   "source": [
    "## Code Corner"
   ]
  },
  {
   "cell_type": "markdown",
   "metadata": {
    "slideshow": {
     "slide_type": "subslide"
    }
   },
   "source": [
    "### `numpy`"
   ]
  },
  {
   "cell_type": "markdown",
   "metadata": {
    "slideshow": {
     "slide_type": "-"
    }
   },
   "source": [
    "* `array`: [[doc]](https://numpy.org/doc/stable/reference/routines.array-creation.html)  `numpy` array creation\n",
    "\n",
    "\n",
    "* `poly`: [[doc]](https://numpy.org/doc/stable/reference/generated/numpy.poly.html)\n",
    "\n",
    "\n",
    "* `matmul`: [[doc]](https://numpy.org/doc/stable/reference/generated/numpy.matmul.html)\n",
    "\n",
    "\n",
    "* `linalg.eig`: [[doc]](https://numpy.org/doc/stable/reference/generated/numpy.linalg.eig.html)\n",
    "\n",
    "\n",
    "* `linalg.norm`: [[doc]](https://numpy.org/doc/stable/reference/generated/numpy.linalg.norm.html)"
   ]
  },
  {
   "cell_type": "markdown",
   "metadata": {
    "slideshow": {
     "slide_type": "subslide"
    }
   },
   "source": [
    "### `pandas`"
   ]
  },
  {
   "cell_type": "markdown",
   "metadata": {},
   "source": [
    "* `DataFrame.from_dict`: [[doc]](https://pandas.pydata.org/pandas-docs/stable/reference/api/pandas.DataFrame.from_dict.html)"
   ]
  },
  {
   "cell_type": "markdown",
   "metadata": {
    "slideshow": {
     "slide_type": "subslide"
    }
   },
   "source": [
    "### `networkx`"
   ]
  },
  {
   "cell_type": "markdown",
   "metadata": {},
   "source": [
    "* `florentine_families_graph`: [[doc]](https://networkx.github.io/documentation/stable/reference/generators.html#module-networkx.generators.social)\n",
    "the marital links between powerful families in 14th century Florence\n",
    "(excluding the isolated Pucci family).\n",
    "\n",
    "\n",
    "* `set_node_attributes`: [[doc]](https://networkx.github.io/documentation/stable/reference/generated/networkx.classes.function.set_node_attributes.html)\n",
    "set a named attribute for several/all nodes in a graph.\n",
    "\n",
    "\n",
    "* `degree_centrality`: [[doc]](https://networkx.github.io/documentation/stable/reference/algorithms/generated/networkx.algorithms.centrality.degree_centrality.html)\n",
    "\n",
    "\n",
    "\n",
    "* `eigenvector_centrality`: [[doc]](https://networkx.github.io/documentation/stable/reference/algorithms/generated/networkx.algorithms.centrality.eigenvector_centrality.html)"
   ]
  },
  {
   "cell_type": "markdown",
   "metadata": {
    "slideshow": {
     "slide_type": "subslide"
    }
   },
   "source": [
    "### `yaml`"
   ]
  },
  {
   "cell_type": "markdown",
   "metadata": {},
   "source": [
    "* `dump`: [[doc]](https://yaml.readthedocs.io/en/latest/dumpcls.html)"
   ]
  },
  {
   "cell_type": "markdown",
   "metadata": {
    "slideshow": {
     "slide_type": "slide"
    }
   },
   "source": [
    "##  Exercises"
   ]
  },
  {
   "cell_type": "markdown",
   "metadata": {},
   "source": [
    "1.  Apply the power method to the $2 \\times 2$ matrix\n",
    "$$\n",
    "  B = \\left(\\begin{array}{cc}\n",
    "  2 & 2 \\\\\n",
    "  3 & 1\n",
    "  \\end{array}\\right)\n",
    "$$\n",
    "from above.  Which eigenvalue and which eigenvector can be found in this way?\n",
    "\n",
    "1.  Compute the characteristic polynomial and the eigenvalues of the matrix\n",
    "$$\n",
    "M = \\left(\\begin{array}{cccc}\n",
    "0&0&1&0\\\\0&0&1&0\\\\0&0&0&1\\\\1&1&0&0\n",
    "\\end{array}\\right).\n",
    "$$"
   ]
  },
  {
   "cell_type": "markdown",
   "metadata": {},
   "source": [
    "3. Compute the eigenvector and degree centralities of the nodes of the Petersen graph. What do you observe?"
   ]
  }
 ],
 "metadata": {
  "celltoolbar": "Slideshow",
  "kernelspec": {
   "display_name": "Python 3 (ipykernel)",
   "language": "python",
   "name": "python3"
  },
  "language_info": {
   "codemirror_mode": {
    "name": "ipython",
    "version": 3
   },
   "file_extension": ".py",
   "mimetype": "text/x-python",
   "name": "python",
   "nbconvert_exporter": "python",
   "pygments_lexer": "ipython3",
   "version": "3.9.7"
  }
 },
 "nbformat": 4,
 "nbformat_minor": 2
}
