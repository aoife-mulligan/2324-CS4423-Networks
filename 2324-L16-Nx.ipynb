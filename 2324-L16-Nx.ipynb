{
 "cells": [
  {
   "cell_type": "markdown",
   "metadata": {
    "slideshow": {
     "slide_type": "skip"
    }
   },
   "source": [
    "### CS4423 - Networks\n",
    "Angela Carnevale   \n",
    "School of Mathematical and Statistical Sciences  \n",
    "Universiry of Galway"
   ]
  },
  {
   "cell_type": "markdown",
   "metadata": {
    "slideshow": {
     "slide_type": "slide"
    }
   },
   "source": [
    "# Week 8, lecture 2: \n",
    "\n",
    "# Phase Transitions: Subgraphs and Giant Component. \n"
   ]
  },
  {
   "cell_type": "code",
   "execution_count": null,
   "metadata": {
    "slideshow": {
     "slide_type": "subslide"
    }
   },
   "outputs": [],
   "source": [
    "import networkx as nx\n",
    "import numpy as np\n",
    "opts = { \"with_labels\" : True, \"node_color\": 'y' }"
   ]
  },
  {
   "cell_type": "markdown",
   "metadata": {
    "slideshow": {
     "slide_type": "slide"
    }
   },
   "source": [
    "#### 4. Random Graphs.\n",
    "\n",
    "## Phase Transitions"
   ]
  },
  {
   "cell_type": "markdown",
   "metadata": {
    "slideshow": {
     "slide_type": "subslide"
    }
   },
   "source": [
    "* For the random graph $G(n, p)$, we now suppose that $p = p(n)$ is a function of the number of nodes.\n",
    "\n",
    "* We study the ensemble of graphs $G(n, p(n))$, as $n \\to \\infty$.\n",
    "\n",
    "* Typically, $p(n) = c n^{-e}=\\frac{c}{n^e}$, for real numbers $c, e$."
   ]
  },
  {
   "cell_type": "markdown",
   "metadata": {
    "slideshow": {
     "slide_type": "subslide"
    }
   },
   "source": [
    "* To say that **almost every graph has a property $Q$** means that the\n",
    "probability of a graph in the ensemble to have property $Q$ tends to $1$,\n",
    "as $n \\to \\infty$."
   ]
  },
  {
   "cell_type": "markdown",
   "metadata": {
    "slideshow": {
     "slide_type": "subslide"
    }
   },
   "source": [
    "* For a given property $Q$, there is a **critical probablity function** $p_Q(n)$\n",
    "such that \n",
    "\n",
    "    * a.e. graph in $G(n, p(n))$ has property $Q$ if $p(n)$ **decays slower** than $p_Q(n)$,\n",
    "and \n",
    "\n",
    "    * a.e. graph in $G(n, p(n))$ fails to have property $Q$ if $p(n)$ **decays faster** than $p_Q(n)$. "
   ]
  },
  {
   "cell_type": "markdown",
   "metadata": {
    "slideshow": {
     "slide_type": "subslide"
    }
   },
   "source": [
    "* If $Q$ is concerned with specific subgraphs, and if $p(n) \\propto p_Q(n)$, we can determine the number of\n",
    "appearances of such subgraph in the network."
   ]
  },
  {
   "cell_type": "markdown",
   "metadata": {
    "slideshow": {
     "slide_type": "subslide"
    }
   },
   "source": [
    "**Theorem (Appearance of Subgraphs).**\n",
    "Let $F$ be a connected graph with $a$ nodes and $b$ edges (that is, $b\\geq a-1$)."
   ]
  },
  {
   "cell_type": "markdown",
   "metadata": {
    "slideshow": {
     "slide_type": "fragment"
    }
   },
   "source": [
    "* If $p(n)/n^{-a/b} \\to 0$ then almost every graph in the ensemble $G(n, p(n))$ **does not** contain a copy of $F$.\n",
    "\n",
    "* If $p(n)/n^{-a/b} \\to \\infty$ then almost every graph in the ensemble $G(n, p(n))$ **does** contain a copy of $F$."
   ]
  },
  {
   "cell_type": "markdown",
   "metadata": {
    "slideshow": {
     "slide_type": "subslide"
    }
   },
   "source": [
    "* If $p(n) = c n^{-a/b}$ then, as $n \\to \\infty$, the number $n_F$ of $F$-subgraphs in $G$ follows a distribution\n",
    "$$\\mathrm{Pois}(\\lambda, r),$$ where $\\lambda = c^b/|\\mathrm{Aut(F)}|$,\n",
    "with $|\\mathrm{Aut}(F)|$ being the number of *automorphisms* (read: symmetries) of $F$. \n",
    "\n",
    "That is, the probability of $n_F=r$ is $\\mathrm{Pois}(\\lambda, r)$."
   ]
  },
  {
   "cell_type": "markdown",
   "metadata": {
    "slideshow": {
     "slide_type": "subslide"
    }
   },
   "source": [
    "* So the critical probability function $p_Q(n)$ for $Q$ being the appearance of a subgraph $F$ with $a$ nodes and $b$ edges is $p_Q(n) = c n^{-a/b}$."
   ]
  },
  {
   "cell_type": "markdown",
   "metadata": {
    "slideshow": {
     "slide_type": "subslide"
    }
   },
   "source": [
    "For example:\n",
    "\n",
    "* **Trees**  with $a$ nodes ($b = a - 1$) appear when $p(n) = c n^{-a/(a-1)}$.\n",
    "* **Cycles** of order $a$ (where $b = a$) appear when $p(n) = c n^{-1}$.\n",
    "* **Complete** subgraphs of order $a$ (where $b = \\binom{a}{2} = \\frac12 a(a-1)$) appear when $p(n) = c n^{-2/(a-1)}$."
   ]
  },
  {
   "cell_type": "markdown",
   "metadata": {
    "slideshow": {
     "slide_type": "subslide"
    }
   },
   "source": [
    "In practice, we can estimate $n_F$ as follows:\n",
    "* there are $\\binom{n}{a}$ ways to pick $a$ nodes from a graph $G$ on $n$ nodes;\n",
    "* between them, $b$ links are present with probability $p^b$;\n",
    "* permuting the $a$ nodes of $F$ yields $a!/|\\mathrm{Aut}(F)|$ copies of this configuration."
   ]
  },
  {
   "cell_type": "markdown",
   "metadata": {
    "slideshow": {
     "slide_type": "subslide"
    }
   },
   "source": [
    "That is, in total there are \n",
    "$$\n",
    "n_F = \\frac{n!}{a!(n-a)!}p^b \\cdot\\frac{a!}{ |\\mathrm{Aut}(F)|} =$$ $$ = \\frac{n! p^b}{(n-a)! |\\mathrm{Aut}(F)|} \\approx \\frac{n^a p^b}{|\\mathrm{Aut}(F)|}\n",
    "$$\n",
    "copies of $F$ in $G$.\n",
    "* Note how this number depends only on $a$ and $b$."
   ]
  },
  {
   "cell_type": "markdown",
   "metadata": {
    "slideshow": {
     "slide_type": "subslide"
    }
   },
   "source": [
    "**Example.** Numbers of \n",
    "* triads (trees on 3 vertices) with $a = 3$, $b = 2$ and $|\\mathrm{Aut}(F)| = 2$.  $$3 \\binom{n}{3} p^2 = \\tfrac12 n(n-1)(n-2)p^2 \\approx \\frac12 n^3 p^2,$$"
   ]
  },
  {
   "cell_type": "markdown",
   "metadata": {
    "slideshow": {
     "slide_type": "subslide"
    }
   },
   "source": [
    "* triangles where $a = b = 3$ and $|\\mathrm{Aut}(F)| = 6$: $\\binom{n}{3} p^3 = \\tfrac16 n(n-1)(n-2)p^3 \\approx \\frac16 n^3 p^3$."
   ]
  },
  {
   "cell_type": "markdown",
   "metadata": {
    "slideshow": {
     "slide_type": "skip"
    }
   },
   "source": [
    "* star graph with $a = 4$, $b =3$ and $|\\mathrm{Aut}(F)| = 6$: $$4 \\binom{n}{4} p^3 = \\tfrac16 n(n-1)(n-2)(n-3) p^3 \\approx \\tfrac16 n^4 p^3,$$"
   ]
  },
  {
   "cell_type": "markdown",
   "metadata": {
    "slideshow": {
     "slide_type": "subslide"
    }
   },
   "source": [
    "* The actual **number of triads** in a graph $G$ can be determined from its **degree distribution**, as\n",
    "each node of degree $k$ is the central node of exactly $\\binom{k}{2}$ triads (why?)\n",
    "* `networkx` does not seem to have a function for that specific purpose, but `degree` is good enough."
   ]
  },
  {
   "cell_type": "code",
   "execution_count": null,
   "metadata": {
    "slideshow": {
     "slide_type": "subslide"
    }
   },
   "outputs": [],
   "source": [
    "n, m = 100, 100 # for a graph in the Gnm model\n",
    "p = 2*m/n/(n-1) # for an analogous graph in the Gnp model\n",
    "print(f\"Expect {n*(n-1)*(n-2) * p**2/2} triads\")"
   ]
  },
  {
   "cell_type": "code",
   "execution_count": null,
   "metadata": {
    "slideshow": {
     "slide_type": "fragment"
    }
   },
   "outputs": [],
   "source": [
    "G = nx.gnm_random_graph(n, m)\n",
    "sum(k*(k-1)//2 for k in dict(G.degree()).values())"
   ]
  },
  {
   "cell_type": "code",
   "execution_count": null,
   "metadata": {
    "slideshow": {
     "slide_type": "fragment"
    }
   },
   "outputs": [],
   "source": [
    "G2 = nx.gnp_random_graph(n, p)\n",
    "sum(k*(k-1)//2 for k in dict(G2.degree()).values())"
   ]
  },
  {
   "cell_type": "markdown",
   "metadata": {
    "slideshow": {
     "slide_type": "subslide"
    }
   },
   "source": [
    "* The actual **number of triangles** in a graph $G$ with adjacency matrix $A$ is $\\frac16$ of the trace of $A^3$ (why?)\n",
    "* Also, the `networkx` function `triangles` returns a dictionary, reporting for each node the number of triangles it is involved in."
   ]
  },
  {
   "cell_type": "code",
   "execution_count": null,
   "metadata": {
    "slideshow": {
     "slide_type": "subslide"
    }
   },
   "outputs": [],
   "source": [
    "n, m = 100, 300\n",
    "p = 2*m/n/(n-1)  ## for a graph in the Gnp model with n nodes  \n",
    "                 ## and approx m edges\n",
    "print(f\"Expect {n*(n-1)*(n-2) * p**3/6} triangles\")"
   ]
  },
  {
   "cell_type": "code",
   "execution_count": null,
   "metadata": {
    "slideshow": {
     "slide_type": "fragment"
    }
   },
   "outputs": [],
   "source": [
    "G = nx.gnp_random_graph(n, p)\n",
    "sum(nx.triangles(G).values())//3 ## each triangle is accounted for three times, so we divide by 3"
   ]
  },
  {
   "cell_type": "code",
   "execution_count": null,
   "metadata": {
    "slideshow": {
     "slide_type": "fragment"
    }
   },
   "outputs": [],
   "source": [
    "A = nx.adjacency_matrix(G)\n",
    "np.trace((A**3).toarray())//6"
   ]
  },
  {
   "cell_type": "markdown",
   "metadata": {
    "slideshow": {
     "slide_type": "subslide"
    }
   },
   "source": [
    "* Moreover, $p(n) = \\frac1n \\ln n$ is the threshold probability for $G$ to be connected.\n",
    "(This corresponds to $m = \\frac12 n \\ln n$ in model $A$.)"
   ]
  },
  {
   "cell_type": "markdown",
   "metadata": {
    "slideshow": {
     "slide_type": "slide"
    }
   },
   "source": [
    "##  The Giant Connected Component"
   ]
  },
  {
   "cell_type": "markdown",
   "metadata": {
    "slideshow": {
     "slide_type": "subslide"
    }
   },
   "source": [
    "**Definition (Giant Component).**\n",
    "A connected component of a graph $G$ is called a **giant component**\n",
    "if its number of nodes increases with the order $n$ of $G$ as\n",
    "some positive power of $n$."
   ]
  },
  {
   "cell_type": "markdown",
   "metadata": {
    "slideshow": {
     "slide_type": "subslide"
    }
   },
   "source": [
    "Suppose $p(n) = cn^{-1}$ for some positive constant $c$.  (Then the average degree $\\langle k \\rangle = pn = c$ remains fixed as $n \\to \\infty$.)"
   ]
  },
  {
   "cell_type": "markdown",
   "metadata": {
    "slideshow": {
     "slide_type": "subslide"
    }
   },
   "source": [
    "**Theorem (Erdős-Rényi)**.\n",
    "* If $c < 1$ the graph contains many small components, orders bounded by $O(\\ln n)$.\n",
    "* If $c = 1$ the graph has large components of order $O(n^{2/3})$.\n",
    "* If $c > 1$ there is a unique **giant component** of order $O(n)$."
   ]
  },
  {
   "cell_type": "markdown",
   "metadata": {
    "slideshow": {
     "slide_type": "subslide"
    }
   },
   "source": [
    "* In practice, in a given graph $G$ of order $n$, \n",
    "a giant component \n",
    "appears when the average degree is $1$, i.e., if $m = \\frac12n$, and then\n",
    "has order $n^{2/3}$\n",
    "(e.g., $100^{2/3} \\approx 21.5$.)"
   ]
  },
  {
   "cell_type": "markdown",
   "metadata": {
    "slideshow": {
     "slide_type": "slide"
    }
   },
   "source": [
    "#### 5. Small Worlds"
   ]
  },
  {
   "cell_type": "markdown",
   "metadata": {
    "slideshow": {
     "slide_type": "fragment"
    }
   },
   "source": [
    "Many real world networks are **small world networks**,\n",
    "where most pairs of nodes are only a few steps away from each other,\n",
    "and where nodes tend to form cliques, i.e., subgraphs having\n",
    "all nodes connected to each other."
   ]
  },
  {
   "cell_type": "markdown",
   "metadata": {
    "slideshow": {
     "slide_type": "subslide"
    }
   },
   "source": [
    "* For example, [MathSciNet](https://mathscinet-ams-org.nuigalway.idm.oclc.org/mathscinet/index.html)\n",
    "allows its users to explore distances between authors in the collaborations network. The distance of an author to Erdös is \n",
    "know as this author's [Erdös number](https://en.wikipedia.org/wiki/Erd%C5%91s_number).\n",
    "\n",
    "* Or, for a cinematographic version of this phenomenon have a look at the [six degrees of Kevin Bacon](https://en.wikipedia.org/wiki/Six_Degrees_of_Kevin_Bacon)."
   ]
  },
  {
   "cell_type": "markdown",
   "metadata": {
    "slideshow": {
     "slide_type": "subslide"
    }
   },
   "source": [
    "We introduce **three network attributes** that measure these small-world\n",
    "effects:\n",
    "\n",
    "* the **characteristic path length** $L$, defined as the\n",
    "  _average length of all shortest paths in the network_;\n",
    "  \n",
    "* the **transitivity** $T$, defined as the _proportion of\n",
    "  triads that form triangles_;\n",
    "  \n",
    "* the **clustering coefficient** $C$, defined as the\n",
    "  _average node clustering coefficient_."
   ]
  },
  {
   "cell_type": "markdown",
   "metadata": {
    "slideshow": {
     "slide_type": "subslide"
    }
   },
   "source": [
    "In terms of these attributes, a network is called a **small world network** if it has \n",
    "\n",
    "1. a small **average shortest path length** $L$\n",
    "(scaling with $\\log n$, where $n$ is the number of nodes), and\n",
    "2. a high **clustering coefficient** $C$."
   ]
  },
  {
   "cell_type": "markdown",
   "metadata": {
    "slideshow": {
     "slide_type": "subslide"
    }
   },
   "source": [
    "It turns out that ER random networks do have a small average shortest path length,\n",
    "but not a high clustering coefficient.\n",
    "This observation justifies the need for a different model of\n",
    "random networks, if they are to be used to model the \n",
    "clustering behavior of real world networks."
   ]
  },
  {
   "cell_type": "markdown",
   "metadata": {
    "slideshow": {
     "slide_type": "slide"
    }
   },
   "source": [
    "##  Code Corner"
   ]
  },
  {
   "cell_type": "markdown",
   "metadata": {
    "slideshow": {
     "slide_type": "subslide"
    }
   },
   "source": [
    "### `networkx`"
   ]
  },
  {
   "cell_type": "markdown",
   "metadata": {
    "slideshow": {
     "slide_type": "subslide"
    }
   },
   "source": [
    "* `triangles`: [[doc]](https://networkx.org/documentation/stable/reference/algorithms/generated/networkx.algorithms.cluster.triangles.html)\n",
    "\n"
   ]
  },
  {
   "cell_type": "code",
   "execution_count": null,
   "metadata": {},
   "outputs": [],
   "source": []
  }
 ],
 "metadata": {
  "celltoolbar": "Slideshow",
  "kernelspec": {
   "display_name": "Python 3 (ipykernel)",
   "language": "python",
   "name": "python3"
  },
  "language_info": {
   "codemirror_mode": {
    "name": "ipython",
    "version": 3
   },
   "file_extension": ".py",
   "mimetype": "text/x-python",
   "name": "python",
   "nbconvert_exporter": "python",
   "pygments_lexer": "ipython3",
   "version": "3.9.7"
  }
 },
 "nbformat": 4,
 "nbformat_minor": 2
}
