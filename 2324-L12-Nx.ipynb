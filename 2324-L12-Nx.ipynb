{
 "cells": [
  {
   "cell_type": "markdown",
   "metadata": {
    "slideshow": {
     "slide_type": "skip"
    }
   },
   "source": [
    "### CS4423 - Networks\n",
    "Angela Carnevale  \n",
    "School of Mathematical and Statistical Sciences  \n",
    "University of Galway"
   ]
  },
  {
   "cell_type": "markdown",
   "metadata": {
    "slideshow": {
     "slide_type": "slide"
    }
   },
   "source": [
    "#### 3. Centrality Measures\n",
    "\n",
    "# Week 6, lecture 2: Betweenness Centrality.  Examples. A note on graph isomorphism"
   ]
  },
  {
   "cell_type": "code",
   "execution_count": 1,
   "metadata": {
    "slideshow": {
     "slide_type": "subslide"
    }
   },
   "outputs": [],
   "source": [
    "import networkx as nx\n",
    "import pandas as pd\n",
    "import yaml\n",
    "from queue import Queue\n",
    "opts = { \"with_labels\": True, \"node_color\": 'y'}"
   ]
  },
  {
   "cell_type": "markdown",
   "metadata": {
    "slideshow": {
     "slide_type": "subslide"
    }
   },
   "source": [
    "Next, recover the graph `G` of marital ties between Florentine families, together with the node attributes we have already determined."
   ]
  },
  {
   "cell_type": "code",
   "execution_count": 2,
   "metadata": {
    "slideshow": {
     "slide_type": "fragment"
    }
   },
   "outputs": [],
   "source": [
    "with open('data/florentine.yml', 'r') as f:\n",
    "    G=yaml.load(f,Loader=yaml.Loader)\n",
    "    "
   ]
  },
  {
   "cell_type": "markdown",
   "metadata": {
    "slideshow": {
     "slide_type": "slide"
    }
   },
   "source": [
    "## Betweenness Centrality"
   ]
  },
  {
   "cell_type": "markdown",
   "metadata": {
    "slideshow": {
     "slide_type": "subslide"
    }
   },
   "source": [
    "Recall the definitions of **betweenness centrality** of a node and its normalised analogue."
   ]
  },
  {
   "cell_type": "markdown",
   "metadata": {
    "slideshow": {
     "slide_type": "subslide"
    }
   },
   "source": [
    "**Definition (Betweenness Centrality).**\n",
    "In a simple, connected graph $G$, the **betweenness centrality** $c_i^B$ of node $i$\n",
    "is defined as\n",
    "$$\n",
    "c_i^B = \\sum_{j \\neq i} \\sum_{k \\neq i} \\frac{n_{jk}(i)}{n_{jk}},\n",
    "$$\n",
    "where $n_{jk}$ denotes the **number** of shortest paths from\n",
    "node $j$ to node $k$, and where $n_{jk}(i)$ denotes the\n",
    "number of those shortest paths **passing through** node $i$."
   ]
  },
  {
   "cell_type": "markdown",
   "metadata": {
    "slideshow": {
     "slide_type": "subslide"
    }
   },
   "source": [
    "The **normalised betweenness centrality** of node $i$, defined as\n",
    "$$\n",
    "C_i^B = \\frac{c_i^B}{(n-1)(n-2)}\n",
    "$$\n",
    "takes values in the interval $[0, 1]$.\n",
    "</div>"
   ]
  },
  {
   "cell_type": "markdown",
   "metadata": {
    "slideshow": {
     "slide_type": "fragment"
    }
   },
   "source": [
    "* Note that $(n-1)(n-2)$ is the largest number of shortest paths beween pairs of distinct nodes that a given node could possibly sit on."
   ]
  },
  {
   "cell_type": "markdown",
   "metadata": {
    "slideshow": {
     "slide_type": "subslide"
    }
   },
   "source": [
    "* How to compute $C_i^B$?"
   ]
  },
  {
   "cell_type": "markdown",
   "metadata": {
    "slideshow": {
     "slide_type": "subslide"
    }
   },
   "source": [
    "**BFS once more.**  This time as follows:\n",
    "\n",
    "* A python function which returns a **dictionary** that contains, for each node $x$, a list of **immediate predecessors** of $y$ in a shortest path from $x$ to $y$.  \n",
    "\n",
    "* We have already seen that this another piece of information that BFS can determine\n",
    "on the fly: when constructing a **spanning tree** while traversing a graph, we need to remember **one**\n",
    "immediate predecessor for each newly discovered node.  \n",
    "\n",
    "* Here we determine and remember **all** immediate\n",
    "predecessors, requiring little if no extra work."
   ]
  },
  {
   "cell_type": "markdown",
   "metadata": {
    "slideshow": {
     "slide_type": "subslide"
    }
   },
   "source": [
    "From this list of predecessors, one can then recursively reconstruct **all shortest paths** from $x$ to $y$.\n",
    "We still need to keep track of the shortest path lengths in order to decide which neighbor $x$\n",
    "actually is a predecessor of $y$."
   ]
  },
  {
   "cell_type": "code",
   "execution_count": 14,
   "metadata": {
    "slideshow": {
     "slide_type": "subslide"
    }
   },
   "outputs": [],
   "source": [
    "def predecessors(G, x):\n",
    "    \n",
    "    # 1. init: set up the two dictionaries and queue\n",
    "    dists = { y: None for y in G } # distances\n",
    "    preds = { y: [] for y in G } \n",
    "    Q = Queue()\n",
    "    dists[x] = 0\n",
    "    Q.put(x)\n",
    "    \n",
    "    # 2. loop\n",
    "    while not Q.empty():\n",
    "        y = Q.get()\n",
    "        for z in G.neighbors(y):\n",
    "            if dists[z] is None:\n",
    "                dists[z] = dists[y] + 1\n",
    "                preds[z].append(y)\n",
    "                Q.put(z)\n",
    "            elif dists[z] > dists[y]:\n",
    "                preds[z].append(y)\n",
    "    \n",
    "    # 3. stop here\n",
    "    return preds"
   ]
  },
  {
   "cell_type": "code",
   "execution_count": null,
   "metadata": {
    "slideshow": {
     "slide_type": "subslide"
    }
   },
   "outputs": [],
   "source": [
    "p = predecessors(G, 'Medici')\n",
    "p"
   ]
  },
  {
   "cell_type": "code",
   "execution_count": null,
   "metadata": {
    "slideshow": {
     "slide_type": "subslide"
    }
   },
   "outputs": [],
   "source": [
    "nx.draw(G, **opts)"
   ]
  },
  {
   "cell_type": "markdown",
   "metadata": {
    "slideshow": {
     "slide_type": "subslide"
    }
   },
   "source": [
    "Using the **predecessor lists** with respect to $x$, the **shortest paths** from $x$ to $y$ can be enumerated recursively:\n",
    "* if $y = x$: the shortest path from $x$ to itself is the empty path starting an ending at $x$.\n",
    "* else, if $y \\neq x$ then each shortest path from $x$ to $y$ travels through\n",
    "  exactly one of $y$'s predecessors ... and ends in $y$."
   ]
  },
  {
   "cell_type": "markdown",
   "metadata": {
    "slideshow": {
     "slide_type": "subslide"
    }
   },
   "source": [
    "So, in formulas, $S_x(x) = \\{(x)\\}$ and\n",
    "$$\n",
    "S_x(y) = \\{ p + (y) : p \\in S_x(z),\\, z \\in \\mathrm{pre}_x(y)\\}\n",
    "$$"
   ]
  },
  {
   "cell_type": "code",
   "execution_count": null,
   "metadata": {
    "slideshow": {
     "slide_type": "subslide"
    }
   },
   "outputs": [],
   "source": [
    "def shortest_paths(x, y, pre):\n",
    "    if x == y:\n",
    "        return [[x]]\n",
    "    paths = []\n",
    "    for z in pre[y]:\n",
    "        for path in shortest_paths(x, z, pre):\n",
    "            paths.append(path + [y])\n",
    "    return paths"
   ]
  },
  {
   "cell_type": "code",
   "execution_count": null,
   "metadata": {
    "slideshow": {
     "slide_type": "subslide"
    }
   },
   "outputs": [],
   "source": [
    "def spaths(x, y, pre):\n",
    "    if x == y:\n",
    "        return [[x]]\n",
    "    return [ p + [y] for p in spaths(x, z, pre) for z in pre[y] ]"
   ]
  },
  {
   "cell_type": "code",
   "execution_count": null,
   "metadata": {
    "slideshow": {
     "slide_type": "subslide"
    }
   },
   "outputs": [],
   "source": [
    "shortest_paths('Medici', 'Bischeri', p)"
   ]
  },
  {
   "cell_type": "markdown",
   "metadata": {
    "slideshow": {
     "slide_type": "subslide"
    }
   },
   "source": [
    "* Now compute betweenness:"
   ]
  },
  {
   "cell_type": "code",
   "execution_count": null,
   "metadata": {},
   "outputs": [],
   "source": [
    "betweenness = { x : 0.0 for x in G }\n",
    "n = G.order()"
   ]
  },
  {
   "cell_type": "code",
   "execution_count": null,
   "metadata": {
    "slideshow": {
     "slide_type": "subslide"
    }
   },
   "outputs": [],
   "source": [
    "for x in G: \n",
    "    pre = predecessors(G, x)\n",
    "    for y in G:\n",
    "        paths = shortest_paths(x, y, pre)\n",
    "        njk = len(paths)*(n-1)*(n-2)  # normalize\n",
    "        for p in paths:\n",
    "            for z in p[1:-1]:  # exclude endpoints\n",
    "                betweenness[z] += 1/njk # add 1 (normalised) to betweenness of x\n",
    "                                        # every time a shortest path passes through z"
   ]
  },
  {
   "cell_type": "code",
   "execution_count": null,
   "metadata": {
    "slideshow": {
     "slide_type": "subslide"
    }
   },
   "outputs": [],
   "source": [
    "betweenness"
   ]
  },
  {
   "cell_type": "markdown",
   "metadata": {
    "slideshow": {
     "slide_type": "subslide"
    }
   },
   "source": [
    "* Compare the results to the `networkx` version of betweenness:"
   ]
  },
  {
   "cell_type": "code",
   "execution_count": null,
   "metadata": {
    "scrolled": true
   },
   "outputs": [],
   "source": [
    "nx.betweenness_centrality(G)"
   ]
  },
  {
   "cell_type": "code",
   "execution_count": null,
   "metadata": {
    "slideshow": {
     "slide_type": "subslide"
    }
   },
   "outputs": [],
   "source": [
    "nx.draw(G, **opts)"
   ]
  },
  {
   "cell_type": "markdown",
   "metadata": {
    "slideshow": {
     "slide_type": "subslide"
    }
   },
   "source": [
    "* Finally, let's add the normalized betweenness centralities as attributes to the\n",
    "nodes of the graph, and display the resulting table."
   ]
  },
  {
   "cell_type": "code",
   "execution_count": null,
   "metadata": {
    "slideshow": {
     "slide_type": "fragment"
    }
   },
   "outputs": [],
   "source": [
    "nx.set_node_attributes(G, betweenness, '$C_i^B$')"
   ]
  },
  {
   "cell_type": "code",
   "execution_count": null,
   "metadata": {
    "scrolled": true,
    "slideshow": {
     "slide_type": "subslide"
    }
   },
   "outputs": [],
   "source": [
    "pd.DataFrame.from_dict(\n",
    "    dict(G.nodes(data=True)), \n",
    "    orient='index'\n",
    ").sort_values('degree', ascending=False)"
   ]
  },
  {
   "cell_type": "code",
   "execution_count": null,
   "metadata": {},
   "outputs": [],
   "source": [
    "with open('data/florentine.yml', 'w') as f:\n",
    "    yaml.dump(G,f)"
   ]
  },
  {
   "cell_type": "markdown",
   "metadata": {
    "slideshow": {
     "slide_type": "slide"
    }
   },
   "source": [
    "##  Summary and examples"
   ]
  },
  {
   "cell_type": "markdown",
   "metadata": {
    "slideshow": {
     "slide_type": "subslide"
    }
   },
   "source": [
    "There are many different ways to be important.  As a node in a network, you are important if\n",
    "* you have **many friends** (degree centrality)\n",
    "* you have **important friends** (eigenvector centrality)\n",
    "* you are **close** to many (closeness centrality)\n",
    "* many interactions **pass through** you (betweenness centralty)."
   ]
  },
  {
   "cell_type": "markdown",
   "metadata": {
    "slideshow": {
     "slide_type": "subslide"
    }
   },
   "source": [
    "Recall that $C_i^C$ is the normalized closeness centrality of node $i$.  Why\n",
    "   is $0 \\leq C_i^C \\leq 1$?  When is $C_i^C = 1$?  Is $C_i^C$ ever $0$?\n",
    "\n"
   ]
  },
  {
   "cell_type": "markdown",
   "metadata": {
    "slideshow": {
     "slide_type": "subslide"
    }
   },
   "source": [
    "In a graph of order $n$, the **normalised closeness centrality** of node $i$, defined as\n",
    "$$\n",
    "C_i^C = (n-1) c_i^C= {(n-1)}{\\left(\\sum_{j=1}^n d_{ij}\\right)^{-1}}\n",
    "$$\n",
    "takes values in the interval $[0, 1]$."
   ]
  },
  {
   "cell_type": "markdown",
   "metadata": {
    "slideshow": {
     "slide_type": "subslide"
    }
   },
   "source": [
    "In a connected network of order $n$, a node of degree $n-1$ will have normalised closeness centrality $1$."
   ]
  },
  {
   "cell_type": "markdown",
   "metadata": {
    "slideshow": {
     "slide_type": "subslide"
    }
   },
   "source": [
    "Recall that $C_i^B$ is the normalized betweenness centrality of node $i$.\n",
    "   Why is $0 \\leq C_i^B \\leq 1$?  When is $C_i^B = 1$?  Is $C_i^B$ ever $0$?"
   ]
  },
  {
   "cell_type": "markdown",
   "metadata": {
    "slideshow": {
     "slide_type": "subslide"
    }
   },
   "source": [
    "A leaf (node of degree 1) will have betweenness centrality 0."
   ]
  },
  {
   "cell_type": "markdown",
   "metadata": {
    "slideshow": {
     "slide_type": "slide"
    }
   },
   "source": [
    "#### Back to...\n",
    "\n",
    "## A note on Graph Isomorphism and Symmetries"
   ]
  },
  {
   "cell_type": "markdown",
   "metadata": {
    "slideshow": {
     "slide_type": "subslide"
    }
   },
   "source": [
    "* Two graphs $G = (X, E)$ and $H = (Y, F)$ are said to be **isomorphic** if there\n",
    "is an edge-preserving bijection between their vertex sets $X$ and $Y$.\n",
    "\n",
    "* [Deciding graph isomorphism](https://en.wikipedia.org/wiki/Graph_isomorphism_problem)\n",
    "is computationally hard.\n",
    "\n",
    "* An isomorphism of a graph $G$ with itself is called an **automorphism**,\n",
    "or a **symmetry** of $G$.\n",
    "\n",
    "* Symmetries, or the lack thereof, are interesting properties of networks.\n",
    "\n",
    "* For instance, in random selections, like the random trees on $n$ vertices, it turns out that **more symmetric species are less frequently picked**."
   ]
  },
  {
   "cell_type": "markdown",
   "metadata": {
    "slideshow": {
     "slide_type": "subslide"
    }
   },
   "source": [
    "Morally, this is because graph symmetries are properties of an isomorphism class, rather than a specific graph or network. Let's gather an intuition for this by looking at (small) trees."
   ]
  },
  {
   "cell_type": "markdown",
   "metadata": {
    "slideshow": {
     "slide_type": "slide"
    }
   },
   "source": [
    "## Trees on 4 vertices"
   ]
  },
  {
   "cell_type": "markdown",
   "metadata": {
    "slideshow": {
     "slide_type": "fragment"
    }
   },
   "source": [
    "\n",
    "![4-trees](images/t4.png)"
   ]
  },
  {
   "cell_type": "markdown",
   "metadata": {
    "slideshow": {
     "slide_type": "subslide"
    }
   },
   "source": [
    "According to Cayley's formula, there are indeed $4^{4-2} = 16$ **labelled** trees on $n = 4$ vertices.  But overall, we only see $2$\n",
    "distinct structures: \n",
    "* a **path graph** of length $3$, and \n",
    "* a **star graph** with $3$ spikes."
   ]
  },
  {
   "cell_type": "markdown",
   "metadata": {
    "slideshow": {
     "slide_type": "fragment"
    }
   },
   "source": [
    "These structures are known as **unlabelled trees**\n",
    "(as opposed to a **labelled tree**, where each node corresponds to\n",
    "a specific element of $\\{0, \\dots, n{-}1\\}$)."
   ]
  },
  {
   "cell_type": "code",
   "execution_count": null,
   "metadata": {
    "slideshow": {
     "slide_type": "subslide"
    }
   },
   "outputs": [],
   "source": [
    "n = 4\n",
    "T = nx.random_tree(n)\n",
    "nx.draw(T)"
   ]
  },
  {
   "cell_type": "markdown",
   "metadata": {
    "slideshow": {
     "slide_type": "subslide"
    }
   },
   "source": [
    "As a random graph, the path graph occurs far more often than\n",
    "the star graph.  Is there something wrong with the assumption of uniform\n",
    "distribution?"
   ]
  },
  {
   "cell_type": "markdown",
   "metadata": {
    "slideshow": {
     "slide_type": "subslide"
    }
   },
   "source": [
    "No, there isn't.  It's just that the line **shape** appears more often than the\n",
    "star **shape** in the full list of all **labelled** graphs on 4 points. How often a **shape** appears is a function of how many symmetries (=how many automorphisms) it has."
   ]
  },
  {
   "cell_type": "markdown",
   "metadata": {
    "slideshow": {
     "slide_type": "fragment"
    }
   },
   "source": [
    "Morally, fewer symmetries means that a **shape** will occur more often."
   ]
  },
  {
   "cell_type": "markdown",
   "metadata": {
    "slideshow": {
     "slide_type": "slide"
    }
   },
   "source": [
    "From next week and for a while, we will be mostly interested in average/global properties of graphs sampled from random models. In that case, we won't be thinking of specific graphs but rather about structural features of graphs that can occur when sampling."
   ]
  },
  {
   "cell_type": "markdown",
   "metadata": {
    "slideshow": {
     "slide_type": "slide"
    }
   },
   "source": [
    "##  Code Corner"
   ]
  },
  {
   "cell_type": "markdown",
   "metadata": {
    "slideshow": {
     "slide_type": "subslide"
    }
   },
   "source": [
    "### `networkx`"
   ]
  },
  {
   "cell_type": "markdown",
   "metadata": {},
   "source": [
    "* `closeness_centrality`: [[doc]](https://networkx.github.io/documentation/stable/reference/algorithms/generated/networkx.algorithms.centrality.closeness_centrality.html#networkx.algorithms.centrality.closeness_centrality)\n",
    "   \n",
    "    \n",
    "* `betweenness_centrality`: [[doc]](https://networkx.github.io/documentation/stable/reference/algorithms/generated/networkx.algorithms.centrality.betweenness_centrality.html#networkx.algorithms.centrality.betweenness_centrality)"
   ]
  },
  {
   "cell_type": "code",
   "execution_count": null,
   "metadata": {},
   "outputs": [],
   "source": []
  }
 ],
 "metadata": {
  "celltoolbar": "Slideshow",
  "kernelspec": {
   "display_name": "Python 3 (ipykernel)",
   "language": "python",
   "name": "python3"
  },
  "language_info": {
   "codemirror_mode": {
    "name": "ipython",
    "version": 3
   },
   "file_extension": ".py",
   "mimetype": "text/x-python",
   "name": "python",
   "nbconvert_exporter": "python",
   "pygments_lexer": "ipython3",
   "version": "3.9.7"
  }
 },
 "nbformat": 4,
 "nbformat_minor": 2
}
